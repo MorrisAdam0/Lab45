{
 "cells": [
  {
   "cell_type": "markdown",
   "id": "12f270d6",
   "metadata": {},
   "source": [
    "# <img src=\"https://ukcatalysishub.co.uk/wp-content/uploads/2020/04/Diamond-light-source-logo-lowres.jpg\" width=\"150px\" class=\"pull-right\" style=\"display: inline-block; margin-top: 5px;\">\n",
    "# <span style=\"font-size:larger;font-weight:bold;text-decoration:underline;\">Linear Sweep Voltammogram(LSV) Integrator</span>\n",
    "\n",
    "## Calculating regression models for LSV's and calculating definite integrals\n",
    "### By Adam Morris"
   ]
  },
  {
   "cell_type": "markdown",
   "id": "7113c66b",
   "metadata": {},
   "source": [
    "<details>\n",
    "    <summary> <strong>⬇️ Click on me to see a summary of this script ⬇️</strong></summary>\n",
    "<br>\n",
    "    - This is a script set up for users to integrate peaks on a LSV. \n",
    "<br>\n",
    "    1. Please alter the filename to the file you wish to visualise and integrate\n",
    "<br>\n",
    "    2. Then restart and run all cells\n",
    "<br>\n",
    "    3. The script will do some calculations and then promt you to enter the x-coordinates to define the definite integral\n",
    "<br>\n",
    "    4. To determine these coordinates you can interact with the graphs to zoom into the region of interest and place you cursor over the regression line to get the exact cooridnates.\n",
    "<br>\n",
    "    5. Once the coordinates are entered the integration will be calculated and results displayed at the end\n",
    "    </details>"
   ]
  },
  {
   "cell_type": "code",
   "execution_count": 9,
   "id": "15a46ff9",
   "metadata": {
    "ExecuteTime": {
     "end_time": "2023-05-26T08:53:15.485557900Z",
     "start_time": "2023-05-26T08:53:15.436495900Z"
    }
   },
   "outputs": [],
   "source": [
    "from sklearn.linear_model import LinearRegression\n",
    "import pandas as pd\n",
    "from sklearn.preprocessing import StandardScaler\n",
    "import numpy as np\n",
    "from sklearn.preprocessing import PolynomialFeatures\n",
    "from sklearn.metrics import r2_score\n",
    "from scipy.integrate import fixed_quad\n",
    "import plotly.graph_objects as go\n",
    "import csv\n",
    "import os"
   ]
  },
  {
   "cell_type": "markdown",
   "id": "83759f30",
   "metadata": {},
   "source": [
    "# <div class=\"alert alert-block alert-info\"><b>Change the directory path and filename:</b></div>\n",
    "# Then\n",
    "# <div class=\"alert alert-block alert-danger\"><b>Restart and Run all cells</b></div>"
   ]
  },
  {
   "cell_type": "code",
   "execution_count": 10,
   "id": "046f0d9e",
   "metadata": {
    "ExecuteTime": {
     "end_time": "2023-05-26T08:53:15.538117800Z",
     "start_time": "2023-05-26T08:53:15.453068300Z"
    }
   },
   "outputs": [],
   "source": [
    "filename = '../data/30cyc.csv'"
   ]
  },
  {
   "cell_type": "code",
   "execution_count": 11,
   "id": "7a3bf115",
   "metadata": {
    "ExecuteTime": {
     "end_time": "2023-05-26T08:53:15.538117800Z",
     "start_time": "2023-05-26T08:53:15.469906300Z"
    }
   },
   "outputs": [
    {
     "data": {
      "application/vnd.plotly.v1+json": {
       "data": [
        {
         "line": {
          "color": "blue",
          "width": 1
         },
         "mode": "lines",
         "name": "data",
         "x": [
          1.70332,
          1.70726,
          1.71119,
          1.71513,
          1.71906,
          1.723,
          1.72694,
          1.73087,
          1.73481,
          1.73874,
          1.74268,
          1.74661,
          1.75054,
          1.75448,
          1.75841,
          1.76235,
          1.76628,
          1.77022,
          1.77415,
          1.77809,
          1.78202,
          1.78596,
          1.78989,
          1.79382,
          1.79776,
          1.80169,
          1.80563,
          1.80956,
          1.81349,
          1.81743,
          1.82136,
          1.8253,
          1.82923,
          1.83316,
          1.8371,
          1.84103,
          1.84496,
          1.8489,
          1.85283,
          1.85676,
          1.8607,
          1.86463,
          1.86856,
          1.8725,
          1.87643,
          1.88036,
          1.8843,
          1.88823,
          1.89216,
          1.89609,
          1.90003,
          1.90396,
          1.90789,
          1.91182,
          1.91576,
          1.91969,
          1.92362,
          1.92755,
          1.93149,
          1.93542,
          1.94328,
          1.94721,
          1.95115,
          1.95508,
          1.95901,
          1.96294,
          1.96687,
          1.9708,
          1.97474,
          1.97867,
          1.9826,
          1.98653,
          1.99046,
          1.99439,
          1.99832,
          2.00226,
          2.00619,
          2.01012,
          2.01405,
          2.01798,
          2.02191,
          2.02584,
          2.02977,
          2.0337,
          2.03763,
          2.04156,
          2.04549,
          2.04942,
          2.05336,
          2.05729,
          2.06122,
          2.06515,
          2.06908,
          2.07301,
          2.07694,
          2.08087,
          2.0848,
          2.08873,
          2.09266,
          2.09658,
          2.10051,
          2.10444,
          2.10837,
          2.1123,
          2.11623,
          2.12016,
          2.12409,
          2.12802,
          2.13195,
          2.13588,
          2.13981,
          2.14374,
          2.14766,
          2.15159,
          2.15552,
          2.15945,
          2.16338,
          2.16731,
          2.17124,
          2.17516,
          2.17909,
          2.18302,
          2.18695,
          2.19088,
          2.1948,
          2.19873,
          2.20266,
          2.20659,
          2.21052,
          2.21444,
          2.21837,
          2.2223,
          2.22623,
          2.23015,
          2.23408,
          2.23801,
          2.24194,
          2.24586,
          2.24979,
          2.25372,
          2.25764,
          2.26157,
          2.2655,
          2.26942,
          2.27335,
          2.27728,
          2.2812,
          2.28513,
          2.28906,
          2.29298,
          2.29691,
          2.30084,
          2.30476,
          2.30869,
          2.31261,
          2.31654,
          2.32047,
          2.32439,
          2.32832,
          2.33224,
          2.33617,
          2.34009,
          2.34402,
          2.34794,
          2.35187,
          2.35579,
          2.35972,
          2.36364,
          2.36757,
          2.37149,
          2.37542,
          2.37934,
          2.38327,
          2.38719,
          2.39112,
          2.39504,
          2.39897,
          2.40289,
          2.40682,
          2.41074,
          2.41466,
          2.41859,
          2.42251,
          2.42644,
          2.43036,
          2.43428,
          2.43821,
          2.44213,
          2.44605,
          2.44998,
          2.4539,
          2.45782,
          2.46175,
          2.46567,
          2.46959,
          2.47352,
          2.47744,
          2.48136,
          2.48528,
          2.48921,
          2.49313,
          2.49705
         ],
         "y": [
          75400.0,
          75408.0,
          75472.0,
          75365.0,
          75405.0,
          75516.0,
          75488.0,
          75395.0,
          75528.0,
          75473.0,
          75376.0,
          75457.0,
          75443.0,
          75405.0,
          75621.0,
          75413.0,
          75456.0,
          75426.0,
          75441.0,
          75492.0,
          75503.0,
          75559.0,
          75544.0,
          75570.0,
          75488.0,
          75418.0,
          75338.0,
          75476.0,
          75500.0,
          75504.0,
          75373.0,
          75390.0,
          75293.0,
          75409.0,
          75286.0,
          75261.0,
          75352.0,
          75341.0,
          75204.0,
          75287.0,
          75258.0,
          75253.0,
          75332.0,
          75314.0,
          75209.0,
          75323.0,
          75332.0,
          75392.0,
          75358.0,
          75287.0,
          75472.0,
          75411.0,
          75439.0,
          75452.0,
          75386.0,
          75361.0,
          75442.0,
          75434.0,
          75494.0,
          75488.0,
          75576.0,
          75698.0,
          75752.0,
          75873.0,
          75989.0,
          76240.0,
          76482.0,
          76682.0,
          76903.0,
          77675.0,
          77797.0,
          78249.0,
          78919.0,
          79401.0,
          80082.0,
          81031.0,
          81904.0,
          82918.0,
          83722.0,
          84931.0,
          85836.0,
          87240.0,
          88355.0,
          89781.0,
          91038.0,
          92645.0,
          94277.0,
          95561.0,
          96961.0,
          98720.0,
          99893.0,
          101139.0,
          102986.0,
          103550.0,
          104855.0,
          105793.0,
          106769.0,
          107814.0,
          108357.0,
          108871.0,
          109573.0,
          110227.0,
          110472.0,
          109875.0,
          109980.0,
          109830.0,
          108936.0,
          108387.0,
          107517.0,
          106704.0,
          105955.0,
          105181.0,
          103433.0,
          102709.0,
          100700.0,
          99624.0,
          98108.0,
          96759.0,
          95344.0,
          93432.0,
          91908.0,
          90550.0,
          89170.0,
          87550.0,
          86511.0,
          85052.0,
          83937.0,
          82833.0,
          81836.0,
          81008.0,
          80021.0,
          79333.0,
          78583.0,
          78275.0,
          77917.0,
          77278.0,
          77109.0,
          76913.0,
          76788.0,
          76673.0,
          76743.0,
          76845.0,
          76982.0,
          76959.0,
          77084.0,
          77245.0,
          77544.0,
          77649.0,
          77854.0,
          78107.0,
          78177.0,
          78304.0,
          78421.0,
          78496.0,
          78628.0,
          78824.0,
          78727.0,
          78849.0,
          78636.0,
          78457.0,
          78778.0,
          78815.0,
          78536.0,
          78248.0,
          78252.0,
          78261.0,
          78237.0,
          78128.0,
          77927.0,
          77849.0,
          77782.0,
          77644.0,
          77654.0,
          77611.0,
          77594.0,
          77307.0,
          77300.0,
          77286.0,
          77064.0,
          77350.0,
          77293.0,
          77149.0,
          77111.0,
          77061.0,
          77191.0,
          77263.0,
          77214.0,
          77274.0,
          77141.0,
          77158.0,
          77260.0,
          77354.0,
          77356.0,
          77481.0,
          77534.0,
          77528.0,
          77547.0,
          77695.0,
          77596.0,
          77808.0,
          77653.0,
          77473.0
         ],
         "type": "scatter"
        }
       ],
       "layout": {
        "template": {
         "data": {
          "histogram2dcontour": [
           {
            "type": "histogram2dcontour",
            "colorbar": {
             "outlinewidth": 0,
             "ticks": ""
            },
            "colorscale": [
             [
              0.0,
              "#0d0887"
             ],
             [
              0.1111111111111111,
              "#46039f"
             ],
             [
              0.2222222222222222,
              "#7201a8"
             ],
             [
              0.3333333333333333,
              "#9c179e"
             ],
             [
              0.4444444444444444,
              "#bd3786"
             ],
             [
              0.5555555555555556,
              "#d8576b"
             ],
             [
              0.6666666666666666,
              "#ed7953"
             ],
             [
              0.7777777777777778,
              "#fb9f3a"
             ],
             [
              0.8888888888888888,
              "#fdca26"
             ],
             [
              1.0,
              "#f0f921"
             ]
            ]
           }
          ],
          "choropleth": [
           {
            "type": "choropleth",
            "colorbar": {
             "outlinewidth": 0,
             "ticks": ""
            }
           }
          ],
          "histogram2d": [
           {
            "type": "histogram2d",
            "colorbar": {
             "outlinewidth": 0,
             "ticks": ""
            },
            "colorscale": [
             [
              0.0,
              "#0d0887"
             ],
             [
              0.1111111111111111,
              "#46039f"
             ],
             [
              0.2222222222222222,
              "#7201a8"
             ],
             [
              0.3333333333333333,
              "#9c179e"
             ],
             [
              0.4444444444444444,
              "#bd3786"
             ],
             [
              0.5555555555555556,
              "#d8576b"
             ],
             [
              0.6666666666666666,
              "#ed7953"
             ],
             [
              0.7777777777777778,
              "#fb9f3a"
             ],
             [
              0.8888888888888888,
              "#fdca26"
             ],
             [
              1.0,
              "#f0f921"
             ]
            ]
           }
          ],
          "heatmap": [
           {
            "type": "heatmap",
            "colorbar": {
             "outlinewidth": 0,
             "ticks": ""
            },
            "colorscale": [
             [
              0.0,
              "#0d0887"
             ],
             [
              0.1111111111111111,
              "#46039f"
             ],
             [
              0.2222222222222222,
              "#7201a8"
             ],
             [
              0.3333333333333333,
              "#9c179e"
             ],
             [
              0.4444444444444444,
              "#bd3786"
             ],
             [
              0.5555555555555556,
              "#d8576b"
             ],
             [
              0.6666666666666666,
              "#ed7953"
             ],
             [
              0.7777777777777778,
              "#fb9f3a"
             ],
             [
              0.8888888888888888,
              "#fdca26"
             ],
             [
              1.0,
              "#f0f921"
             ]
            ]
           }
          ],
          "heatmapgl": [
           {
            "type": "heatmapgl",
            "colorbar": {
             "outlinewidth": 0,
             "ticks": ""
            },
            "colorscale": [
             [
              0.0,
              "#0d0887"
             ],
             [
              0.1111111111111111,
              "#46039f"
             ],
             [
              0.2222222222222222,
              "#7201a8"
             ],
             [
              0.3333333333333333,
              "#9c179e"
             ],
             [
              0.4444444444444444,
              "#bd3786"
             ],
             [
              0.5555555555555556,
              "#d8576b"
             ],
             [
              0.6666666666666666,
              "#ed7953"
             ],
             [
              0.7777777777777778,
              "#fb9f3a"
             ],
             [
              0.8888888888888888,
              "#fdca26"
             ],
             [
              1.0,
              "#f0f921"
             ]
            ]
           }
          ],
          "contourcarpet": [
           {
            "type": "contourcarpet",
            "colorbar": {
             "outlinewidth": 0,
             "ticks": ""
            }
           }
          ],
          "contour": [
           {
            "type": "contour",
            "colorbar": {
             "outlinewidth": 0,
             "ticks": ""
            },
            "colorscale": [
             [
              0.0,
              "#0d0887"
             ],
             [
              0.1111111111111111,
              "#46039f"
             ],
             [
              0.2222222222222222,
              "#7201a8"
             ],
             [
              0.3333333333333333,
              "#9c179e"
             ],
             [
              0.4444444444444444,
              "#bd3786"
             ],
             [
              0.5555555555555556,
              "#d8576b"
             ],
             [
              0.6666666666666666,
              "#ed7953"
             ],
             [
              0.7777777777777778,
              "#fb9f3a"
             ],
             [
              0.8888888888888888,
              "#fdca26"
             ],
             [
              1.0,
              "#f0f921"
             ]
            ]
           }
          ],
          "surface": [
           {
            "type": "surface",
            "colorbar": {
             "outlinewidth": 0,
             "ticks": ""
            },
            "colorscale": [
             [
              0.0,
              "#0d0887"
             ],
             [
              0.1111111111111111,
              "#46039f"
             ],
             [
              0.2222222222222222,
              "#7201a8"
             ],
             [
              0.3333333333333333,
              "#9c179e"
             ],
             [
              0.4444444444444444,
              "#bd3786"
             ],
             [
              0.5555555555555556,
              "#d8576b"
             ],
             [
              0.6666666666666666,
              "#ed7953"
             ],
             [
              0.7777777777777778,
              "#fb9f3a"
             ],
             [
              0.8888888888888888,
              "#fdca26"
             ],
             [
              1.0,
              "#f0f921"
             ]
            ]
           }
          ],
          "mesh3d": [
           {
            "type": "mesh3d",
            "colorbar": {
             "outlinewidth": 0,
             "ticks": ""
            }
           }
          ],
          "scatter": [
           {
            "marker": {
             "line": {
              "color": "#283442"
             }
            },
            "type": "scatter"
           }
          ],
          "parcoords": [
           {
            "type": "parcoords",
            "line": {
             "colorbar": {
              "outlinewidth": 0,
              "ticks": ""
             }
            }
           }
          ],
          "scatterpolargl": [
           {
            "type": "scatterpolargl",
            "marker": {
             "colorbar": {
              "outlinewidth": 0,
              "ticks": ""
             }
            }
           }
          ],
          "bar": [
           {
            "error_x": {
             "color": "#f2f5fa"
            },
            "error_y": {
             "color": "#f2f5fa"
            },
            "marker": {
             "line": {
              "color": "rgb(17,17,17)",
              "width": 0.5
             },
             "pattern": {
              "fillmode": "overlay",
              "size": 10,
              "solidity": 0.2
             }
            },
            "type": "bar"
           }
          ],
          "scattergeo": [
           {
            "type": "scattergeo",
            "marker": {
             "colorbar": {
              "outlinewidth": 0,
              "ticks": ""
             }
            }
           }
          ],
          "scatterpolar": [
           {
            "type": "scatterpolar",
            "marker": {
             "colorbar": {
              "outlinewidth": 0,
              "ticks": ""
             }
            }
           }
          ],
          "histogram": [
           {
            "marker": {
             "pattern": {
              "fillmode": "overlay",
              "size": 10,
              "solidity": 0.2
             }
            },
            "type": "histogram"
           }
          ],
          "scattergl": [
           {
            "marker": {
             "line": {
              "color": "#283442"
             }
            },
            "type": "scattergl"
           }
          ],
          "scatter3d": [
           {
            "type": "scatter3d",
            "line": {
             "colorbar": {
              "outlinewidth": 0,
              "ticks": ""
             }
            },
            "marker": {
             "colorbar": {
              "outlinewidth": 0,
              "ticks": ""
             }
            }
           }
          ],
          "scattermapbox": [
           {
            "type": "scattermapbox",
            "marker": {
             "colorbar": {
              "outlinewidth": 0,
              "ticks": ""
             }
            }
           }
          ],
          "scatterternary": [
           {
            "type": "scatterternary",
            "marker": {
             "colorbar": {
              "outlinewidth": 0,
              "ticks": ""
             }
            }
           }
          ],
          "scattercarpet": [
           {
            "type": "scattercarpet",
            "marker": {
             "colorbar": {
              "outlinewidth": 0,
              "ticks": ""
             }
            }
           }
          ],
          "carpet": [
           {
            "aaxis": {
             "endlinecolor": "#A2B1C6",
             "gridcolor": "#506784",
             "linecolor": "#506784",
             "minorgridcolor": "#506784",
             "startlinecolor": "#A2B1C6"
            },
            "baxis": {
             "endlinecolor": "#A2B1C6",
             "gridcolor": "#506784",
             "linecolor": "#506784",
             "minorgridcolor": "#506784",
             "startlinecolor": "#A2B1C6"
            },
            "type": "carpet"
           }
          ],
          "table": [
           {
            "cells": {
             "fill": {
              "color": "#506784"
             },
             "line": {
              "color": "rgb(17,17,17)"
             }
            },
            "header": {
             "fill": {
              "color": "#2a3f5f"
             },
             "line": {
              "color": "rgb(17,17,17)"
             }
            },
            "type": "table"
           }
          ],
          "barpolar": [
           {
            "marker": {
             "line": {
              "color": "rgb(17,17,17)",
              "width": 0.5
             },
             "pattern": {
              "fillmode": "overlay",
              "size": 10,
              "solidity": 0.2
             }
            },
            "type": "barpolar"
           }
          ],
          "pie": [
           {
            "automargin": true,
            "type": "pie"
           }
          ]
         },
         "layout": {
          "autotypenumbers": "strict",
          "colorway": [
           "#636efa",
           "#EF553B",
           "#00cc96",
           "#ab63fa",
           "#FFA15A",
           "#19d3f3",
           "#FF6692",
           "#B6E880",
           "#FF97FF",
           "#FECB52"
          ],
          "font": {
           "color": "#f2f5fa"
          },
          "hovermode": "closest",
          "hoverlabel": {
           "align": "left"
          },
          "paper_bgcolor": "rgb(17,17,17)",
          "plot_bgcolor": "rgb(17,17,17)",
          "polar": {
           "bgcolor": "rgb(17,17,17)",
           "angularaxis": {
            "gridcolor": "#506784",
            "linecolor": "#506784",
            "ticks": ""
           },
           "radialaxis": {
            "gridcolor": "#506784",
            "linecolor": "#506784",
            "ticks": ""
           }
          },
          "ternary": {
           "bgcolor": "rgb(17,17,17)",
           "aaxis": {
            "gridcolor": "#506784",
            "linecolor": "#506784",
            "ticks": ""
           },
           "baxis": {
            "gridcolor": "#506784",
            "linecolor": "#506784",
            "ticks": ""
           },
           "caxis": {
            "gridcolor": "#506784",
            "linecolor": "#506784",
            "ticks": ""
           }
          },
          "coloraxis": {
           "colorbar": {
            "outlinewidth": 0,
            "ticks": ""
           }
          },
          "colorscale": {
           "sequential": [
            [
             0.0,
             "#0d0887"
            ],
            [
             0.1111111111111111,
             "#46039f"
            ],
            [
             0.2222222222222222,
             "#7201a8"
            ],
            [
             0.3333333333333333,
             "#9c179e"
            ],
            [
             0.4444444444444444,
             "#bd3786"
            ],
            [
             0.5555555555555556,
             "#d8576b"
            ],
            [
             0.6666666666666666,
             "#ed7953"
            ],
            [
             0.7777777777777778,
             "#fb9f3a"
            ],
            [
             0.8888888888888888,
             "#fdca26"
            ],
            [
             1.0,
             "#f0f921"
            ]
           ],
           "sequentialminus": [
            [
             0.0,
             "#0d0887"
            ],
            [
             0.1111111111111111,
             "#46039f"
            ],
            [
             0.2222222222222222,
             "#7201a8"
            ],
            [
             0.3333333333333333,
             "#9c179e"
            ],
            [
             0.4444444444444444,
             "#bd3786"
            ],
            [
             0.5555555555555556,
             "#d8576b"
            ],
            [
             0.6666666666666666,
             "#ed7953"
            ],
            [
             0.7777777777777778,
             "#fb9f3a"
            ],
            [
             0.8888888888888888,
             "#fdca26"
            ],
            [
             1.0,
             "#f0f921"
            ]
           ],
           "diverging": [
            [
             0,
             "#8e0152"
            ],
            [
             0.1,
             "#c51b7d"
            ],
            [
             0.2,
             "#de77ae"
            ],
            [
             0.3,
             "#f1b6da"
            ],
            [
             0.4,
             "#fde0ef"
            ],
            [
             0.5,
             "#f7f7f7"
            ],
            [
             0.6,
             "#e6f5d0"
            ],
            [
             0.7,
             "#b8e186"
            ],
            [
             0.8,
             "#7fbc41"
            ],
            [
             0.9,
             "#4d9221"
            ],
            [
             1,
             "#276419"
            ]
           ]
          },
          "xaxis": {
           "gridcolor": "#283442",
           "linecolor": "#506784",
           "ticks": "",
           "title": {
            "standoff": 15
           },
           "zerolinecolor": "#283442",
           "automargin": true,
           "zerolinewidth": 2
          },
          "yaxis": {
           "gridcolor": "#283442",
           "linecolor": "#506784",
           "ticks": "",
           "title": {
            "standoff": 15
           },
           "zerolinecolor": "#283442",
           "automargin": true,
           "zerolinewidth": 2
          },
          "scene": {
           "xaxis": {
            "backgroundcolor": "rgb(17,17,17)",
            "gridcolor": "#506784",
            "linecolor": "#506784",
            "showbackground": true,
            "ticks": "",
            "zerolinecolor": "#C8D4E3",
            "gridwidth": 2
           },
           "yaxis": {
            "backgroundcolor": "rgb(17,17,17)",
            "gridcolor": "#506784",
            "linecolor": "#506784",
            "showbackground": true,
            "ticks": "",
            "zerolinecolor": "#C8D4E3",
            "gridwidth": 2
           },
           "zaxis": {
            "backgroundcolor": "rgb(17,17,17)",
            "gridcolor": "#506784",
            "linecolor": "#506784",
            "showbackground": true,
            "ticks": "",
            "zerolinecolor": "#C8D4E3",
            "gridwidth": 2
           }
          },
          "shapedefaults": {
           "line": {
            "color": "#f2f5fa"
           }
          },
          "annotationdefaults": {
           "arrowcolor": "#f2f5fa",
           "arrowhead": 0,
           "arrowwidth": 1
          },
          "geo": {
           "bgcolor": "rgb(17,17,17)",
           "landcolor": "rgb(17,17,17)",
           "subunitcolor": "#506784",
           "showland": true,
           "showlakes": true,
           "lakecolor": "rgb(17,17,17)"
          },
          "title": {
           "x": 0.05
          },
          "updatemenudefaults": {
           "bgcolor": "#506784",
           "borderwidth": 0
          },
          "sliderdefaults": {
           "bgcolor": "#C8D4E3",
           "borderwidth": 1,
           "bordercolor": "rgb(17,17,17)",
           "tickwidth": 0
          },
          "mapbox": {
           "style": "dark"
          }
         }
        }
       },
       "config": {
        "plotlyServerURL": "https://plot.ly"
       }
      },
      "text/html": "<div>                            <div id=\"ce4b0924-fbfe-4451-959d-d524b178783b\" class=\"plotly-graph-div\" style=\"height:525px; width:100%;\"></div>            <script type=\"text/javascript\">                require([\"plotly\"], function(Plotly) {                    window.PLOTLYENV=window.PLOTLYENV || {};                                    if (document.getElementById(\"ce4b0924-fbfe-4451-959d-d524b178783b\")) {                    Plotly.newPlot(                        \"ce4b0924-fbfe-4451-959d-d524b178783b\",                        [{\"line\":{\"color\":\"blue\",\"width\":1},\"mode\":\"lines\",\"name\":\"data\",\"x\":[1.70332,1.70726,1.71119,1.71513,1.71906,1.723,1.72694,1.73087,1.73481,1.73874,1.74268,1.74661,1.75054,1.75448,1.75841,1.76235,1.76628,1.77022,1.77415,1.77809,1.78202,1.78596,1.78989,1.79382,1.79776,1.80169,1.80563,1.80956,1.81349,1.81743,1.82136,1.8253,1.82923,1.83316,1.8371,1.84103,1.84496,1.8489,1.85283,1.85676,1.8607,1.86463,1.86856,1.8725,1.87643,1.88036,1.8843,1.88823,1.89216,1.89609,1.90003,1.90396,1.90789,1.91182,1.91576,1.91969,1.92362,1.92755,1.93149,1.93542,1.94328,1.94721,1.95115,1.95508,1.95901,1.96294,1.96687,1.9708,1.97474,1.97867,1.9826,1.98653,1.99046,1.99439,1.99832,2.00226,2.00619,2.01012,2.01405,2.01798,2.02191,2.02584,2.02977,2.0337,2.03763,2.04156,2.04549,2.04942,2.05336,2.05729,2.06122,2.06515,2.06908,2.07301,2.07694,2.08087,2.0848,2.08873,2.09266,2.09658,2.10051,2.10444,2.10837,2.1123,2.11623,2.12016,2.12409,2.12802,2.13195,2.13588,2.13981,2.14374,2.14766,2.15159,2.15552,2.15945,2.16338,2.16731,2.17124,2.17516,2.17909,2.18302,2.18695,2.19088,2.1948,2.19873,2.20266,2.20659,2.21052,2.21444,2.21837,2.2223,2.22623,2.23015,2.23408,2.23801,2.24194,2.24586,2.24979,2.25372,2.25764,2.26157,2.2655,2.26942,2.27335,2.27728,2.2812,2.28513,2.28906,2.29298,2.29691,2.30084,2.30476,2.30869,2.31261,2.31654,2.32047,2.32439,2.32832,2.33224,2.33617,2.34009,2.34402,2.34794,2.35187,2.35579,2.35972,2.36364,2.36757,2.37149,2.37542,2.37934,2.38327,2.38719,2.39112,2.39504,2.39897,2.40289,2.40682,2.41074,2.41466,2.41859,2.42251,2.42644,2.43036,2.43428,2.43821,2.44213,2.44605,2.44998,2.4539,2.45782,2.46175,2.46567,2.46959,2.47352,2.47744,2.48136,2.48528,2.48921,2.49313,2.49705],\"y\":[75400.0,75408.0,75472.0,75365.0,75405.0,75516.0,75488.0,75395.0,75528.0,75473.0,75376.0,75457.0,75443.0,75405.0,75621.0,75413.0,75456.0,75426.0,75441.0,75492.0,75503.0,75559.0,75544.0,75570.0,75488.0,75418.0,75338.0,75476.0,75500.0,75504.0,75373.0,75390.0,75293.0,75409.0,75286.0,75261.0,75352.0,75341.0,75204.0,75287.0,75258.0,75253.0,75332.0,75314.0,75209.0,75323.0,75332.0,75392.0,75358.0,75287.0,75472.0,75411.0,75439.0,75452.0,75386.0,75361.0,75442.0,75434.0,75494.0,75488.0,75576.0,75698.0,75752.0,75873.0,75989.0,76240.0,76482.0,76682.0,76903.0,77675.0,77797.0,78249.0,78919.0,79401.0,80082.0,81031.0,81904.0,82918.0,83722.0,84931.0,85836.0,87240.0,88355.0,89781.0,91038.0,92645.0,94277.0,95561.0,96961.0,98720.0,99893.0,101139.0,102986.0,103550.0,104855.0,105793.0,106769.0,107814.0,108357.0,108871.0,109573.0,110227.0,110472.0,109875.0,109980.0,109830.0,108936.0,108387.0,107517.0,106704.0,105955.0,105181.0,103433.0,102709.0,100700.0,99624.0,98108.0,96759.0,95344.0,93432.0,91908.0,90550.0,89170.0,87550.0,86511.0,85052.0,83937.0,82833.0,81836.0,81008.0,80021.0,79333.0,78583.0,78275.0,77917.0,77278.0,77109.0,76913.0,76788.0,76673.0,76743.0,76845.0,76982.0,76959.0,77084.0,77245.0,77544.0,77649.0,77854.0,78107.0,78177.0,78304.0,78421.0,78496.0,78628.0,78824.0,78727.0,78849.0,78636.0,78457.0,78778.0,78815.0,78536.0,78248.0,78252.0,78261.0,78237.0,78128.0,77927.0,77849.0,77782.0,77644.0,77654.0,77611.0,77594.0,77307.0,77300.0,77286.0,77064.0,77350.0,77293.0,77149.0,77111.0,77061.0,77191.0,77263.0,77214.0,77274.0,77141.0,77158.0,77260.0,77354.0,77356.0,77481.0,77534.0,77528.0,77547.0,77695.0,77596.0,77808.0,77653.0,77473.0],\"type\":\"scatter\"}],                        {\"template\":{\"data\":{\"histogram2dcontour\":[{\"type\":\"histogram2dcontour\",\"colorbar\":{\"outlinewidth\":0,\"ticks\":\"\"},\"colorscale\":[[0.0,\"#0d0887\"],[0.1111111111111111,\"#46039f\"],[0.2222222222222222,\"#7201a8\"],[0.3333333333333333,\"#9c179e\"],[0.4444444444444444,\"#bd3786\"],[0.5555555555555556,\"#d8576b\"],[0.6666666666666666,\"#ed7953\"],[0.7777777777777778,\"#fb9f3a\"],[0.8888888888888888,\"#fdca26\"],[1.0,\"#f0f921\"]]}],\"choropleth\":[{\"type\":\"choropleth\",\"colorbar\":{\"outlinewidth\":0,\"ticks\":\"\"}}],\"histogram2d\":[{\"type\":\"histogram2d\",\"colorbar\":{\"outlinewidth\":0,\"ticks\":\"\"},\"colorscale\":[[0.0,\"#0d0887\"],[0.1111111111111111,\"#46039f\"],[0.2222222222222222,\"#7201a8\"],[0.3333333333333333,\"#9c179e\"],[0.4444444444444444,\"#bd3786\"],[0.5555555555555556,\"#d8576b\"],[0.6666666666666666,\"#ed7953\"],[0.7777777777777778,\"#fb9f3a\"],[0.8888888888888888,\"#fdca26\"],[1.0,\"#f0f921\"]]}],\"heatmap\":[{\"type\":\"heatmap\",\"colorbar\":{\"outlinewidth\":0,\"ticks\":\"\"},\"colorscale\":[[0.0,\"#0d0887\"],[0.1111111111111111,\"#46039f\"],[0.2222222222222222,\"#7201a8\"],[0.3333333333333333,\"#9c179e\"],[0.4444444444444444,\"#bd3786\"],[0.5555555555555556,\"#d8576b\"],[0.6666666666666666,\"#ed7953\"],[0.7777777777777778,\"#fb9f3a\"],[0.8888888888888888,\"#fdca26\"],[1.0,\"#f0f921\"]]}],\"heatmapgl\":[{\"type\":\"heatmapgl\",\"colorbar\":{\"outlinewidth\":0,\"ticks\":\"\"},\"colorscale\":[[0.0,\"#0d0887\"],[0.1111111111111111,\"#46039f\"],[0.2222222222222222,\"#7201a8\"],[0.3333333333333333,\"#9c179e\"],[0.4444444444444444,\"#bd3786\"],[0.5555555555555556,\"#d8576b\"],[0.6666666666666666,\"#ed7953\"],[0.7777777777777778,\"#fb9f3a\"],[0.8888888888888888,\"#fdca26\"],[1.0,\"#f0f921\"]]}],\"contourcarpet\":[{\"type\":\"contourcarpet\",\"colorbar\":{\"outlinewidth\":0,\"ticks\":\"\"}}],\"contour\":[{\"type\":\"contour\",\"colorbar\":{\"outlinewidth\":0,\"ticks\":\"\"},\"colorscale\":[[0.0,\"#0d0887\"],[0.1111111111111111,\"#46039f\"],[0.2222222222222222,\"#7201a8\"],[0.3333333333333333,\"#9c179e\"],[0.4444444444444444,\"#bd3786\"],[0.5555555555555556,\"#d8576b\"],[0.6666666666666666,\"#ed7953\"],[0.7777777777777778,\"#fb9f3a\"],[0.8888888888888888,\"#fdca26\"],[1.0,\"#f0f921\"]]}],\"surface\":[{\"type\":\"surface\",\"colorbar\":{\"outlinewidth\":0,\"ticks\":\"\"},\"colorscale\":[[0.0,\"#0d0887\"],[0.1111111111111111,\"#46039f\"],[0.2222222222222222,\"#7201a8\"],[0.3333333333333333,\"#9c179e\"],[0.4444444444444444,\"#bd3786\"],[0.5555555555555556,\"#d8576b\"],[0.6666666666666666,\"#ed7953\"],[0.7777777777777778,\"#fb9f3a\"],[0.8888888888888888,\"#fdca26\"],[1.0,\"#f0f921\"]]}],\"mesh3d\":[{\"type\":\"mesh3d\",\"colorbar\":{\"outlinewidth\":0,\"ticks\":\"\"}}],\"scatter\":[{\"marker\":{\"line\":{\"color\":\"#283442\"}},\"type\":\"scatter\"}],\"parcoords\":[{\"type\":\"parcoords\",\"line\":{\"colorbar\":{\"outlinewidth\":0,\"ticks\":\"\"}}}],\"scatterpolargl\":[{\"type\":\"scatterpolargl\",\"marker\":{\"colorbar\":{\"outlinewidth\":0,\"ticks\":\"\"}}}],\"bar\":[{\"error_x\":{\"color\":\"#f2f5fa\"},\"error_y\":{\"color\":\"#f2f5fa\"},\"marker\":{\"line\":{\"color\":\"rgb(17,17,17)\",\"width\":0.5},\"pattern\":{\"fillmode\":\"overlay\",\"size\":10,\"solidity\":0.2}},\"type\":\"bar\"}],\"scattergeo\":[{\"type\":\"scattergeo\",\"marker\":{\"colorbar\":{\"outlinewidth\":0,\"ticks\":\"\"}}}],\"scatterpolar\":[{\"type\":\"scatterpolar\",\"marker\":{\"colorbar\":{\"outlinewidth\":0,\"ticks\":\"\"}}}],\"histogram\":[{\"marker\":{\"pattern\":{\"fillmode\":\"overlay\",\"size\":10,\"solidity\":0.2}},\"type\":\"histogram\"}],\"scattergl\":[{\"marker\":{\"line\":{\"color\":\"#283442\"}},\"type\":\"scattergl\"}],\"scatter3d\":[{\"type\":\"scatter3d\",\"line\":{\"colorbar\":{\"outlinewidth\":0,\"ticks\":\"\"}},\"marker\":{\"colorbar\":{\"outlinewidth\":0,\"ticks\":\"\"}}}],\"scattermapbox\":[{\"type\":\"scattermapbox\",\"marker\":{\"colorbar\":{\"outlinewidth\":0,\"ticks\":\"\"}}}],\"scatterternary\":[{\"type\":\"scatterternary\",\"marker\":{\"colorbar\":{\"outlinewidth\":0,\"ticks\":\"\"}}}],\"scattercarpet\":[{\"type\":\"scattercarpet\",\"marker\":{\"colorbar\":{\"outlinewidth\":0,\"ticks\":\"\"}}}],\"carpet\":[{\"aaxis\":{\"endlinecolor\":\"#A2B1C6\",\"gridcolor\":\"#506784\",\"linecolor\":\"#506784\",\"minorgridcolor\":\"#506784\",\"startlinecolor\":\"#A2B1C6\"},\"baxis\":{\"endlinecolor\":\"#A2B1C6\",\"gridcolor\":\"#506784\",\"linecolor\":\"#506784\",\"minorgridcolor\":\"#506784\",\"startlinecolor\":\"#A2B1C6\"},\"type\":\"carpet\"}],\"table\":[{\"cells\":{\"fill\":{\"color\":\"#506784\"},\"line\":{\"color\":\"rgb(17,17,17)\"}},\"header\":{\"fill\":{\"color\":\"#2a3f5f\"},\"line\":{\"color\":\"rgb(17,17,17)\"}},\"type\":\"table\"}],\"barpolar\":[{\"marker\":{\"line\":{\"color\":\"rgb(17,17,17)\",\"width\":0.5},\"pattern\":{\"fillmode\":\"overlay\",\"size\":10,\"solidity\":0.2}},\"type\":\"barpolar\"}],\"pie\":[{\"automargin\":true,\"type\":\"pie\"}]},\"layout\":{\"autotypenumbers\":\"strict\",\"colorway\":[\"#636efa\",\"#EF553B\",\"#00cc96\",\"#ab63fa\",\"#FFA15A\",\"#19d3f3\",\"#FF6692\",\"#B6E880\",\"#FF97FF\",\"#FECB52\"],\"font\":{\"color\":\"#f2f5fa\"},\"hovermode\":\"closest\",\"hoverlabel\":{\"align\":\"left\"},\"paper_bgcolor\":\"rgb(17,17,17)\",\"plot_bgcolor\":\"rgb(17,17,17)\",\"polar\":{\"bgcolor\":\"rgb(17,17,17)\",\"angularaxis\":{\"gridcolor\":\"#506784\",\"linecolor\":\"#506784\",\"ticks\":\"\"},\"radialaxis\":{\"gridcolor\":\"#506784\",\"linecolor\":\"#506784\",\"ticks\":\"\"}},\"ternary\":{\"bgcolor\":\"rgb(17,17,17)\",\"aaxis\":{\"gridcolor\":\"#506784\",\"linecolor\":\"#506784\",\"ticks\":\"\"},\"baxis\":{\"gridcolor\":\"#506784\",\"linecolor\":\"#506784\",\"ticks\":\"\"},\"caxis\":{\"gridcolor\":\"#506784\",\"linecolor\":\"#506784\",\"ticks\":\"\"}},\"coloraxis\":{\"colorbar\":{\"outlinewidth\":0,\"ticks\":\"\"}},\"colorscale\":{\"sequential\":[[0.0,\"#0d0887\"],[0.1111111111111111,\"#46039f\"],[0.2222222222222222,\"#7201a8\"],[0.3333333333333333,\"#9c179e\"],[0.4444444444444444,\"#bd3786\"],[0.5555555555555556,\"#d8576b\"],[0.6666666666666666,\"#ed7953\"],[0.7777777777777778,\"#fb9f3a\"],[0.8888888888888888,\"#fdca26\"],[1.0,\"#f0f921\"]],\"sequentialminus\":[[0.0,\"#0d0887\"],[0.1111111111111111,\"#46039f\"],[0.2222222222222222,\"#7201a8\"],[0.3333333333333333,\"#9c179e\"],[0.4444444444444444,\"#bd3786\"],[0.5555555555555556,\"#d8576b\"],[0.6666666666666666,\"#ed7953\"],[0.7777777777777778,\"#fb9f3a\"],[0.8888888888888888,\"#fdca26\"],[1.0,\"#f0f921\"]],\"diverging\":[[0,\"#8e0152\"],[0.1,\"#c51b7d\"],[0.2,\"#de77ae\"],[0.3,\"#f1b6da\"],[0.4,\"#fde0ef\"],[0.5,\"#f7f7f7\"],[0.6,\"#e6f5d0\"],[0.7,\"#b8e186\"],[0.8,\"#7fbc41\"],[0.9,\"#4d9221\"],[1,\"#276419\"]]},\"xaxis\":{\"gridcolor\":\"#283442\",\"linecolor\":\"#506784\",\"ticks\":\"\",\"title\":{\"standoff\":15},\"zerolinecolor\":\"#283442\",\"automargin\":true,\"zerolinewidth\":2},\"yaxis\":{\"gridcolor\":\"#283442\",\"linecolor\":\"#506784\",\"ticks\":\"\",\"title\":{\"standoff\":15},\"zerolinecolor\":\"#283442\",\"automargin\":true,\"zerolinewidth\":2},\"scene\":{\"xaxis\":{\"backgroundcolor\":\"rgb(17,17,17)\",\"gridcolor\":\"#506784\",\"linecolor\":\"#506784\",\"showbackground\":true,\"ticks\":\"\",\"zerolinecolor\":\"#C8D4E3\",\"gridwidth\":2},\"yaxis\":{\"backgroundcolor\":\"rgb(17,17,17)\",\"gridcolor\":\"#506784\",\"linecolor\":\"#506784\",\"showbackground\":true,\"ticks\":\"\",\"zerolinecolor\":\"#C8D4E3\",\"gridwidth\":2},\"zaxis\":{\"backgroundcolor\":\"rgb(17,17,17)\",\"gridcolor\":\"#506784\",\"linecolor\":\"#506784\",\"showbackground\":true,\"ticks\":\"\",\"zerolinecolor\":\"#C8D4E3\",\"gridwidth\":2}},\"shapedefaults\":{\"line\":{\"color\":\"#f2f5fa\"}},\"annotationdefaults\":{\"arrowcolor\":\"#f2f5fa\",\"arrowhead\":0,\"arrowwidth\":1},\"geo\":{\"bgcolor\":\"rgb(17,17,17)\",\"landcolor\":\"rgb(17,17,17)\",\"subunitcolor\":\"#506784\",\"showland\":true,\"showlakes\":true,\"lakecolor\":\"rgb(17,17,17)\"},\"title\":{\"x\":0.05},\"updatemenudefaults\":{\"bgcolor\":\"#506784\",\"borderwidth\":0},\"sliderdefaults\":{\"bgcolor\":\"#C8D4E3\",\"borderwidth\":1,\"bordercolor\":\"rgb(17,17,17)\",\"tickwidth\":0},\"mapbox\":{\"style\":\"dark\"}}}},                        {\"responsive\": true}                    ).then(function(){\n                            \nvar gd = document.getElementById('ce4b0924-fbfe-4451-959d-d524b178783b');\nvar x = new MutationObserver(function (mutations, observer) {{\n        var display = window.getComputedStyle(gd).display;\n        if (!display || display === 'none') {{\n            console.log([gd, 'removed!']);\n            Plotly.purge(gd);\n            observer.disconnect();\n        }}\n}});\n\n// Listen for the removal of the full notebook cells\nvar notebookContainer = gd.closest('#notebook-container');\nif (notebookContainer) {{\n    x.observe(notebookContainer, {childList: true});\n}}\n\n// Listen for the clearing of the current output cell\nvar outputEl = gd.closest('.output');\nif (outputEl) {{\n    x.observe(outputEl, {childList: true});\n}}\n\n                        })                };                });            </script>        </div>"
     },
     "metadata": {},
     "output_type": "display_data"
    }
   ],
   "source": [
    "data = pd.read_csv(filename)\n",
    "\n",
    "# adding column names to the data\n",
    "data.columns = ['L', 'Intensity2']\n",
    "param1 = data['Intensity2']\n",
    "param2 = data['L']\n",
    "x_label = 'L'\n",
    "y_label = 'Intensity2'\n",
    "\n",
    "# getting the values of each row\n",
    "param_1 = param1.values\n",
    "param_2 = param2.values\n",
    "\n",
    "# creating the plotly figure\n",
    "fig = go.Figure()\n",
    "# adding a trace of the current vs voltage\n",
    "fig.add_trace(go.Scatter(x=param_2, y=param_1, mode='lines', name='data', line=dict(color='blue', width=1)))"
   ]
  },
  {
   "cell_type": "code",
   "execution_count": 12,
   "id": "c98d4dd2",
   "metadata": {
    "ExecuteTime": {
     "end_time": "2023-05-26T08:53:16.020559100Z",
     "start_time": "2023-05-26T08:53:15.487182200Z"
    }
   },
   "outputs": [
    {
     "name": "stderr",
     "output_type": "stream",
     "text": [
      "C:\\Users\\vlq17525\\AppData\\Local\\Temp\\ipykernel_2724\\3812278331.py:25: FutureWarning:\n",
      "\n",
      "The frame.append method is deprecated and will be removed from pandas in a future version. Use pandas.concat instead.\n",
      "\n",
      "C:\\Users\\vlq17525\\AppData\\Local\\Temp\\ipykernel_2724\\3812278331.py:25: FutureWarning:\n",
      "\n",
      "The frame.append method is deprecated and will be removed from pandas in a future version. Use pandas.concat instead.\n",
      "\n",
      "C:\\Users\\vlq17525\\AppData\\Local\\Temp\\ipykernel_2724\\3812278331.py:25: FutureWarning:\n",
      "\n",
      "The frame.append method is deprecated and will be removed from pandas in a future version. Use pandas.concat instead.\n",
      "\n",
      "C:\\Users\\vlq17525\\AppData\\Local\\Temp\\ipykernel_2724\\3812278331.py:25: FutureWarning:\n",
      "\n",
      "The frame.append method is deprecated and will be removed from pandas in a future version. Use pandas.concat instead.\n",
      "\n",
      "C:\\Users\\vlq17525\\AppData\\Local\\Temp\\ipykernel_2724\\3812278331.py:25: FutureWarning:\n",
      "\n",
      "The frame.append method is deprecated and will be removed from pandas in a future version. Use pandas.concat instead.\n",
      "\n",
      "C:\\Users\\vlq17525\\AppData\\Local\\Temp\\ipykernel_2724\\3812278331.py:25: FutureWarning:\n",
      "\n",
      "The frame.append method is deprecated and will be removed from pandas in a future version. Use pandas.concat instead.\n",
      "\n",
      "C:\\Users\\vlq17525\\AppData\\Local\\Temp\\ipykernel_2724\\3812278331.py:25: FutureWarning:\n",
      "\n",
      "The frame.append method is deprecated and will be removed from pandas in a future version. Use pandas.concat instead.\n",
      "\n",
      "C:\\Users\\vlq17525\\AppData\\Local\\Temp\\ipykernel_2724\\3812278331.py:25: FutureWarning:\n",
      "\n",
      "The frame.append method is deprecated and will be removed from pandas in a future version. Use pandas.concat instead.\n",
      "\n",
      "C:\\Users\\vlq17525\\AppData\\Local\\Temp\\ipykernel_2724\\3812278331.py:25: FutureWarning:\n",
      "\n",
      "The frame.append method is deprecated and will be removed from pandas in a future version. Use pandas.concat instead.\n",
      "\n",
      "C:\\Users\\vlq17525\\AppData\\Local\\Temp\\ipykernel_2724\\3812278331.py:25: FutureWarning:\n",
      "\n",
      "The frame.append method is deprecated and will be removed from pandas in a future version. Use pandas.concat instead.\n",
      "\n",
      "C:\\Users\\vlq17525\\AppData\\Local\\Temp\\ipykernel_2724\\3812278331.py:25: FutureWarning:\n",
      "\n",
      "The frame.append method is deprecated and will be removed from pandas in a future version. Use pandas.concat instead.\n",
      "\n",
      "C:\\Users\\vlq17525\\AppData\\Local\\Temp\\ipykernel_2724\\3812278331.py:25: FutureWarning:\n",
      "\n",
      "The frame.append method is deprecated and will be removed from pandas in a future version. Use pandas.concat instead.\n",
      "\n",
      "C:\\Users\\vlq17525\\AppData\\Local\\Temp\\ipykernel_2724\\3812278331.py:25: FutureWarning:\n",
      "\n",
      "The frame.append method is deprecated and will be removed from pandas in a future version. Use pandas.concat instead.\n",
      "\n",
      "C:\\Users\\vlq17525\\AppData\\Local\\Temp\\ipykernel_2724\\3812278331.py:25: FutureWarning:\n",
      "\n",
      "The frame.append method is deprecated and will be removed from pandas in a future version. Use pandas.concat instead.\n",
      "\n",
      "C:\\Users\\vlq17525\\AppData\\Local\\Temp\\ipykernel_2724\\3812278331.py:25: FutureWarning:\n",
      "\n",
      "The frame.append method is deprecated and will be removed from pandas in a future version. Use pandas.concat instead.\n",
      "\n",
      "C:\\Users\\vlq17525\\AppData\\Local\\Temp\\ipykernel_2724\\3812278331.py:25: FutureWarning:\n",
      "\n",
      "The frame.append method is deprecated and will be removed from pandas in a future version. Use pandas.concat instead.\n",
      "\n",
      "C:\\Users\\vlq17525\\AppData\\Local\\Temp\\ipykernel_2724\\3812278331.py:25: FutureWarning:\n",
      "\n",
      "The frame.append method is deprecated and will be removed from pandas in a future version. Use pandas.concat instead.\n",
      "\n",
      "C:\\Users\\vlq17525\\AppData\\Local\\Temp\\ipykernel_2724\\3812278331.py:25: FutureWarning:\n",
      "\n",
      "The frame.append method is deprecated and will be removed from pandas in a future version. Use pandas.concat instead.\n",
      "\n",
      "C:\\Users\\vlq17525\\AppData\\Local\\Temp\\ipykernel_2724\\3812278331.py:25: FutureWarning:\n",
      "\n",
      "The frame.append method is deprecated and will be removed from pandas in a future version. Use pandas.concat instead.\n",
      "\n",
      "C:\\Users\\vlq17525\\AppData\\Local\\Temp\\ipykernel_2724\\3812278331.py:25: FutureWarning:\n",
      "\n",
      "The frame.append method is deprecated and will be removed from pandas in a future version. Use pandas.concat instead.\n",
      "\n",
      "C:\\Users\\vlq17525\\AppData\\Local\\Temp\\ipykernel_2724\\3812278331.py:25: FutureWarning:\n",
      "\n",
      "The frame.append method is deprecated and will be removed from pandas in a future version. Use pandas.concat instead.\n",
      "\n",
      "C:\\Users\\vlq17525\\AppData\\Local\\Temp\\ipykernel_2724\\3812278331.py:25: FutureWarning:\n",
      "\n",
      "The frame.append method is deprecated and will be removed from pandas in a future version. Use pandas.concat instead.\n",
      "\n",
      "C:\\Users\\vlq17525\\AppData\\Local\\Temp\\ipykernel_2724\\3812278331.py:25: FutureWarning:\n",
      "\n",
      "The frame.append method is deprecated and will be removed from pandas in a future version. Use pandas.concat instead.\n",
      "\n",
      "C:\\Users\\vlq17525\\AppData\\Local\\Temp\\ipykernel_2724\\3812278331.py:25: FutureWarning:\n",
      "\n",
      "The frame.append method is deprecated and will be removed from pandas in a future version. Use pandas.concat instead.\n",
      "\n",
      "C:\\Users\\vlq17525\\AppData\\Local\\Temp\\ipykernel_2724\\3812278331.py:25: FutureWarning:\n",
      "\n",
      "The frame.append method is deprecated and will be removed from pandas in a future version. Use pandas.concat instead.\n",
      "\n",
      "C:\\Users\\vlq17525\\AppData\\Local\\Temp\\ipykernel_2724\\3812278331.py:25: FutureWarning:\n",
      "\n",
      "The frame.append method is deprecated and will be removed from pandas in a future version. Use pandas.concat instead.\n",
      "\n",
      "C:\\Users\\vlq17525\\AppData\\Local\\Temp\\ipykernel_2724\\3812278331.py:25: FutureWarning:\n",
      "\n",
      "The frame.append method is deprecated and will be removed from pandas in a future version. Use pandas.concat instead.\n",
      "\n",
      "C:\\Users\\vlq17525\\AppData\\Local\\Temp\\ipykernel_2724\\3812278331.py:25: FutureWarning:\n",
      "\n",
      "The frame.append method is deprecated and will be removed from pandas in a future version. Use pandas.concat instead.\n",
      "\n",
      "C:\\Users\\vlq17525\\AppData\\Local\\Temp\\ipykernel_2724\\3812278331.py:25: FutureWarning:\n",
      "\n",
      "The frame.append method is deprecated and will be removed from pandas in a future version. Use pandas.concat instead.\n",
      "\n",
      "C:\\Users\\vlq17525\\AppData\\Local\\Temp\\ipykernel_2724\\3812278331.py:25: FutureWarning:\n",
      "\n",
      "The frame.append method is deprecated and will be removed from pandas in a future version. Use pandas.concat instead.\n",
      "\n",
      "C:\\Users\\vlq17525\\AppData\\Local\\Temp\\ipykernel_2724\\3812278331.py:25: FutureWarning:\n",
      "\n",
      "The frame.append method is deprecated and will be removed from pandas in a future version. Use pandas.concat instead.\n",
      "\n",
      "C:\\Users\\vlq17525\\AppData\\Local\\Temp\\ipykernel_2724\\3812278331.py:25: FutureWarning:\n",
      "\n",
      "The frame.append method is deprecated and will be removed from pandas in a future version. Use pandas.concat instead.\n",
      "\n",
      "C:\\Users\\vlq17525\\AppData\\Local\\Temp\\ipykernel_2724\\3812278331.py:25: FutureWarning:\n",
      "\n",
      "The frame.append method is deprecated and will be removed from pandas in a future version. Use pandas.concat instead.\n",
      "\n",
      "C:\\Users\\vlq17525\\AppData\\Local\\Temp\\ipykernel_2724\\3812278331.py:25: FutureWarning:\n",
      "\n",
      "The frame.append method is deprecated and will be removed from pandas in a future version. Use pandas.concat instead.\n",
      "\n",
      "C:\\Users\\vlq17525\\AppData\\Local\\Temp\\ipykernel_2724\\3812278331.py:25: FutureWarning:\n",
      "\n",
      "The frame.append method is deprecated and will be removed from pandas in a future version. Use pandas.concat instead.\n",
      "\n",
      "C:\\Users\\vlq17525\\AppData\\Local\\Temp\\ipykernel_2724\\3812278331.py:25: FutureWarning:\n",
      "\n",
      "The frame.append method is deprecated and will be removed from pandas in a future version. Use pandas.concat instead.\n",
      "\n",
      "C:\\Users\\vlq17525\\AppData\\Local\\Temp\\ipykernel_2724\\3812278331.py:25: FutureWarning:\n",
      "\n",
      "The frame.append method is deprecated and will be removed from pandas in a future version. Use pandas.concat instead.\n",
      "\n",
      "C:\\Users\\vlq17525\\AppData\\Local\\Temp\\ipykernel_2724\\3812278331.py:25: FutureWarning:\n",
      "\n",
      "The frame.append method is deprecated and will be removed from pandas in a future version. Use pandas.concat instead.\n",
      "\n",
      "C:\\Users\\vlq17525\\AppData\\Local\\Temp\\ipykernel_2724\\3812278331.py:25: FutureWarning:\n",
      "\n",
      "The frame.append method is deprecated and will be removed from pandas in a future version. Use pandas.concat instead.\n",
      "\n",
      "C:\\Users\\vlq17525\\AppData\\Local\\Temp\\ipykernel_2724\\3812278331.py:25: FutureWarning:\n",
      "\n",
      "The frame.append method is deprecated and will be removed from pandas in a future version. Use pandas.concat instead.\n",
      "\n",
      "C:\\Users\\vlq17525\\AppData\\Local\\Temp\\ipykernel_2724\\3812278331.py:25: FutureWarning:\n",
      "\n",
      "The frame.append method is deprecated and will be removed from pandas in a future version. Use pandas.concat instead.\n",
      "\n",
      "C:\\Users\\vlq17525\\AppData\\Local\\Temp\\ipykernel_2724\\3812278331.py:25: FutureWarning:\n",
      "\n",
      "The frame.append method is deprecated and will be removed from pandas in a future version. Use pandas.concat instead.\n",
      "\n",
      "C:\\Users\\vlq17525\\AppData\\Local\\Temp\\ipykernel_2724\\3812278331.py:25: FutureWarning:\n",
      "\n",
      "The frame.append method is deprecated and will be removed from pandas in a future version. Use pandas.concat instead.\n",
      "\n",
      "C:\\Users\\vlq17525\\AppData\\Local\\Temp\\ipykernel_2724\\3812278331.py:25: FutureWarning:\n",
      "\n",
      "The frame.append method is deprecated and will be removed from pandas in a future version. Use pandas.concat instead.\n",
      "\n",
      "C:\\Users\\vlq17525\\AppData\\Local\\Temp\\ipykernel_2724\\3812278331.py:25: FutureWarning:\n",
      "\n",
      "The frame.append method is deprecated and will be removed from pandas in a future version. Use pandas.concat instead.\n",
      "\n",
      "C:\\Users\\vlq17525\\AppData\\Local\\Temp\\ipykernel_2724\\3812278331.py:25: FutureWarning:\n",
      "\n",
      "The frame.append method is deprecated and will be removed from pandas in a future version. Use pandas.concat instead.\n",
      "\n",
      "C:\\Users\\vlq17525\\AppData\\Local\\Temp\\ipykernel_2724\\3812278331.py:25: FutureWarning:\n",
      "\n",
      "The frame.append method is deprecated and will be removed from pandas in a future version. Use pandas.concat instead.\n",
      "\n",
      "C:\\Users\\vlq17525\\AppData\\Local\\Temp\\ipykernel_2724\\3812278331.py:25: FutureWarning:\n",
      "\n",
      "The frame.append method is deprecated and will be removed from pandas in a future version. Use pandas.concat instead.\n",
      "\n",
      "C:\\Users\\vlq17525\\AppData\\Local\\Temp\\ipykernel_2724\\3812278331.py:25: FutureWarning:\n",
      "\n",
      "The frame.append method is deprecated and will be removed from pandas in a future version. Use pandas.concat instead.\n",
      "\n",
      "C:\\Users\\vlq17525\\AppData\\Local\\Temp\\ipykernel_2724\\3812278331.py:25: FutureWarning:\n",
      "\n",
      "The frame.append method is deprecated and will be removed from pandas in a future version. Use pandas.concat instead.\n",
      "\n",
      "C:\\Users\\vlq17525\\AppData\\Local\\Temp\\ipykernel_2724\\3812278331.py:25: FutureWarning:\n",
      "\n",
      "The frame.append method is deprecated and will be removed from pandas in a future version. Use pandas.concat instead.\n",
      "\n",
      "C:\\Users\\vlq17525\\AppData\\Local\\Temp\\ipykernel_2724\\3812278331.py:25: FutureWarning:\n",
      "\n",
      "The frame.append method is deprecated and will be removed from pandas in a future version. Use pandas.concat instead.\n",
      "\n",
      "C:\\Users\\vlq17525\\AppData\\Local\\Temp\\ipykernel_2724\\3812278331.py:25: FutureWarning:\n",
      "\n",
      "The frame.append method is deprecated and will be removed from pandas in a future version. Use pandas.concat instead.\n",
      "\n",
      "C:\\Users\\vlq17525\\AppData\\Local\\Temp\\ipykernel_2724\\3812278331.py:25: FutureWarning:\n",
      "\n",
      "The frame.append method is deprecated and will be removed from pandas in a future version. Use pandas.concat instead.\n",
      "\n",
      "C:\\Users\\vlq17525\\AppData\\Local\\Temp\\ipykernel_2724\\3812278331.py:25: FutureWarning:\n",
      "\n",
      "The frame.append method is deprecated and will be removed from pandas in a future version. Use pandas.concat instead.\n",
      "\n",
      "C:\\Users\\vlq17525\\AppData\\Local\\Temp\\ipykernel_2724\\3812278331.py:25: FutureWarning:\n",
      "\n",
      "The frame.append method is deprecated and will be removed from pandas in a future version. Use pandas.concat instead.\n",
      "\n",
      "C:\\Users\\vlq17525\\AppData\\Local\\Temp\\ipykernel_2724\\3812278331.py:25: FutureWarning:\n",
      "\n",
      "The frame.append method is deprecated and will be removed from pandas in a future version. Use pandas.concat instead.\n",
      "\n",
      "C:\\Users\\vlq17525\\AppData\\Local\\Temp\\ipykernel_2724\\3812278331.py:25: FutureWarning:\n",
      "\n",
      "The frame.append method is deprecated and will be removed from pandas in a future version. Use pandas.concat instead.\n",
      "\n",
      "C:\\Users\\vlq17525\\AppData\\Local\\Temp\\ipykernel_2724\\3812278331.py:25: FutureWarning:\n",
      "\n",
      "The frame.append method is deprecated and will be removed from pandas in a future version. Use pandas.concat instead.\n",
      "\n",
      "C:\\Users\\vlq17525\\AppData\\Local\\Temp\\ipykernel_2724\\3812278331.py:25: FutureWarning:\n",
      "\n",
      "The frame.append method is deprecated and will be removed from pandas in a future version. Use pandas.concat instead.\n",
      "\n",
      "C:\\Users\\vlq17525\\AppData\\Local\\Temp\\ipykernel_2724\\3812278331.py:25: FutureWarning:\n",
      "\n",
      "The frame.append method is deprecated and will be removed from pandas in a future version. Use pandas.concat instead.\n",
      "\n",
      "C:\\Users\\vlq17525\\AppData\\Local\\Temp\\ipykernel_2724\\3812278331.py:25: FutureWarning:\n",
      "\n",
      "The frame.append method is deprecated and will be removed from pandas in a future version. Use pandas.concat instead.\n",
      "\n",
      "C:\\Users\\vlq17525\\AppData\\Local\\Temp\\ipykernel_2724\\3812278331.py:25: FutureWarning:\n",
      "\n",
      "The frame.append method is deprecated and will be removed from pandas in a future version. Use pandas.concat instead.\n",
      "\n",
      "C:\\Users\\vlq17525\\AppData\\Local\\Temp\\ipykernel_2724\\3812278331.py:25: FutureWarning:\n",
      "\n",
      "The frame.append method is deprecated and will be removed from pandas in a future version. Use pandas.concat instead.\n",
      "\n",
      "C:\\Users\\vlq17525\\AppData\\Local\\Temp\\ipykernel_2724\\3812278331.py:25: FutureWarning:\n",
      "\n",
      "The frame.append method is deprecated and will be removed from pandas in a future version. Use pandas.concat instead.\n",
      "\n",
      "C:\\Users\\vlq17525\\AppData\\Local\\Temp\\ipykernel_2724\\3812278331.py:25: FutureWarning:\n",
      "\n",
      "The frame.append method is deprecated and will be removed from pandas in a future version. Use pandas.concat instead.\n",
      "\n",
      "C:\\Users\\vlq17525\\AppData\\Local\\Temp\\ipykernel_2724\\3812278331.py:25: FutureWarning:\n",
      "\n",
      "The frame.append method is deprecated and will be removed from pandas in a future version. Use pandas.concat instead.\n",
      "\n",
      "C:\\Users\\vlq17525\\AppData\\Local\\Temp\\ipykernel_2724\\3812278331.py:25: FutureWarning:\n",
      "\n",
      "The frame.append method is deprecated and will be removed from pandas in a future version. Use pandas.concat instead.\n",
      "\n",
      "C:\\Users\\vlq17525\\AppData\\Local\\Temp\\ipykernel_2724\\3812278331.py:25: FutureWarning:\n",
      "\n",
      "The frame.append method is deprecated and will be removed from pandas in a future version. Use pandas.concat instead.\n",
      "\n",
      "C:\\Users\\vlq17525\\AppData\\Local\\Temp\\ipykernel_2724\\3812278331.py:25: FutureWarning:\n",
      "\n",
      "The frame.append method is deprecated and will be removed from pandas in a future version. Use pandas.concat instead.\n",
      "\n",
      "C:\\Users\\vlq17525\\AppData\\Local\\Temp\\ipykernel_2724\\3812278331.py:25: FutureWarning:\n",
      "\n",
      "The frame.append method is deprecated and will be removed from pandas in a future version. Use pandas.concat instead.\n",
      "\n",
      "C:\\Users\\vlq17525\\AppData\\Local\\Temp\\ipykernel_2724\\3812278331.py:25: FutureWarning:\n",
      "\n",
      "The frame.append method is deprecated and will be removed from pandas in a future version. Use pandas.concat instead.\n",
      "\n",
      "C:\\Users\\vlq17525\\AppData\\Local\\Temp\\ipykernel_2724\\3812278331.py:25: FutureWarning:\n",
      "\n",
      "The frame.append method is deprecated and will be removed from pandas in a future version. Use pandas.concat instead.\n",
      "\n",
      "C:\\Users\\vlq17525\\AppData\\Local\\Temp\\ipykernel_2724\\3812278331.py:25: FutureWarning:\n",
      "\n",
      "The frame.append method is deprecated and will be removed from pandas in a future version. Use pandas.concat instead.\n",
      "\n",
      "C:\\Users\\vlq17525\\AppData\\Local\\Temp\\ipykernel_2724\\3812278331.py:25: FutureWarning:\n",
      "\n",
      "The frame.append method is deprecated and will be removed from pandas in a future version. Use pandas.concat instead.\n",
      "\n",
      "C:\\Users\\vlq17525\\AppData\\Local\\Temp\\ipykernel_2724\\3812278331.py:25: FutureWarning:\n",
      "\n",
      "The frame.append method is deprecated and will be removed from pandas in a future version. Use pandas.concat instead.\n",
      "\n",
      "C:\\Users\\vlq17525\\AppData\\Local\\Temp\\ipykernel_2724\\3812278331.py:25: FutureWarning:\n",
      "\n",
      "The frame.append method is deprecated and will be removed from pandas in a future version. Use pandas.concat instead.\n",
      "\n",
      "C:\\Users\\vlq17525\\AppData\\Local\\Temp\\ipykernel_2724\\3812278331.py:25: FutureWarning:\n",
      "\n",
      "The frame.append method is deprecated and will be removed from pandas in a future version. Use pandas.concat instead.\n",
      "\n",
      "C:\\Users\\vlq17525\\AppData\\Local\\Temp\\ipykernel_2724\\3812278331.py:25: FutureWarning:\n",
      "\n",
      "The frame.append method is deprecated and will be removed from pandas in a future version. Use pandas.concat instead.\n",
      "\n",
      "C:\\Users\\vlq17525\\AppData\\Local\\Temp\\ipykernel_2724\\3812278331.py:25: FutureWarning:\n",
      "\n",
      "The frame.append method is deprecated and will be removed from pandas in a future version. Use pandas.concat instead.\n",
      "\n",
      "C:\\Users\\vlq17525\\AppData\\Local\\Temp\\ipykernel_2724\\3812278331.py:25: FutureWarning:\n",
      "\n",
      "The frame.append method is deprecated and will be removed from pandas in a future version. Use pandas.concat instead.\n",
      "\n",
      "C:\\Users\\vlq17525\\AppData\\Local\\Temp\\ipykernel_2724\\3812278331.py:25: FutureWarning:\n",
      "\n",
      "The frame.append method is deprecated and will be removed from pandas in a future version. Use pandas.concat instead.\n",
      "\n",
      "C:\\Users\\vlq17525\\AppData\\Local\\Temp\\ipykernel_2724\\3812278331.py:25: FutureWarning:\n",
      "\n",
      "The frame.append method is deprecated and will be removed from pandas in a future version. Use pandas.concat instead.\n",
      "\n",
      "C:\\Users\\vlq17525\\AppData\\Local\\Temp\\ipykernel_2724\\3812278331.py:25: FutureWarning:\n",
      "\n",
      "The frame.append method is deprecated and will be removed from pandas in a future version. Use pandas.concat instead.\n",
      "\n",
      "C:\\Users\\vlq17525\\AppData\\Local\\Temp\\ipykernel_2724\\3812278331.py:25: FutureWarning:\n",
      "\n",
      "The frame.append method is deprecated and will be removed from pandas in a future version. Use pandas.concat instead.\n",
      "\n",
      "C:\\Users\\vlq17525\\AppData\\Local\\Temp\\ipykernel_2724\\3812278331.py:25: FutureWarning:\n",
      "\n",
      "The frame.append method is deprecated and will be removed from pandas in a future version. Use pandas.concat instead.\n",
      "\n",
      "C:\\Users\\vlq17525\\AppData\\Local\\Temp\\ipykernel_2724\\3812278331.py:25: FutureWarning:\n",
      "\n",
      "The frame.append method is deprecated and will be removed from pandas in a future version. Use pandas.concat instead.\n",
      "\n",
      "C:\\Users\\vlq17525\\AppData\\Local\\Temp\\ipykernel_2724\\3812278331.py:25: FutureWarning:\n",
      "\n",
      "The frame.append method is deprecated and will be removed from pandas in a future version. Use pandas.concat instead.\n",
      "\n",
      "C:\\Users\\vlq17525\\AppData\\Local\\Temp\\ipykernel_2724\\3812278331.py:25: FutureWarning:\n",
      "\n",
      "The frame.append method is deprecated and will be removed from pandas in a future version. Use pandas.concat instead.\n",
      "\n",
      "C:\\Users\\vlq17525\\AppData\\Local\\Temp\\ipykernel_2724\\3812278331.py:25: FutureWarning:\n",
      "\n",
      "The frame.append method is deprecated and will be removed from pandas in a future version. Use pandas.concat instead.\n",
      "\n",
      "C:\\Users\\vlq17525\\AppData\\Local\\Temp\\ipykernel_2724\\3812278331.py:25: FutureWarning:\n",
      "\n",
      "The frame.append method is deprecated and will be removed from pandas in a future version. Use pandas.concat instead.\n",
      "\n",
      "C:\\Users\\vlq17525\\AppData\\Local\\Temp\\ipykernel_2724\\3812278331.py:25: FutureWarning:\n",
      "\n",
      "The frame.append method is deprecated and will be removed from pandas in a future version. Use pandas.concat instead.\n",
      "\n",
      "C:\\Users\\vlq17525\\AppData\\Local\\Temp\\ipykernel_2724\\3812278331.py:25: FutureWarning:\n",
      "\n",
      "The frame.append method is deprecated and will be removed from pandas in a future version. Use pandas.concat instead.\n",
      "\n",
      "C:\\Users\\vlq17525\\AppData\\Local\\Temp\\ipykernel_2724\\3812278331.py:25: FutureWarning:\n",
      "\n",
      "The frame.append method is deprecated and will be removed from pandas in a future version. Use pandas.concat instead.\n",
      "\n",
      "C:\\Users\\vlq17525\\AppData\\Local\\Temp\\ipykernel_2724\\3812278331.py:25: FutureWarning:\n",
      "\n",
      "The frame.append method is deprecated and will be removed from pandas in a future version. Use pandas.concat instead.\n",
      "\n",
      "C:\\Users\\vlq17525\\AppData\\Local\\Temp\\ipykernel_2724\\3812278331.py:25: FutureWarning:\n",
      "\n",
      "The frame.append method is deprecated and will be removed from pandas in a future version. Use pandas.concat instead.\n",
      "\n",
      "C:\\Users\\vlq17525\\AppData\\Local\\Temp\\ipykernel_2724\\3812278331.py:25: FutureWarning:\n",
      "\n",
      "The frame.append method is deprecated and will be removed from pandas in a future version. Use pandas.concat instead.\n",
      "\n",
      "C:\\Users\\vlq17525\\AppData\\Local\\Temp\\ipykernel_2724\\3812278331.py:25: FutureWarning:\n",
      "\n",
      "The frame.append method is deprecated and will be removed from pandas in a future version. Use pandas.concat instead.\n",
      "\n",
      "C:\\Users\\vlq17525\\AppData\\Local\\Temp\\ipykernel_2724\\3812278331.py:25: FutureWarning:\n",
      "\n",
      "The frame.append method is deprecated and will be removed from pandas in a future version. Use pandas.concat instead.\n",
      "\n",
      "C:\\Users\\vlq17525\\AppData\\Local\\Temp\\ipykernel_2724\\3812278331.py:25: FutureWarning:\n",
      "\n",
      "The frame.append method is deprecated and will be removed from pandas in a future version. Use pandas.concat instead.\n",
      "\n",
      "C:\\Users\\vlq17525\\AppData\\Local\\Temp\\ipykernel_2724\\3812278331.py:25: FutureWarning:\n",
      "\n",
      "The frame.append method is deprecated and will be removed from pandas in a future version. Use pandas.concat instead.\n",
      "\n",
      "C:\\Users\\vlq17525\\AppData\\Local\\Temp\\ipykernel_2724\\3812278331.py:25: FutureWarning:\n",
      "\n",
      "The frame.append method is deprecated and will be removed from pandas in a future version. Use pandas.concat instead.\n",
      "\n",
      "C:\\Users\\vlq17525\\AppData\\Local\\Temp\\ipykernel_2724\\3812278331.py:25: FutureWarning:\n",
      "\n",
      "The frame.append method is deprecated and will be removed from pandas in a future version. Use pandas.concat instead.\n",
      "\n",
      "C:\\Users\\vlq17525\\AppData\\Local\\Temp\\ipykernel_2724\\3812278331.py:25: FutureWarning:\n",
      "\n",
      "The frame.append method is deprecated and will be removed from pandas in a future version. Use pandas.concat instead.\n",
      "\n",
      "C:\\Users\\vlq17525\\AppData\\Local\\Temp\\ipykernel_2724\\3812278331.py:25: FutureWarning:\n",
      "\n",
      "The frame.append method is deprecated and will be removed from pandas in a future version. Use pandas.concat instead.\n",
      "\n",
      "C:\\Users\\vlq17525\\AppData\\Local\\Temp\\ipykernel_2724\\3812278331.py:25: FutureWarning:\n",
      "\n",
      "The frame.append method is deprecated and will be removed from pandas in a future version. Use pandas.concat instead.\n",
      "\n",
      "C:\\Users\\vlq17525\\AppData\\Local\\Temp\\ipykernel_2724\\3812278331.py:25: FutureWarning:\n",
      "\n",
      "The frame.append method is deprecated and will be removed from pandas in a future version. Use pandas.concat instead.\n",
      "\n",
      "C:\\Users\\vlq17525\\AppData\\Local\\Temp\\ipykernel_2724\\3812278331.py:25: FutureWarning:\n",
      "\n",
      "The frame.append method is deprecated and will be removed from pandas in a future version. Use pandas.concat instead.\n",
      "\n",
      "C:\\Users\\vlq17525\\AppData\\Local\\Temp\\ipykernel_2724\\3812278331.py:25: FutureWarning:\n",
      "\n",
      "The frame.append method is deprecated and will be removed from pandas in a future version. Use pandas.concat instead.\n",
      "\n",
      "C:\\Users\\vlq17525\\AppData\\Local\\Temp\\ipykernel_2724\\3812278331.py:25: FutureWarning:\n",
      "\n",
      "The frame.append method is deprecated and will be removed from pandas in a future version. Use pandas.concat instead.\n",
      "\n",
      "C:\\Users\\vlq17525\\AppData\\Local\\Temp\\ipykernel_2724\\3812278331.py:25: FutureWarning:\n",
      "\n",
      "The frame.append method is deprecated and will be removed from pandas in a future version. Use pandas.concat instead.\n",
      "\n",
      "C:\\Users\\vlq17525\\AppData\\Local\\Temp\\ipykernel_2724\\3812278331.py:25: FutureWarning:\n",
      "\n",
      "The frame.append method is deprecated and will be removed from pandas in a future version. Use pandas.concat instead.\n",
      "\n",
      "C:\\Users\\vlq17525\\AppData\\Local\\Temp\\ipykernel_2724\\3812278331.py:25: FutureWarning:\n",
      "\n",
      "The frame.append method is deprecated and will be removed from pandas in a future version. Use pandas.concat instead.\n",
      "\n",
      "C:\\Users\\vlq17525\\AppData\\Local\\Temp\\ipykernel_2724\\3812278331.py:25: FutureWarning:\n",
      "\n",
      "The frame.append method is deprecated and will be removed from pandas in a future version. Use pandas.concat instead.\n",
      "\n",
      "C:\\Users\\vlq17525\\AppData\\Local\\Temp\\ipykernel_2724\\3812278331.py:25: FutureWarning:\n",
      "\n",
      "The frame.append method is deprecated and will be removed from pandas in a future version. Use pandas.concat instead.\n",
      "\n",
      "C:\\Users\\vlq17525\\AppData\\Local\\Temp\\ipykernel_2724\\3812278331.py:25: FutureWarning:\n",
      "\n",
      "The frame.append method is deprecated and will be removed from pandas in a future version. Use pandas.concat instead.\n",
      "\n",
      "C:\\Users\\vlq17525\\AppData\\Local\\Temp\\ipykernel_2724\\3812278331.py:25: FutureWarning:\n",
      "\n",
      "The frame.append method is deprecated and will be removed from pandas in a future version. Use pandas.concat instead.\n",
      "\n",
      "C:\\Users\\vlq17525\\AppData\\Local\\Temp\\ipykernel_2724\\3812278331.py:25: FutureWarning:\n",
      "\n",
      "The frame.append method is deprecated and will be removed from pandas in a future version. Use pandas.concat instead.\n",
      "\n",
      "C:\\Users\\vlq17525\\AppData\\Local\\Temp\\ipykernel_2724\\3812278331.py:25: FutureWarning:\n",
      "\n",
      "The frame.append method is deprecated and will be removed from pandas in a future version. Use pandas.concat instead.\n",
      "\n",
      "C:\\Users\\vlq17525\\AppData\\Local\\Temp\\ipykernel_2724\\3812278331.py:25: FutureWarning:\n",
      "\n",
      "The frame.append method is deprecated and will be removed from pandas in a future version. Use pandas.concat instead.\n",
      "\n",
      "C:\\Users\\vlq17525\\AppData\\Local\\Temp\\ipykernel_2724\\3812278331.py:25: FutureWarning:\n",
      "\n",
      "The frame.append method is deprecated and will be removed from pandas in a future version. Use pandas.concat instead.\n",
      "\n",
      "C:\\Users\\vlq17525\\AppData\\Local\\Temp\\ipykernel_2724\\3812278331.py:25: FutureWarning:\n",
      "\n",
      "The frame.append method is deprecated and will be removed from pandas in a future version. Use pandas.concat instead.\n",
      "\n",
      "C:\\Users\\vlq17525\\AppData\\Local\\Temp\\ipykernel_2724\\3812278331.py:25: FutureWarning:\n",
      "\n",
      "The frame.append method is deprecated and will be removed from pandas in a future version. Use pandas.concat instead.\n",
      "\n",
      "C:\\Users\\vlq17525\\AppData\\Local\\Temp\\ipykernel_2724\\3812278331.py:25: FutureWarning:\n",
      "\n",
      "The frame.append method is deprecated and will be removed from pandas in a future version. Use pandas.concat instead.\n",
      "\n",
      "C:\\Users\\vlq17525\\AppData\\Local\\Temp\\ipykernel_2724\\3812278331.py:25: FutureWarning:\n",
      "\n",
      "The frame.append method is deprecated and will be removed from pandas in a future version. Use pandas.concat instead.\n",
      "\n",
      "C:\\Users\\vlq17525\\AppData\\Local\\Temp\\ipykernel_2724\\3812278331.py:25: FutureWarning:\n",
      "\n",
      "The frame.append method is deprecated and will be removed from pandas in a future version. Use pandas.concat instead.\n",
      "\n",
      "C:\\Users\\vlq17525\\AppData\\Local\\Temp\\ipykernel_2724\\3812278331.py:25: FutureWarning:\n",
      "\n",
      "The frame.append method is deprecated and will be removed from pandas in a future version. Use pandas.concat instead.\n",
      "\n"
     ]
    },
    {
     "name": "stdout",
     "output_type": "stream",
     "text": [
      "     degree order  R^2 score\n",
      "0             1.0   0.009813\n",
      "1             2.0   0.352474\n",
      "2             3.0   0.355701\n",
      "3             4.0   0.617596\n",
      "4             5.0   0.619772\n",
      "..            ...        ...\n",
      "144         145.0   0.046619\n",
      "145         146.0   0.046005\n",
      "146         147.0   0.046058\n",
      "147         148.0   0.045364\n",
      "148         149.0   0.045306\n",
      "\n",
      "[149 rows x 2 columns]\n"
     ]
    },
    {
     "name": "stderr",
     "output_type": "stream",
     "text": [
      "C:\\Users\\vlq17525\\AppData\\Local\\Temp\\ipykernel_2724\\3812278331.py:25: FutureWarning:\n",
      "\n",
      "The frame.append method is deprecated and will be removed from pandas in a future version. Use pandas.concat instead.\n",
      "\n",
      "C:\\Users\\vlq17525\\AppData\\Local\\Temp\\ipykernel_2724\\3812278331.py:25: FutureWarning:\n",
      "\n",
      "The frame.append method is deprecated and will be removed from pandas in a future version. Use pandas.concat instead.\n",
      "\n",
      "C:\\Users\\vlq17525\\AppData\\Local\\Temp\\ipykernel_2724\\3812278331.py:25: FutureWarning:\n",
      "\n",
      "The frame.append method is deprecated and will be removed from pandas in a future version. Use pandas.concat instead.\n",
      "\n",
      "C:\\Users\\vlq17525\\AppData\\Local\\Temp\\ipykernel_2724\\3812278331.py:25: FutureWarning:\n",
      "\n",
      "The frame.append method is deprecated and will be removed from pandas in a future version. Use pandas.concat instead.\n",
      "\n",
      "C:\\Users\\vlq17525\\AppData\\Local\\Temp\\ipykernel_2724\\3812278331.py:25: FutureWarning:\n",
      "\n",
      "The frame.append method is deprecated and will be removed from pandas in a future version. Use pandas.concat instead.\n",
      "\n",
      "C:\\Users\\vlq17525\\AppData\\Local\\Temp\\ipykernel_2724\\3812278331.py:25: FutureWarning:\n",
      "\n",
      "The frame.append method is deprecated and will be removed from pandas in a future version. Use pandas.concat instead.\n",
      "\n",
      "C:\\Users\\vlq17525\\AppData\\Local\\Temp\\ipykernel_2724\\3812278331.py:25: FutureWarning:\n",
      "\n",
      "The frame.append method is deprecated and will be removed from pandas in a future version. Use pandas.concat instead.\n",
      "\n",
      "C:\\Users\\vlq17525\\AppData\\Local\\Temp\\ipykernel_2724\\3812278331.py:25: FutureWarning:\n",
      "\n",
      "The frame.append method is deprecated and will be removed from pandas in a future version. Use pandas.concat instead.\n",
      "\n",
      "C:\\Users\\vlq17525\\AppData\\Local\\Temp\\ipykernel_2724\\3812278331.py:25: FutureWarning:\n",
      "\n",
      "The frame.append method is deprecated and will be removed from pandas in a future version. Use pandas.concat instead.\n",
      "\n",
      "C:\\Users\\vlq17525\\AppData\\Local\\Temp\\ipykernel_2724\\3812278331.py:25: FutureWarning:\n",
      "\n",
      "The frame.append method is deprecated and will be removed from pandas in a future version. Use pandas.concat instead.\n",
      "\n",
      "C:\\Users\\vlq17525\\AppData\\Local\\Temp\\ipykernel_2724\\3812278331.py:25: FutureWarning:\n",
      "\n",
      "The frame.append method is deprecated and will be removed from pandas in a future version. Use pandas.concat instead.\n",
      "\n",
      "C:\\Users\\vlq17525\\AppData\\Local\\Temp\\ipykernel_2724\\3812278331.py:25: FutureWarning:\n",
      "\n",
      "The frame.append method is deprecated and will be removed from pandas in a future version. Use pandas.concat instead.\n",
      "\n",
      "C:\\Users\\vlq17525\\AppData\\Local\\Temp\\ipykernel_2724\\3812278331.py:25: FutureWarning:\n",
      "\n",
      "The frame.append method is deprecated and will be removed from pandas in a future version. Use pandas.concat instead.\n",
      "\n",
      "C:\\Users\\vlq17525\\AppData\\Local\\Temp\\ipykernel_2724\\3812278331.py:25: FutureWarning:\n",
      "\n",
      "The frame.append method is deprecated and will be removed from pandas in a future version. Use pandas.concat instead.\n",
      "\n",
      "C:\\Users\\vlq17525\\AppData\\Local\\Temp\\ipykernel_2724\\3812278331.py:25: FutureWarning:\n",
      "\n",
      "The frame.append method is deprecated and will be removed from pandas in a future version. Use pandas.concat instead.\n",
      "\n",
      "C:\\Users\\vlq17525\\AppData\\Local\\Temp\\ipykernel_2724\\3812278331.py:25: FutureWarning:\n",
      "\n",
      "The frame.append method is deprecated and will be removed from pandas in a future version. Use pandas.concat instead.\n",
      "\n",
      "C:\\Users\\vlq17525\\AppData\\Local\\Temp\\ipykernel_2724\\3812278331.py:25: FutureWarning:\n",
      "\n",
      "The frame.append method is deprecated and will be removed from pandas in a future version. Use pandas.concat instead.\n",
      "\n",
      "C:\\Users\\vlq17525\\AppData\\Local\\Temp\\ipykernel_2724\\3812278331.py:25: FutureWarning:\n",
      "\n",
      "The frame.append method is deprecated and will be removed from pandas in a future version. Use pandas.concat instead.\n",
      "\n",
      "C:\\Users\\vlq17525\\AppData\\Local\\Temp\\ipykernel_2724\\3812278331.py:25: FutureWarning:\n",
      "\n",
      "The frame.append method is deprecated and will be removed from pandas in a future version. Use pandas.concat instead.\n",
      "\n",
      "C:\\Users\\vlq17525\\AppData\\Local\\Temp\\ipykernel_2724\\3812278331.py:25: FutureWarning:\n",
      "\n",
      "The frame.append method is deprecated and will be removed from pandas in a future version. Use pandas.concat instead.\n",
      "\n",
      "C:\\Users\\vlq17525\\AppData\\Local\\Temp\\ipykernel_2724\\3812278331.py:25: FutureWarning:\n",
      "\n",
      "The frame.append method is deprecated and will be removed from pandas in a future version. Use pandas.concat instead.\n",
      "\n",
      "C:\\Users\\vlq17525\\AppData\\Local\\Temp\\ipykernel_2724\\3812278331.py:25: FutureWarning:\n",
      "\n",
      "The frame.append method is deprecated and will be removed from pandas in a future version. Use pandas.concat instead.\n",
      "\n"
     ]
    }
   ],
   "source": [
    "\n",
    "####################################################################################\n",
    "# Fitting a polynomial regression to the data\n",
    "####################################################################################\n",
    "\n",
    "# creating a dataframe to store the results\n",
    "results = pd.DataFrame(columns=['degree order', 'R^2 score'])\n",
    "volts = param_2.reshape(-1, 1)  # reshaping voltage data from 1D array to 2D array\n",
    "\n",
    "scaler = StandardScaler().fit(\n",
    "    volts)  # scales the data so it has a mean of 0 and a sd of 1. the fit method calculates the mean and sd\n",
    "volts = scaler.transform(\n",
    "    volts)  # applies the scaling to the volts data. trasnofrm standardises the data by substracting the mean of the data and dividing by the sd\n",
    "for degree in range(1, 150):\n",
    "    poly = PolynomialFeatures(degree=degree)  # degree is the polynomial degree to be calculated.\n",
    "    X = poly.fit_transform(volts)  # transforms the data into a polynomial of the specified degree.\n",
    "    # creating a matrix X that includes original volts data as well as all polynomial features up to degree, degree.\n",
    "\n",
    "    reg = LinearRegression().fit(X,\n",
    "                                 param_1)  # fit trains the model on the input data X and the output variable current.\n",
    "    # LinearRegression fits a linear regression model to the data X (the input features) and y (the output features, current).\n",
    "\n",
    "    r2 = r2_score(param_1, reg.predict(\n",
    "        X))  # calculates the coefficient of determination (r^2). takes the dependent variable, current,\n",
    "    # and the predicted values of dependent variable obtained from the regression\n",
    "    results = results.append({'degree order': degree, 'R^2 score': r2},\n",
    "                             ignore_index=True)  # appends the results to the dataframe\n",
    "\n",
    "print(results)"
   ]
  },
  {
   "cell_type": "code",
   "execution_count": 13,
   "id": "444be0fb",
   "metadata": {
    "ExecuteTime": {
     "end_time": "2023-05-26T08:53:16.069958800Z",
     "start_time": "2023-05-26T08:53:16.020559100Z"
    }
   },
   "outputs": [
    {
     "name": "stdout",
     "output_type": "stream",
     "text": [
      "float64\n"
     ]
    }
   ],
   "source": [
    "print(results['R^2 score'].dtype)"
   ]
  },
  {
   "cell_type": "code",
   "execution_count": 14,
   "id": "1f41ad5e",
   "metadata": {
    "ExecuteTime": {
     "end_time": "2023-05-26T08:53:16.077877100Z",
     "start_time": "2023-05-26T08:53:16.037654200Z"
    }
   },
   "outputs": [
    {
     "name": "stdout",
     "output_type": "stream",
     "text": [
      "The maximum R^2 score is 0.999878747728988 and the degree order is 45.0\n"
     ]
    }
   ],
   "source": [
    "max_r2 = results['R^2 score'].max()\n",
    "\n",
    "max_index = results['R^2 score'].idxmax()\n",
    "\n",
    "max_degree = results.loc[max_index, 'degree order']\n",
    "\n",
    "print(f'The maximum R^2 score is {max_r2} and the degree order is {max_degree}')"
   ]
  },
  {
   "cell_type": "code",
   "execution_count": 15,
   "id": "2d708da8",
   "metadata": {
    "ExecuteTime": {
     "end_time": "2023-05-26T08:53:16.077877100Z",
     "start_time": "2023-05-26T08:53:16.055917400Z"
    }
   },
   "outputs": [
    {
     "name": "stdout",
     "output_type": "stream",
     "text": [
      "1788.321788.32x^1+1788.32x^2+1788.32x^3+1788.32x^4+1788.32x^5+1788.32x^6+1788.32x^7+1788.32x^8+1788.32x^9+1788.32x^10+1788.32x^11+1788.32x^12+1788.32x^13+1788.32x^14+1788.32x^15+1788.32x^16+1788.32x^17+1788.32x^18+1788.32x^19+1788.32x^20+1788.32x^21+1788.32x^22+1788.32x^23+1788.32x^24+1788.32x^25+1788.32x^26+1788.32x^27+1788.32x^28+1788.32x^29+1788.32x^30+1788.32x^31+1788.32x^32+1788.32x^33+1788.32x^34+1788.32x^35+1788.32x^36+1788.32x^37+1788.32x^38+1788.32x^39+1788.32x^40+1788.32x^41+1788.32x^42+1788.32x^43+1788.32x^44+1788.32x^45+\n"
     ]
    },
    {
     "name": "stderr",
     "output_type": "stream",
     "text": [
      "C:\\Users\\vlq17525\\Anaconda3\\envs\\Potentiostat\\lib\\site-packages\\IPython\\core\\interactiveshell.py:3505: RankWarning:\n",
      "\n",
      "Polyfit may be poorly conditioned\n",
      "\n"
     ]
    }
   ],
   "source": [
    "best_degree = int(max_degree)\n",
    "poly = PolynomialFeatures(degree=best_degree)\n",
    "X = poly.fit_transform(volts)\n",
    "\n",
    "powers = poly.powers_\n",
    "coef = np.polyfit(X[:, 0], param_1, best_degree)  # calculates the coefficients of the polynomial of degree best_degree\n",
    "\n",
    "poly_func = ''\n",
    "for i, power in enumerate(powers):\n",
    "    if power[0] == 0:\n",
    "        poly_func += f'{coef[i]:.2f}'\n",
    "    else:\n",
    "        poly_func += f'{coef[i]:.2f}x^{power[0]}+'\n",
    "\n",
    "print(poly_func)"
   ]
  },
  {
   "cell_type": "code",
   "execution_count": 16,
   "id": "e6779d26",
   "metadata": {
    "ExecuteTime": {
     "end_time": "2023-05-26T08:53:32.400057500Z",
     "start_time": "2023-05-26T08:53:16.077877100Z"
    }
   },
   "outputs": [
    {
     "data": {
      "application/vnd.plotly.v1+json": {
       "data": [
        {
         "line": {
          "color": "blue",
          "width": 1
         },
         "mode": "lines",
         "name": "data",
         "x": [
          1.70332,
          1.70726,
          1.71119,
          1.71513,
          1.71906,
          1.723,
          1.72694,
          1.73087,
          1.73481,
          1.73874,
          1.74268,
          1.74661,
          1.75054,
          1.75448,
          1.75841,
          1.76235,
          1.76628,
          1.77022,
          1.77415,
          1.77809,
          1.78202,
          1.78596,
          1.78989,
          1.79382,
          1.79776,
          1.80169,
          1.80563,
          1.80956,
          1.81349,
          1.81743,
          1.82136,
          1.8253,
          1.82923,
          1.83316,
          1.8371,
          1.84103,
          1.84496,
          1.8489,
          1.85283,
          1.85676,
          1.8607,
          1.86463,
          1.86856,
          1.8725,
          1.87643,
          1.88036,
          1.8843,
          1.88823,
          1.89216,
          1.89609,
          1.90003,
          1.90396,
          1.90789,
          1.91182,
          1.91576,
          1.91969,
          1.92362,
          1.92755,
          1.93149,
          1.93542,
          1.94328,
          1.94721,
          1.95115,
          1.95508,
          1.95901,
          1.96294,
          1.96687,
          1.9708,
          1.97474,
          1.97867,
          1.9826,
          1.98653,
          1.99046,
          1.99439,
          1.99832,
          2.00226,
          2.00619,
          2.01012,
          2.01405,
          2.01798,
          2.02191,
          2.02584,
          2.02977,
          2.0337,
          2.03763,
          2.04156,
          2.04549,
          2.04942,
          2.05336,
          2.05729,
          2.06122,
          2.06515,
          2.06908,
          2.07301,
          2.07694,
          2.08087,
          2.0848,
          2.08873,
          2.09266,
          2.09658,
          2.10051,
          2.10444,
          2.10837,
          2.1123,
          2.11623,
          2.12016,
          2.12409,
          2.12802,
          2.13195,
          2.13588,
          2.13981,
          2.14374,
          2.14766,
          2.15159,
          2.15552,
          2.15945,
          2.16338,
          2.16731,
          2.17124,
          2.17516,
          2.17909,
          2.18302,
          2.18695,
          2.19088,
          2.1948,
          2.19873,
          2.20266,
          2.20659,
          2.21052,
          2.21444,
          2.21837,
          2.2223,
          2.22623,
          2.23015,
          2.23408,
          2.23801,
          2.24194,
          2.24586,
          2.24979,
          2.25372,
          2.25764,
          2.26157,
          2.2655,
          2.26942,
          2.27335,
          2.27728,
          2.2812,
          2.28513,
          2.28906,
          2.29298,
          2.29691,
          2.30084,
          2.30476,
          2.30869,
          2.31261,
          2.31654,
          2.32047,
          2.32439,
          2.32832,
          2.33224,
          2.33617,
          2.34009,
          2.34402,
          2.34794,
          2.35187,
          2.35579,
          2.35972,
          2.36364,
          2.36757,
          2.37149,
          2.37542,
          2.37934,
          2.38327,
          2.38719,
          2.39112,
          2.39504,
          2.39897,
          2.40289,
          2.40682,
          2.41074,
          2.41466,
          2.41859,
          2.42251,
          2.42644,
          2.43036,
          2.43428,
          2.43821,
          2.44213,
          2.44605,
          2.44998,
          2.4539,
          2.45782,
          2.46175,
          2.46567,
          2.46959,
          2.47352,
          2.47744,
          2.48136,
          2.48528,
          2.48921,
          2.49313,
          2.49705
         ],
         "y": [
          75400.0,
          75408.0,
          75472.0,
          75365.0,
          75405.0,
          75516.0,
          75488.0,
          75395.0,
          75528.0,
          75473.0,
          75376.0,
          75457.0,
          75443.0,
          75405.0,
          75621.0,
          75413.0,
          75456.0,
          75426.0,
          75441.0,
          75492.0,
          75503.0,
          75559.0,
          75544.0,
          75570.0,
          75488.0,
          75418.0,
          75338.0,
          75476.0,
          75500.0,
          75504.0,
          75373.0,
          75390.0,
          75293.0,
          75409.0,
          75286.0,
          75261.0,
          75352.0,
          75341.0,
          75204.0,
          75287.0,
          75258.0,
          75253.0,
          75332.0,
          75314.0,
          75209.0,
          75323.0,
          75332.0,
          75392.0,
          75358.0,
          75287.0,
          75472.0,
          75411.0,
          75439.0,
          75452.0,
          75386.0,
          75361.0,
          75442.0,
          75434.0,
          75494.0,
          75488.0,
          75576.0,
          75698.0,
          75752.0,
          75873.0,
          75989.0,
          76240.0,
          76482.0,
          76682.0,
          76903.0,
          77675.0,
          77797.0,
          78249.0,
          78919.0,
          79401.0,
          80082.0,
          81031.0,
          81904.0,
          82918.0,
          83722.0,
          84931.0,
          85836.0,
          87240.0,
          88355.0,
          89781.0,
          91038.0,
          92645.0,
          94277.0,
          95561.0,
          96961.0,
          98720.0,
          99893.0,
          101139.0,
          102986.0,
          103550.0,
          104855.0,
          105793.0,
          106769.0,
          107814.0,
          108357.0,
          108871.0,
          109573.0,
          110227.0,
          110472.0,
          109875.0,
          109980.0,
          109830.0,
          108936.0,
          108387.0,
          107517.0,
          106704.0,
          105955.0,
          105181.0,
          103433.0,
          102709.0,
          100700.0,
          99624.0,
          98108.0,
          96759.0,
          95344.0,
          93432.0,
          91908.0,
          90550.0,
          89170.0,
          87550.0,
          86511.0,
          85052.0,
          83937.0,
          82833.0,
          81836.0,
          81008.0,
          80021.0,
          79333.0,
          78583.0,
          78275.0,
          77917.0,
          77278.0,
          77109.0,
          76913.0,
          76788.0,
          76673.0,
          76743.0,
          76845.0,
          76982.0,
          76959.0,
          77084.0,
          77245.0,
          77544.0,
          77649.0,
          77854.0,
          78107.0,
          78177.0,
          78304.0,
          78421.0,
          78496.0,
          78628.0,
          78824.0,
          78727.0,
          78849.0,
          78636.0,
          78457.0,
          78778.0,
          78815.0,
          78536.0,
          78248.0,
          78252.0,
          78261.0,
          78237.0,
          78128.0,
          77927.0,
          77849.0,
          77782.0,
          77644.0,
          77654.0,
          77611.0,
          77594.0,
          77307.0,
          77300.0,
          77286.0,
          77064.0,
          77350.0,
          77293.0,
          77149.0,
          77111.0,
          77061.0,
          77191.0,
          77263.0,
          77214.0,
          77274.0,
          77141.0,
          77158.0,
          77260.0,
          77354.0,
          77356.0,
          77481.0,
          77534.0,
          77528.0,
          77547.0,
          77695.0,
          77596.0,
          77808.0,
          77653.0,
          77473.0
         ],
         "type": "scatter"
        },
        {
         "line": {
          "color": "red",
          "width": 1
         },
         "mode": "lines",
         "name": "regression",
         "x": [
          1.70332,
          1.70726,
          1.71119,
          1.71513,
          1.71906,
          1.723,
          1.72694,
          1.73087,
          1.73481,
          1.73874,
          1.74268,
          1.74661,
          1.75054,
          1.75448,
          1.75841,
          1.76235,
          1.76628,
          1.77022,
          1.77415,
          1.77809,
          1.78202,
          1.78596,
          1.78989,
          1.79382,
          1.79776,
          1.80169,
          1.80563,
          1.80956,
          1.81349,
          1.81743,
          1.82136,
          1.8253,
          1.82923,
          1.83316,
          1.8371,
          1.84103,
          1.84496,
          1.8489,
          1.85283,
          1.85676,
          1.8607,
          1.86463,
          1.86856,
          1.8725,
          1.87643,
          1.88036,
          1.8843,
          1.88823,
          1.89216,
          1.89609,
          1.90003,
          1.90396,
          1.90789,
          1.91182,
          1.91576,
          1.91969,
          1.92362,
          1.92755,
          1.93149,
          1.93542,
          1.94328,
          1.94721,
          1.95115,
          1.95508,
          1.95901,
          1.96294,
          1.96687,
          1.9708,
          1.97474,
          1.97867,
          1.9826,
          1.98653,
          1.99046,
          1.99439,
          1.99832,
          2.00226,
          2.00619,
          2.01012,
          2.01405,
          2.01798,
          2.02191,
          2.02584,
          2.02977,
          2.0337,
          2.03763,
          2.04156,
          2.04549,
          2.04942,
          2.05336,
          2.05729,
          2.06122,
          2.06515,
          2.06908,
          2.07301,
          2.07694,
          2.08087,
          2.0848,
          2.08873,
          2.09266,
          2.09658,
          2.10051,
          2.10444,
          2.10837,
          2.1123,
          2.11623,
          2.12016,
          2.12409,
          2.12802,
          2.13195,
          2.13588,
          2.13981,
          2.14374,
          2.14766,
          2.15159,
          2.15552,
          2.15945,
          2.16338,
          2.16731,
          2.17124,
          2.17516,
          2.17909,
          2.18302,
          2.18695,
          2.19088,
          2.1948,
          2.19873,
          2.20266,
          2.20659,
          2.21052,
          2.21444,
          2.21837,
          2.2223,
          2.22623,
          2.23015,
          2.23408,
          2.23801,
          2.24194,
          2.24586,
          2.24979,
          2.25372,
          2.25764,
          2.26157,
          2.2655,
          2.26942,
          2.27335,
          2.27728,
          2.2812,
          2.28513,
          2.28906,
          2.29298,
          2.29691,
          2.30084,
          2.30476,
          2.30869,
          2.31261,
          2.31654,
          2.32047,
          2.32439,
          2.32832,
          2.33224,
          2.33617,
          2.34009,
          2.34402,
          2.34794,
          2.35187,
          2.35579,
          2.35972,
          2.36364,
          2.36757,
          2.37149,
          2.37542,
          2.37934,
          2.38327,
          2.38719,
          2.39112,
          2.39504,
          2.39897,
          2.40289,
          2.40682,
          2.41074,
          2.41466,
          2.41859,
          2.42251,
          2.42644,
          2.43036,
          2.43428,
          2.43821,
          2.44213,
          2.44605,
          2.44998,
          2.4539,
          2.45782,
          2.46175,
          2.46567,
          2.46959,
          2.47352,
          2.47744,
          2.48136,
          2.48528,
          2.48921,
          2.49313,
          2.49705
         ],
         "y": [
          75404.3089684213,
          75412.0199059213,
          75456.3870934213,
          75392.1136559213,
          75407.4847496713,
          75468.0628746713,
          75499.0423668588,
          75484.54578482755,
          75452.07703482755,
          75431.2415856088,
          75431.96057974943,
          75446.56800162443,
          75461.62720572599,
          75468.16144644865,
          75465.3120506967,
          75458.46015250334,
          75454.73743521818,
          75458.95523917326,
          75471.70865714201,
          75489.79024970182,
          75507.74505698332,
          75520.3535488809,
          75524.02917372831,
          75517.84610640653,
          75503.18176447996,
          75483.11146962293,
          75461.02668463835,
          75440.0067652429,
          75421.79688870558,
          75406.79797476181,
          75394.34802862653,
          75382.93139189132,
          75371.01679743477,
          75357.36064275005,
          75341.42635509023,
          75323.65694958554,
          75305.15219252952,
          75287.53914747504,
          75272.77596790274,
          75262.52489599423,
          75258.03675967199,
          75259.9346856015,
          75268.06543340255,
          75281.64514763723,
          75299.22899607511,
          75319.13204160146,
          75339.59050496272,
          75358.81149360654,
          75375.48671633634,
          75388.72140530951,
          75398.18344008317,
          75404.03460337466,
          75407.0389041166,
          75408.38503376208,
          75409.62894247973,
          75412.58939103666,
          75419.27857176622,
          75431.83549004258,
          75452.56289423327,
          75483.69612441887,
          75587.30379507318,
          75665.2507406628,
          75764.98506825557,
          75889.46141625138,
          76042.71642441978,
          76228.9280325945,
          76452.61887136335,
          76718.60462141992,
          77032.77376222494,
          77398.66934233857,
          77822.1187209828,
          78308.02614397788,
          78860.94201413007,
          79484.8917795947,
          80183.20641901973,
          80960.43309722247,
          81814.10089572798,
          82746.42363460641,
          83756.50762878614,
          84842.1496055728,
          85999.78992713813,
          87224.4963023056,
          88509.97815826046,
          89848.63096795417,
          91231.60906782141,
          92648.924862382,
          94089.5717996899,
          95541.6681110462,
          96996.2974628671,
          98432.91305154026,
          99841.72561873263,
          101209.0871894859,
          102521.38618105475,
          103765.24373688153,
          104927.70701291913,
          105996.43642890989,
          106959.88411733846,
          107807.46103944362,
          108529.69048491272,
          109117.02367991279,
          109565.61400295363,
          109868.40235356521,
          110021.554276463,
          110022.84865488275,
          109871.71586163156,
          109569.25342410919,
          109118.21894285514,
          108523.00025521533,
          107789.56309078378,
          106925.37672476657,
          105939.31840048835,
          104841.55756371457,
          103646.58707360958,
          102360.61556150042,
          100999.73790755705,
          99577.78172676836,
          98109.04191856645,
          96608.08154982165,
          95089.5277793773,
          93571.72988913476,
          92061.05442080006,
          90574.9724343241,
          89126.3474899598,
          87727.13290000311,
          86391.53338900534,
          85122.38768998056,
          83931.53132655926,
          82825.89258000534,
          81810.91763910267,
          80892.75687789707,
          80069.13542173756,
          79343.4435711779,
          78715.17459890677,
          78183.7098789321,
          77743.25128626858,
          77391.07339303289,
          77122.00979948195,
          76930.48161302495,
          76808.90458196925,
          76750.75639579655,
          76748.54155517824,
          76794.64512953302,
          76881.47078166867,
          77001.07552552922,
          77146.65360702178,
          77310.76511572301,
          77486.11297972291,
          77667.16336350283,
          77847.4968420465,
          78021.21439060185,
          78184.31871437887,
          78332.09775590338,
          78460.690563677,
          78567.9610014467,
          78651.3943691689,
          78710.30153875751,
          78744.20628278342,
          78753.75785120472,
          78740.47184860264,
          78706.6058413249,
          78654.77441536682,
          78588.42500505946,
          78510.60583850998,
          78425.05047568423,
          78334.40949085564,
          78241.7673782038,
          78148.69037906476,
          78057.02999991574,
          77967.06902802386,
          77879.49580737599,
          77793.76539358147,
          77710.12780710706,
          77628.13554381975,
          77548.57443689951,
          77471.94797300943,
          77400.12463509687,
          77334.69141947874,
          77278.15111624845,
          77232.25091540464,
          77198.68088042387,
          77177.77204978117,
          77168.6768501962,
          77169.20446097502,
          77175.93903433927,
          77184.88337027677,
          77192.5288475717,
          77197.03089224943,
          77199.36197745451,
          77204.00421988615,
          77218.41370474943,
          77250.64673697599,
          77305.5980309213,
          77380.48352896818,
          77461.2835777963,
          77527.01648795255,
          77561.1878746713,
          77570.6380699838,
          77596.2581871713,
          77681.5784996713,
          77774.7581871713,
          77656.0980309213,
          77472.1995934213
         ],
         "type": "scatter"
        }
       ],
       "layout": {
        "template": {
         "data": {
          "histogram2dcontour": [
           {
            "type": "histogram2dcontour",
            "colorbar": {
             "outlinewidth": 0,
             "ticks": ""
            },
            "colorscale": [
             [
              0.0,
              "#0d0887"
             ],
             [
              0.1111111111111111,
              "#46039f"
             ],
             [
              0.2222222222222222,
              "#7201a8"
             ],
             [
              0.3333333333333333,
              "#9c179e"
             ],
             [
              0.4444444444444444,
              "#bd3786"
             ],
             [
              0.5555555555555556,
              "#d8576b"
             ],
             [
              0.6666666666666666,
              "#ed7953"
             ],
             [
              0.7777777777777778,
              "#fb9f3a"
             ],
             [
              0.8888888888888888,
              "#fdca26"
             ],
             [
              1.0,
              "#f0f921"
             ]
            ]
           }
          ],
          "choropleth": [
           {
            "type": "choropleth",
            "colorbar": {
             "outlinewidth": 0,
             "ticks": ""
            }
           }
          ],
          "histogram2d": [
           {
            "type": "histogram2d",
            "colorbar": {
             "outlinewidth": 0,
             "ticks": ""
            },
            "colorscale": [
             [
              0.0,
              "#0d0887"
             ],
             [
              0.1111111111111111,
              "#46039f"
             ],
             [
              0.2222222222222222,
              "#7201a8"
             ],
             [
              0.3333333333333333,
              "#9c179e"
             ],
             [
              0.4444444444444444,
              "#bd3786"
             ],
             [
              0.5555555555555556,
              "#d8576b"
             ],
             [
              0.6666666666666666,
              "#ed7953"
             ],
             [
              0.7777777777777778,
              "#fb9f3a"
             ],
             [
              0.8888888888888888,
              "#fdca26"
             ],
             [
              1.0,
              "#f0f921"
             ]
            ]
           }
          ],
          "heatmap": [
           {
            "type": "heatmap",
            "colorbar": {
             "outlinewidth": 0,
             "ticks": ""
            },
            "colorscale": [
             [
              0.0,
              "#0d0887"
             ],
             [
              0.1111111111111111,
              "#46039f"
             ],
             [
              0.2222222222222222,
              "#7201a8"
             ],
             [
              0.3333333333333333,
              "#9c179e"
             ],
             [
              0.4444444444444444,
              "#bd3786"
             ],
             [
              0.5555555555555556,
              "#d8576b"
             ],
             [
              0.6666666666666666,
              "#ed7953"
             ],
             [
              0.7777777777777778,
              "#fb9f3a"
             ],
             [
              0.8888888888888888,
              "#fdca26"
             ],
             [
              1.0,
              "#f0f921"
             ]
            ]
           }
          ],
          "heatmapgl": [
           {
            "type": "heatmapgl",
            "colorbar": {
             "outlinewidth": 0,
             "ticks": ""
            },
            "colorscale": [
             [
              0.0,
              "#0d0887"
             ],
             [
              0.1111111111111111,
              "#46039f"
             ],
             [
              0.2222222222222222,
              "#7201a8"
             ],
             [
              0.3333333333333333,
              "#9c179e"
             ],
             [
              0.4444444444444444,
              "#bd3786"
             ],
             [
              0.5555555555555556,
              "#d8576b"
             ],
             [
              0.6666666666666666,
              "#ed7953"
             ],
             [
              0.7777777777777778,
              "#fb9f3a"
             ],
             [
              0.8888888888888888,
              "#fdca26"
             ],
             [
              1.0,
              "#f0f921"
             ]
            ]
           }
          ],
          "contourcarpet": [
           {
            "type": "contourcarpet",
            "colorbar": {
             "outlinewidth": 0,
             "ticks": ""
            }
           }
          ],
          "contour": [
           {
            "type": "contour",
            "colorbar": {
             "outlinewidth": 0,
             "ticks": ""
            },
            "colorscale": [
             [
              0.0,
              "#0d0887"
             ],
             [
              0.1111111111111111,
              "#46039f"
             ],
             [
              0.2222222222222222,
              "#7201a8"
             ],
             [
              0.3333333333333333,
              "#9c179e"
             ],
             [
              0.4444444444444444,
              "#bd3786"
             ],
             [
              0.5555555555555556,
              "#d8576b"
             ],
             [
              0.6666666666666666,
              "#ed7953"
             ],
             [
              0.7777777777777778,
              "#fb9f3a"
             ],
             [
              0.8888888888888888,
              "#fdca26"
             ],
             [
              1.0,
              "#f0f921"
             ]
            ]
           }
          ],
          "surface": [
           {
            "type": "surface",
            "colorbar": {
             "outlinewidth": 0,
             "ticks": ""
            },
            "colorscale": [
             [
              0.0,
              "#0d0887"
             ],
             [
              0.1111111111111111,
              "#46039f"
             ],
             [
              0.2222222222222222,
              "#7201a8"
             ],
             [
              0.3333333333333333,
              "#9c179e"
             ],
             [
              0.4444444444444444,
              "#bd3786"
             ],
             [
              0.5555555555555556,
              "#d8576b"
             ],
             [
              0.6666666666666666,
              "#ed7953"
             ],
             [
              0.7777777777777778,
              "#fb9f3a"
             ],
             [
              0.8888888888888888,
              "#fdca26"
             ],
             [
              1.0,
              "#f0f921"
             ]
            ]
           }
          ],
          "mesh3d": [
           {
            "type": "mesh3d",
            "colorbar": {
             "outlinewidth": 0,
             "ticks": ""
            }
           }
          ],
          "scatter": [
           {
            "marker": {
             "line": {
              "color": "#283442"
             }
            },
            "type": "scatter"
           }
          ],
          "parcoords": [
           {
            "type": "parcoords",
            "line": {
             "colorbar": {
              "outlinewidth": 0,
              "ticks": ""
             }
            }
           }
          ],
          "scatterpolargl": [
           {
            "type": "scatterpolargl",
            "marker": {
             "colorbar": {
              "outlinewidth": 0,
              "ticks": ""
             }
            }
           }
          ],
          "bar": [
           {
            "error_x": {
             "color": "#f2f5fa"
            },
            "error_y": {
             "color": "#f2f5fa"
            },
            "marker": {
             "line": {
              "color": "rgb(17,17,17)",
              "width": 0.5
             },
             "pattern": {
              "fillmode": "overlay",
              "size": 10,
              "solidity": 0.2
             }
            },
            "type": "bar"
           }
          ],
          "scattergeo": [
           {
            "type": "scattergeo",
            "marker": {
             "colorbar": {
              "outlinewidth": 0,
              "ticks": ""
             }
            }
           }
          ],
          "scatterpolar": [
           {
            "type": "scatterpolar",
            "marker": {
             "colorbar": {
              "outlinewidth": 0,
              "ticks": ""
             }
            }
           }
          ],
          "histogram": [
           {
            "marker": {
             "pattern": {
              "fillmode": "overlay",
              "size": 10,
              "solidity": 0.2
             }
            },
            "type": "histogram"
           }
          ],
          "scattergl": [
           {
            "marker": {
             "line": {
              "color": "#283442"
             }
            },
            "type": "scattergl"
           }
          ],
          "scatter3d": [
           {
            "type": "scatter3d",
            "line": {
             "colorbar": {
              "outlinewidth": 0,
              "ticks": ""
             }
            },
            "marker": {
             "colorbar": {
              "outlinewidth": 0,
              "ticks": ""
             }
            }
           }
          ],
          "scattermapbox": [
           {
            "type": "scattermapbox",
            "marker": {
             "colorbar": {
              "outlinewidth": 0,
              "ticks": ""
             }
            }
           }
          ],
          "scatterternary": [
           {
            "type": "scatterternary",
            "marker": {
             "colorbar": {
              "outlinewidth": 0,
              "ticks": ""
             }
            }
           }
          ],
          "scattercarpet": [
           {
            "type": "scattercarpet",
            "marker": {
             "colorbar": {
              "outlinewidth": 0,
              "ticks": ""
             }
            }
           }
          ],
          "carpet": [
           {
            "aaxis": {
             "endlinecolor": "#A2B1C6",
             "gridcolor": "#506784",
             "linecolor": "#506784",
             "minorgridcolor": "#506784",
             "startlinecolor": "#A2B1C6"
            },
            "baxis": {
             "endlinecolor": "#A2B1C6",
             "gridcolor": "#506784",
             "linecolor": "#506784",
             "minorgridcolor": "#506784",
             "startlinecolor": "#A2B1C6"
            },
            "type": "carpet"
           }
          ],
          "table": [
           {
            "cells": {
             "fill": {
              "color": "#506784"
             },
             "line": {
              "color": "rgb(17,17,17)"
             }
            },
            "header": {
             "fill": {
              "color": "#2a3f5f"
             },
             "line": {
              "color": "rgb(17,17,17)"
             }
            },
            "type": "table"
           }
          ],
          "barpolar": [
           {
            "marker": {
             "line": {
              "color": "rgb(17,17,17)",
              "width": 0.5
             },
             "pattern": {
              "fillmode": "overlay",
              "size": 10,
              "solidity": 0.2
             }
            },
            "type": "barpolar"
           }
          ],
          "pie": [
           {
            "automargin": true,
            "type": "pie"
           }
          ]
         },
         "layout": {
          "autotypenumbers": "strict",
          "colorway": [
           "#636efa",
           "#EF553B",
           "#00cc96",
           "#ab63fa",
           "#FFA15A",
           "#19d3f3",
           "#FF6692",
           "#B6E880",
           "#FF97FF",
           "#FECB52"
          ],
          "font": {
           "color": "#f2f5fa"
          },
          "hovermode": "closest",
          "hoverlabel": {
           "align": "left"
          },
          "paper_bgcolor": "rgb(17,17,17)",
          "plot_bgcolor": "rgb(17,17,17)",
          "polar": {
           "bgcolor": "rgb(17,17,17)",
           "angularaxis": {
            "gridcolor": "#506784",
            "linecolor": "#506784",
            "ticks": ""
           },
           "radialaxis": {
            "gridcolor": "#506784",
            "linecolor": "#506784",
            "ticks": ""
           }
          },
          "ternary": {
           "bgcolor": "rgb(17,17,17)",
           "aaxis": {
            "gridcolor": "#506784",
            "linecolor": "#506784",
            "ticks": ""
           },
           "baxis": {
            "gridcolor": "#506784",
            "linecolor": "#506784",
            "ticks": ""
           },
           "caxis": {
            "gridcolor": "#506784",
            "linecolor": "#506784",
            "ticks": ""
           }
          },
          "coloraxis": {
           "colorbar": {
            "outlinewidth": 0,
            "ticks": ""
           }
          },
          "colorscale": {
           "sequential": [
            [
             0.0,
             "#0d0887"
            ],
            [
             0.1111111111111111,
             "#46039f"
            ],
            [
             0.2222222222222222,
             "#7201a8"
            ],
            [
             0.3333333333333333,
             "#9c179e"
            ],
            [
             0.4444444444444444,
             "#bd3786"
            ],
            [
             0.5555555555555556,
             "#d8576b"
            ],
            [
             0.6666666666666666,
             "#ed7953"
            ],
            [
             0.7777777777777778,
             "#fb9f3a"
            ],
            [
             0.8888888888888888,
             "#fdca26"
            ],
            [
             1.0,
             "#f0f921"
            ]
           ],
           "sequentialminus": [
            [
             0.0,
             "#0d0887"
            ],
            [
             0.1111111111111111,
             "#46039f"
            ],
            [
             0.2222222222222222,
             "#7201a8"
            ],
            [
             0.3333333333333333,
             "#9c179e"
            ],
            [
             0.4444444444444444,
             "#bd3786"
            ],
            [
             0.5555555555555556,
             "#d8576b"
            ],
            [
             0.6666666666666666,
             "#ed7953"
            ],
            [
             0.7777777777777778,
             "#fb9f3a"
            ],
            [
             0.8888888888888888,
             "#fdca26"
            ],
            [
             1.0,
             "#f0f921"
            ]
           ],
           "diverging": [
            [
             0,
             "#8e0152"
            ],
            [
             0.1,
             "#c51b7d"
            ],
            [
             0.2,
             "#de77ae"
            ],
            [
             0.3,
             "#f1b6da"
            ],
            [
             0.4,
             "#fde0ef"
            ],
            [
             0.5,
             "#f7f7f7"
            ],
            [
             0.6,
             "#e6f5d0"
            ],
            [
             0.7,
             "#b8e186"
            ],
            [
             0.8,
             "#7fbc41"
            ],
            [
             0.9,
             "#4d9221"
            ],
            [
             1,
             "#276419"
            ]
           ]
          },
          "xaxis": {
           "gridcolor": "#283442",
           "linecolor": "#506784",
           "ticks": "",
           "title": {
            "standoff": 15
           },
           "zerolinecolor": "#283442",
           "automargin": true,
           "zerolinewidth": 2
          },
          "yaxis": {
           "gridcolor": "#283442",
           "linecolor": "#506784",
           "ticks": "",
           "title": {
            "standoff": 15
           },
           "zerolinecolor": "#283442",
           "automargin": true,
           "zerolinewidth": 2
          },
          "scene": {
           "xaxis": {
            "backgroundcolor": "rgb(17,17,17)",
            "gridcolor": "#506784",
            "linecolor": "#506784",
            "showbackground": true,
            "ticks": "",
            "zerolinecolor": "#C8D4E3",
            "gridwidth": 2
           },
           "yaxis": {
            "backgroundcolor": "rgb(17,17,17)",
            "gridcolor": "#506784",
            "linecolor": "#506784",
            "showbackground": true,
            "ticks": "",
            "zerolinecolor": "#C8D4E3",
            "gridwidth": 2
           },
           "zaxis": {
            "backgroundcolor": "rgb(17,17,17)",
            "gridcolor": "#506784",
            "linecolor": "#506784",
            "showbackground": true,
            "ticks": "",
            "zerolinecolor": "#C8D4E3",
            "gridwidth": 2
           }
          },
          "shapedefaults": {
           "line": {
            "color": "#f2f5fa"
           }
          },
          "annotationdefaults": {
           "arrowcolor": "#f2f5fa",
           "arrowhead": 0,
           "arrowwidth": 1
          },
          "geo": {
           "bgcolor": "rgb(17,17,17)",
           "landcolor": "rgb(17,17,17)",
           "subunitcolor": "#506784",
           "showland": true,
           "showlakes": true,
           "lakecolor": "rgb(17,17,17)"
          },
          "title": {
           "x": 0.05
          },
          "updatemenudefaults": {
           "bgcolor": "#506784",
           "borderwidth": 0
          },
          "sliderdefaults": {
           "bgcolor": "#C8D4E3",
           "borderwidth": 1,
           "bordercolor": "rgb(17,17,17)",
           "tickwidth": 0
          },
          "mapbox": {
           "style": "dark"
          }
         }
        },
        "title": {
         "text": "Polynomial Regression of degree 45 (R2=0.999879)"
        },
        "xaxis": {
         "title": {
          "text": "L"
         }
        },
        "yaxis": {
         "title": {
          "text": "Intensity2"
         }
        },
        "legend": {
         "yanchor": "top",
         "y": 0.99,
         "xanchor": "left",
         "x": 0.0
        }
       },
       "config": {
        "plotlyServerURL": "https://plot.ly"
       }
      },
      "text/html": "<div>                            <div id=\"9a18947f-1763-4745-a384-829a73382534\" class=\"plotly-graph-div\" style=\"height:525px; width:100%;\"></div>            <script type=\"text/javascript\">                require([\"plotly\"], function(Plotly) {                    window.PLOTLYENV=window.PLOTLYENV || {};                                    if (document.getElementById(\"9a18947f-1763-4745-a384-829a73382534\")) {                    Plotly.newPlot(                        \"9a18947f-1763-4745-a384-829a73382534\",                        [{\"line\":{\"color\":\"blue\",\"width\":1},\"mode\":\"lines\",\"name\":\"data\",\"x\":[1.70332,1.70726,1.71119,1.71513,1.71906,1.723,1.72694,1.73087,1.73481,1.73874,1.74268,1.74661,1.75054,1.75448,1.75841,1.76235,1.76628,1.77022,1.77415,1.77809,1.78202,1.78596,1.78989,1.79382,1.79776,1.80169,1.80563,1.80956,1.81349,1.81743,1.82136,1.8253,1.82923,1.83316,1.8371,1.84103,1.84496,1.8489,1.85283,1.85676,1.8607,1.86463,1.86856,1.8725,1.87643,1.88036,1.8843,1.88823,1.89216,1.89609,1.90003,1.90396,1.90789,1.91182,1.91576,1.91969,1.92362,1.92755,1.93149,1.93542,1.94328,1.94721,1.95115,1.95508,1.95901,1.96294,1.96687,1.9708,1.97474,1.97867,1.9826,1.98653,1.99046,1.99439,1.99832,2.00226,2.00619,2.01012,2.01405,2.01798,2.02191,2.02584,2.02977,2.0337,2.03763,2.04156,2.04549,2.04942,2.05336,2.05729,2.06122,2.06515,2.06908,2.07301,2.07694,2.08087,2.0848,2.08873,2.09266,2.09658,2.10051,2.10444,2.10837,2.1123,2.11623,2.12016,2.12409,2.12802,2.13195,2.13588,2.13981,2.14374,2.14766,2.15159,2.15552,2.15945,2.16338,2.16731,2.17124,2.17516,2.17909,2.18302,2.18695,2.19088,2.1948,2.19873,2.20266,2.20659,2.21052,2.21444,2.21837,2.2223,2.22623,2.23015,2.23408,2.23801,2.24194,2.24586,2.24979,2.25372,2.25764,2.26157,2.2655,2.26942,2.27335,2.27728,2.2812,2.28513,2.28906,2.29298,2.29691,2.30084,2.30476,2.30869,2.31261,2.31654,2.32047,2.32439,2.32832,2.33224,2.33617,2.34009,2.34402,2.34794,2.35187,2.35579,2.35972,2.36364,2.36757,2.37149,2.37542,2.37934,2.38327,2.38719,2.39112,2.39504,2.39897,2.40289,2.40682,2.41074,2.41466,2.41859,2.42251,2.42644,2.43036,2.43428,2.43821,2.44213,2.44605,2.44998,2.4539,2.45782,2.46175,2.46567,2.46959,2.47352,2.47744,2.48136,2.48528,2.48921,2.49313,2.49705],\"y\":[75400.0,75408.0,75472.0,75365.0,75405.0,75516.0,75488.0,75395.0,75528.0,75473.0,75376.0,75457.0,75443.0,75405.0,75621.0,75413.0,75456.0,75426.0,75441.0,75492.0,75503.0,75559.0,75544.0,75570.0,75488.0,75418.0,75338.0,75476.0,75500.0,75504.0,75373.0,75390.0,75293.0,75409.0,75286.0,75261.0,75352.0,75341.0,75204.0,75287.0,75258.0,75253.0,75332.0,75314.0,75209.0,75323.0,75332.0,75392.0,75358.0,75287.0,75472.0,75411.0,75439.0,75452.0,75386.0,75361.0,75442.0,75434.0,75494.0,75488.0,75576.0,75698.0,75752.0,75873.0,75989.0,76240.0,76482.0,76682.0,76903.0,77675.0,77797.0,78249.0,78919.0,79401.0,80082.0,81031.0,81904.0,82918.0,83722.0,84931.0,85836.0,87240.0,88355.0,89781.0,91038.0,92645.0,94277.0,95561.0,96961.0,98720.0,99893.0,101139.0,102986.0,103550.0,104855.0,105793.0,106769.0,107814.0,108357.0,108871.0,109573.0,110227.0,110472.0,109875.0,109980.0,109830.0,108936.0,108387.0,107517.0,106704.0,105955.0,105181.0,103433.0,102709.0,100700.0,99624.0,98108.0,96759.0,95344.0,93432.0,91908.0,90550.0,89170.0,87550.0,86511.0,85052.0,83937.0,82833.0,81836.0,81008.0,80021.0,79333.0,78583.0,78275.0,77917.0,77278.0,77109.0,76913.0,76788.0,76673.0,76743.0,76845.0,76982.0,76959.0,77084.0,77245.0,77544.0,77649.0,77854.0,78107.0,78177.0,78304.0,78421.0,78496.0,78628.0,78824.0,78727.0,78849.0,78636.0,78457.0,78778.0,78815.0,78536.0,78248.0,78252.0,78261.0,78237.0,78128.0,77927.0,77849.0,77782.0,77644.0,77654.0,77611.0,77594.0,77307.0,77300.0,77286.0,77064.0,77350.0,77293.0,77149.0,77111.0,77061.0,77191.0,77263.0,77214.0,77274.0,77141.0,77158.0,77260.0,77354.0,77356.0,77481.0,77534.0,77528.0,77547.0,77695.0,77596.0,77808.0,77653.0,77473.0],\"type\":\"scatter\"},{\"line\":{\"color\":\"red\",\"width\":1},\"mode\":\"lines\",\"name\":\"regression\",\"x\":[1.70332,1.70726,1.71119,1.71513,1.71906,1.723,1.72694,1.73087,1.73481,1.73874,1.74268,1.74661,1.75054,1.75448,1.75841,1.76235,1.76628,1.77022,1.77415,1.77809,1.78202,1.78596,1.78989,1.79382,1.79776,1.80169,1.80563,1.80956,1.81349,1.81743,1.82136,1.8253,1.82923,1.83316,1.8371,1.84103,1.84496,1.8489,1.85283,1.85676,1.8607,1.86463,1.86856,1.8725,1.87643,1.88036,1.8843,1.88823,1.89216,1.89609,1.90003,1.90396,1.90789,1.91182,1.91576,1.91969,1.92362,1.92755,1.93149,1.93542,1.94328,1.94721,1.95115,1.95508,1.95901,1.96294,1.96687,1.9708,1.97474,1.97867,1.9826,1.98653,1.99046,1.99439,1.99832,2.00226,2.00619,2.01012,2.01405,2.01798,2.02191,2.02584,2.02977,2.0337,2.03763,2.04156,2.04549,2.04942,2.05336,2.05729,2.06122,2.06515,2.06908,2.07301,2.07694,2.08087,2.0848,2.08873,2.09266,2.09658,2.10051,2.10444,2.10837,2.1123,2.11623,2.12016,2.12409,2.12802,2.13195,2.13588,2.13981,2.14374,2.14766,2.15159,2.15552,2.15945,2.16338,2.16731,2.17124,2.17516,2.17909,2.18302,2.18695,2.19088,2.1948,2.19873,2.20266,2.20659,2.21052,2.21444,2.21837,2.2223,2.22623,2.23015,2.23408,2.23801,2.24194,2.24586,2.24979,2.25372,2.25764,2.26157,2.2655,2.26942,2.27335,2.27728,2.2812,2.28513,2.28906,2.29298,2.29691,2.30084,2.30476,2.30869,2.31261,2.31654,2.32047,2.32439,2.32832,2.33224,2.33617,2.34009,2.34402,2.34794,2.35187,2.35579,2.35972,2.36364,2.36757,2.37149,2.37542,2.37934,2.38327,2.38719,2.39112,2.39504,2.39897,2.40289,2.40682,2.41074,2.41466,2.41859,2.42251,2.42644,2.43036,2.43428,2.43821,2.44213,2.44605,2.44998,2.4539,2.45782,2.46175,2.46567,2.46959,2.47352,2.47744,2.48136,2.48528,2.48921,2.49313,2.49705],\"y\":[75404.3089684213,75412.0199059213,75456.3870934213,75392.1136559213,75407.4847496713,75468.0628746713,75499.0423668588,75484.54578482755,75452.07703482755,75431.2415856088,75431.96057974943,75446.56800162443,75461.62720572599,75468.16144644865,75465.3120506967,75458.46015250334,75454.73743521818,75458.95523917326,75471.70865714201,75489.79024970182,75507.74505698332,75520.3535488809,75524.02917372831,75517.84610640653,75503.18176447996,75483.11146962293,75461.02668463835,75440.0067652429,75421.79688870558,75406.79797476181,75394.34802862653,75382.93139189132,75371.01679743477,75357.36064275005,75341.42635509023,75323.65694958554,75305.15219252952,75287.53914747504,75272.77596790274,75262.52489599423,75258.03675967199,75259.9346856015,75268.06543340255,75281.64514763723,75299.22899607511,75319.13204160146,75339.59050496272,75358.81149360654,75375.48671633634,75388.72140530951,75398.18344008317,75404.03460337466,75407.0389041166,75408.38503376208,75409.62894247973,75412.58939103666,75419.27857176622,75431.83549004258,75452.56289423327,75483.69612441887,75587.30379507318,75665.2507406628,75764.98506825557,75889.46141625138,76042.71642441978,76228.9280325945,76452.61887136335,76718.60462141992,77032.77376222494,77398.66934233857,77822.1187209828,78308.02614397788,78860.94201413007,79484.8917795947,80183.20641901973,80960.43309722247,81814.10089572798,82746.42363460641,83756.50762878614,84842.1496055728,85999.78992713813,87224.4963023056,88509.97815826046,89848.63096795417,91231.60906782141,92648.924862382,94089.5717996899,95541.6681110462,96996.2974628671,98432.91305154026,99841.72561873263,101209.0871894859,102521.38618105475,103765.24373688153,104927.70701291913,105996.43642890989,106959.88411733846,107807.46103944362,108529.69048491272,109117.02367991279,109565.61400295363,109868.40235356521,110021.554276463,110022.84865488275,109871.71586163156,109569.25342410919,109118.21894285514,108523.00025521533,107789.56309078378,106925.37672476657,105939.31840048835,104841.55756371457,103646.58707360958,102360.61556150042,100999.73790755705,99577.78172676836,98109.04191856645,96608.08154982165,95089.5277793773,93571.72988913476,92061.05442080006,90574.9724343241,89126.3474899598,87727.13290000311,86391.53338900534,85122.38768998056,83931.53132655926,82825.89258000534,81810.91763910267,80892.75687789707,80069.13542173756,79343.4435711779,78715.17459890677,78183.7098789321,77743.25128626858,77391.07339303289,77122.00979948195,76930.48161302495,76808.90458196925,76750.75639579655,76748.54155517824,76794.64512953302,76881.47078166867,77001.07552552922,77146.65360702178,77310.76511572301,77486.11297972291,77667.16336350283,77847.4968420465,78021.21439060185,78184.31871437887,78332.09775590338,78460.690563677,78567.9610014467,78651.3943691689,78710.30153875751,78744.20628278342,78753.75785120472,78740.47184860264,78706.6058413249,78654.77441536682,78588.42500505946,78510.60583850998,78425.05047568423,78334.40949085564,78241.7673782038,78148.69037906476,78057.02999991574,77967.06902802386,77879.49580737599,77793.76539358147,77710.12780710706,77628.13554381975,77548.57443689951,77471.94797300943,77400.12463509687,77334.69141947874,77278.15111624845,77232.25091540464,77198.68088042387,77177.77204978117,77168.6768501962,77169.20446097502,77175.93903433927,77184.88337027677,77192.5288475717,77197.03089224943,77199.36197745451,77204.00421988615,77218.41370474943,77250.64673697599,77305.5980309213,77380.48352896818,77461.2835777963,77527.01648795255,77561.1878746713,77570.6380699838,77596.2581871713,77681.5784996713,77774.7581871713,77656.0980309213,77472.1995934213],\"type\":\"scatter\"}],                        {\"template\":{\"data\":{\"histogram2dcontour\":[{\"type\":\"histogram2dcontour\",\"colorbar\":{\"outlinewidth\":0,\"ticks\":\"\"},\"colorscale\":[[0.0,\"#0d0887\"],[0.1111111111111111,\"#46039f\"],[0.2222222222222222,\"#7201a8\"],[0.3333333333333333,\"#9c179e\"],[0.4444444444444444,\"#bd3786\"],[0.5555555555555556,\"#d8576b\"],[0.6666666666666666,\"#ed7953\"],[0.7777777777777778,\"#fb9f3a\"],[0.8888888888888888,\"#fdca26\"],[1.0,\"#f0f921\"]]}],\"choropleth\":[{\"type\":\"choropleth\",\"colorbar\":{\"outlinewidth\":0,\"ticks\":\"\"}}],\"histogram2d\":[{\"type\":\"histogram2d\",\"colorbar\":{\"outlinewidth\":0,\"ticks\":\"\"},\"colorscale\":[[0.0,\"#0d0887\"],[0.1111111111111111,\"#46039f\"],[0.2222222222222222,\"#7201a8\"],[0.3333333333333333,\"#9c179e\"],[0.4444444444444444,\"#bd3786\"],[0.5555555555555556,\"#d8576b\"],[0.6666666666666666,\"#ed7953\"],[0.7777777777777778,\"#fb9f3a\"],[0.8888888888888888,\"#fdca26\"],[1.0,\"#f0f921\"]]}],\"heatmap\":[{\"type\":\"heatmap\",\"colorbar\":{\"outlinewidth\":0,\"ticks\":\"\"},\"colorscale\":[[0.0,\"#0d0887\"],[0.1111111111111111,\"#46039f\"],[0.2222222222222222,\"#7201a8\"],[0.3333333333333333,\"#9c179e\"],[0.4444444444444444,\"#bd3786\"],[0.5555555555555556,\"#d8576b\"],[0.6666666666666666,\"#ed7953\"],[0.7777777777777778,\"#fb9f3a\"],[0.8888888888888888,\"#fdca26\"],[1.0,\"#f0f921\"]]}],\"heatmapgl\":[{\"type\":\"heatmapgl\",\"colorbar\":{\"outlinewidth\":0,\"ticks\":\"\"},\"colorscale\":[[0.0,\"#0d0887\"],[0.1111111111111111,\"#46039f\"],[0.2222222222222222,\"#7201a8\"],[0.3333333333333333,\"#9c179e\"],[0.4444444444444444,\"#bd3786\"],[0.5555555555555556,\"#d8576b\"],[0.6666666666666666,\"#ed7953\"],[0.7777777777777778,\"#fb9f3a\"],[0.8888888888888888,\"#fdca26\"],[1.0,\"#f0f921\"]]}],\"contourcarpet\":[{\"type\":\"contourcarpet\",\"colorbar\":{\"outlinewidth\":0,\"ticks\":\"\"}}],\"contour\":[{\"type\":\"contour\",\"colorbar\":{\"outlinewidth\":0,\"ticks\":\"\"},\"colorscale\":[[0.0,\"#0d0887\"],[0.1111111111111111,\"#46039f\"],[0.2222222222222222,\"#7201a8\"],[0.3333333333333333,\"#9c179e\"],[0.4444444444444444,\"#bd3786\"],[0.5555555555555556,\"#d8576b\"],[0.6666666666666666,\"#ed7953\"],[0.7777777777777778,\"#fb9f3a\"],[0.8888888888888888,\"#fdca26\"],[1.0,\"#f0f921\"]]}],\"surface\":[{\"type\":\"surface\",\"colorbar\":{\"outlinewidth\":0,\"ticks\":\"\"},\"colorscale\":[[0.0,\"#0d0887\"],[0.1111111111111111,\"#46039f\"],[0.2222222222222222,\"#7201a8\"],[0.3333333333333333,\"#9c179e\"],[0.4444444444444444,\"#bd3786\"],[0.5555555555555556,\"#d8576b\"],[0.6666666666666666,\"#ed7953\"],[0.7777777777777778,\"#fb9f3a\"],[0.8888888888888888,\"#fdca26\"],[1.0,\"#f0f921\"]]}],\"mesh3d\":[{\"type\":\"mesh3d\",\"colorbar\":{\"outlinewidth\":0,\"ticks\":\"\"}}],\"scatter\":[{\"marker\":{\"line\":{\"color\":\"#283442\"}},\"type\":\"scatter\"}],\"parcoords\":[{\"type\":\"parcoords\",\"line\":{\"colorbar\":{\"outlinewidth\":0,\"ticks\":\"\"}}}],\"scatterpolargl\":[{\"type\":\"scatterpolargl\",\"marker\":{\"colorbar\":{\"outlinewidth\":0,\"ticks\":\"\"}}}],\"bar\":[{\"error_x\":{\"color\":\"#f2f5fa\"},\"error_y\":{\"color\":\"#f2f5fa\"},\"marker\":{\"line\":{\"color\":\"rgb(17,17,17)\",\"width\":0.5},\"pattern\":{\"fillmode\":\"overlay\",\"size\":10,\"solidity\":0.2}},\"type\":\"bar\"}],\"scattergeo\":[{\"type\":\"scattergeo\",\"marker\":{\"colorbar\":{\"outlinewidth\":0,\"ticks\":\"\"}}}],\"scatterpolar\":[{\"type\":\"scatterpolar\",\"marker\":{\"colorbar\":{\"outlinewidth\":0,\"ticks\":\"\"}}}],\"histogram\":[{\"marker\":{\"pattern\":{\"fillmode\":\"overlay\",\"size\":10,\"solidity\":0.2}},\"type\":\"histogram\"}],\"scattergl\":[{\"marker\":{\"line\":{\"color\":\"#283442\"}},\"type\":\"scattergl\"}],\"scatter3d\":[{\"type\":\"scatter3d\",\"line\":{\"colorbar\":{\"outlinewidth\":0,\"ticks\":\"\"}},\"marker\":{\"colorbar\":{\"outlinewidth\":0,\"ticks\":\"\"}}}],\"scattermapbox\":[{\"type\":\"scattermapbox\",\"marker\":{\"colorbar\":{\"outlinewidth\":0,\"ticks\":\"\"}}}],\"scatterternary\":[{\"type\":\"scatterternary\",\"marker\":{\"colorbar\":{\"outlinewidth\":0,\"ticks\":\"\"}}}],\"scattercarpet\":[{\"type\":\"scattercarpet\",\"marker\":{\"colorbar\":{\"outlinewidth\":0,\"ticks\":\"\"}}}],\"carpet\":[{\"aaxis\":{\"endlinecolor\":\"#A2B1C6\",\"gridcolor\":\"#506784\",\"linecolor\":\"#506784\",\"minorgridcolor\":\"#506784\",\"startlinecolor\":\"#A2B1C6\"},\"baxis\":{\"endlinecolor\":\"#A2B1C6\",\"gridcolor\":\"#506784\",\"linecolor\":\"#506784\",\"minorgridcolor\":\"#506784\",\"startlinecolor\":\"#A2B1C6\"},\"type\":\"carpet\"}],\"table\":[{\"cells\":{\"fill\":{\"color\":\"#506784\"},\"line\":{\"color\":\"rgb(17,17,17)\"}},\"header\":{\"fill\":{\"color\":\"#2a3f5f\"},\"line\":{\"color\":\"rgb(17,17,17)\"}},\"type\":\"table\"}],\"barpolar\":[{\"marker\":{\"line\":{\"color\":\"rgb(17,17,17)\",\"width\":0.5},\"pattern\":{\"fillmode\":\"overlay\",\"size\":10,\"solidity\":0.2}},\"type\":\"barpolar\"}],\"pie\":[{\"automargin\":true,\"type\":\"pie\"}]},\"layout\":{\"autotypenumbers\":\"strict\",\"colorway\":[\"#636efa\",\"#EF553B\",\"#00cc96\",\"#ab63fa\",\"#FFA15A\",\"#19d3f3\",\"#FF6692\",\"#B6E880\",\"#FF97FF\",\"#FECB52\"],\"font\":{\"color\":\"#f2f5fa\"},\"hovermode\":\"closest\",\"hoverlabel\":{\"align\":\"left\"},\"paper_bgcolor\":\"rgb(17,17,17)\",\"plot_bgcolor\":\"rgb(17,17,17)\",\"polar\":{\"bgcolor\":\"rgb(17,17,17)\",\"angularaxis\":{\"gridcolor\":\"#506784\",\"linecolor\":\"#506784\",\"ticks\":\"\"},\"radialaxis\":{\"gridcolor\":\"#506784\",\"linecolor\":\"#506784\",\"ticks\":\"\"}},\"ternary\":{\"bgcolor\":\"rgb(17,17,17)\",\"aaxis\":{\"gridcolor\":\"#506784\",\"linecolor\":\"#506784\",\"ticks\":\"\"},\"baxis\":{\"gridcolor\":\"#506784\",\"linecolor\":\"#506784\",\"ticks\":\"\"},\"caxis\":{\"gridcolor\":\"#506784\",\"linecolor\":\"#506784\",\"ticks\":\"\"}},\"coloraxis\":{\"colorbar\":{\"outlinewidth\":0,\"ticks\":\"\"}},\"colorscale\":{\"sequential\":[[0.0,\"#0d0887\"],[0.1111111111111111,\"#46039f\"],[0.2222222222222222,\"#7201a8\"],[0.3333333333333333,\"#9c179e\"],[0.4444444444444444,\"#bd3786\"],[0.5555555555555556,\"#d8576b\"],[0.6666666666666666,\"#ed7953\"],[0.7777777777777778,\"#fb9f3a\"],[0.8888888888888888,\"#fdca26\"],[1.0,\"#f0f921\"]],\"sequentialminus\":[[0.0,\"#0d0887\"],[0.1111111111111111,\"#46039f\"],[0.2222222222222222,\"#7201a8\"],[0.3333333333333333,\"#9c179e\"],[0.4444444444444444,\"#bd3786\"],[0.5555555555555556,\"#d8576b\"],[0.6666666666666666,\"#ed7953\"],[0.7777777777777778,\"#fb9f3a\"],[0.8888888888888888,\"#fdca26\"],[1.0,\"#f0f921\"]],\"diverging\":[[0,\"#8e0152\"],[0.1,\"#c51b7d\"],[0.2,\"#de77ae\"],[0.3,\"#f1b6da\"],[0.4,\"#fde0ef\"],[0.5,\"#f7f7f7\"],[0.6,\"#e6f5d0\"],[0.7,\"#b8e186\"],[0.8,\"#7fbc41\"],[0.9,\"#4d9221\"],[1,\"#276419\"]]},\"xaxis\":{\"gridcolor\":\"#283442\",\"linecolor\":\"#506784\",\"ticks\":\"\",\"title\":{\"standoff\":15},\"zerolinecolor\":\"#283442\",\"automargin\":true,\"zerolinewidth\":2},\"yaxis\":{\"gridcolor\":\"#283442\",\"linecolor\":\"#506784\",\"ticks\":\"\",\"title\":{\"standoff\":15},\"zerolinecolor\":\"#283442\",\"automargin\":true,\"zerolinewidth\":2},\"scene\":{\"xaxis\":{\"backgroundcolor\":\"rgb(17,17,17)\",\"gridcolor\":\"#506784\",\"linecolor\":\"#506784\",\"showbackground\":true,\"ticks\":\"\",\"zerolinecolor\":\"#C8D4E3\",\"gridwidth\":2},\"yaxis\":{\"backgroundcolor\":\"rgb(17,17,17)\",\"gridcolor\":\"#506784\",\"linecolor\":\"#506784\",\"showbackground\":true,\"ticks\":\"\",\"zerolinecolor\":\"#C8D4E3\",\"gridwidth\":2},\"zaxis\":{\"backgroundcolor\":\"rgb(17,17,17)\",\"gridcolor\":\"#506784\",\"linecolor\":\"#506784\",\"showbackground\":true,\"ticks\":\"\",\"zerolinecolor\":\"#C8D4E3\",\"gridwidth\":2}},\"shapedefaults\":{\"line\":{\"color\":\"#f2f5fa\"}},\"annotationdefaults\":{\"arrowcolor\":\"#f2f5fa\",\"arrowhead\":0,\"arrowwidth\":1},\"geo\":{\"bgcolor\":\"rgb(17,17,17)\",\"landcolor\":\"rgb(17,17,17)\",\"subunitcolor\":\"#506784\",\"showland\":true,\"showlakes\":true,\"lakecolor\":\"rgb(17,17,17)\"},\"title\":{\"x\":0.05},\"updatemenudefaults\":{\"bgcolor\":\"#506784\",\"borderwidth\":0},\"sliderdefaults\":{\"bgcolor\":\"#C8D4E3\",\"borderwidth\":1,\"bordercolor\":\"rgb(17,17,17)\",\"tickwidth\":0},\"mapbox\":{\"style\":\"dark\"}}},\"title\":{\"text\":\"Polynomial Regression of degree 45 (R2=0.999879)\"},\"xaxis\":{\"title\":{\"text\":\"L\"}},\"yaxis\":{\"title\":{\"text\":\"Intensity2\"}},\"legend\":{\"yanchor\":\"top\",\"y\":0.99,\"xanchor\":\"left\",\"x\":0.0}},                        {\"responsive\": true}                    ).then(function(){\n                            \nvar gd = document.getElementById('9a18947f-1763-4745-a384-829a73382534');\nvar x = new MutationObserver(function (mutations, observer) {{\n        var display = window.getComputedStyle(gd).display;\n        if (!display || display === 'none') {{\n            console.log([gd, 'removed!']);\n            Plotly.purge(gd);\n            observer.disconnect();\n        }}\n}});\n\n// Listen for the removal of the full notebook cells\nvar notebookContainer = gd.closest('#notebook-container');\nif (notebookContainer) {{\n    x.observe(notebookContainer, {childList: true});\n}}\n\n// Listen for the clearing of the current output cell\nvar outputEl = gd.closest('.output');\nif (outputEl) {{\n    x.observe(outputEl, {childList: true});\n}}\n\n                        })                };                });            </script>        </div>"
     },
     "metadata": {},
     "output_type": "display_data"
    },
    {
     "data": {
      "application/vnd.plotly.v1+json": {
       "data": [
        {
         "line": {
          "color": "blue",
          "width": 1
         },
         "mode": "lines",
         "name": "data",
         "x": [
          1.70332,
          1.70726,
          1.71119,
          1.71513,
          1.71906,
          1.723,
          1.72694,
          1.73087,
          1.73481,
          1.73874,
          1.74268,
          1.74661,
          1.75054,
          1.75448,
          1.75841,
          1.76235,
          1.76628,
          1.77022,
          1.77415,
          1.77809,
          1.78202,
          1.78596,
          1.78989,
          1.79382,
          1.79776,
          1.80169,
          1.80563,
          1.80956,
          1.81349,
          1.81743,
          1.82136,
          1.8253,
          1.82923,
          1.83316,
          1.8371,
          1.84103,
          1.84496,
          1.8489,
          1.85283,
          1.85676,
          1.8607,
          1.86463,
          1.86856,
          1.8725,
          1.87643,
          1.88036,
          1.8843,
          1.88823,
          1.89216,
          1.89609,
          1.90003,
          1.90396,
          1.90789,
          1.91182,
          1.91576,
          1.91969,
          1.92362,
          1.92755,
          1.93149,
          1.93542,
          1.94328,
          1.94721,
          1.95115,
          1.95508,
          1.95901,
          1.96294,
          1.96687,
          1.9708,
          1.97474,
          1.97867,
          1.9826,
          1.98653,
          1.99046,
          1.99439,
          1.99832,
          2.00226,
          2.00619,
          2.01012,
          2.01405,
          2.01798,
          2.02191,
          2.02584,
          2.02977,
          2.0337,
          2.03763,
          2.04156,
          2.04549,
          2.04942,
          2.05336,
          2.05729,
          2.06122,
          2.06515,
          2.06908,
          2.07301,
          2.07694,
          2.08087,
          2.0848,
          2.08873,
          2.09266,
          2.09658,
          2.10051,
          2.10444,
          2.10837,
          2.1123,
          2.11623,
          2.12016,
          2.12409,
          2.12802,
          2.13195,
          2.13588,
          2.13981,
          2.14374,
          2.14766,
          2.15159,
          2.15552,
          2.15945,
          2.16338,
          2.16731,
          2.17124,
          2.17516,
          2.17909,
          2.18302,
          2.18695,
          2.19088,
          2.1948,
          2.19873,
          2.20266,
          2.20659,
          2.21052,
          2.21444,
          2.21837,
          2.2223,
          2.22623,
          2.23015,
          2.23408,
          2.23801,
          2.24194,
          2.24586,
          2.24979,
          2.25372,
          2.25764,
          2.26157,
          2.2655,
          2.26942,
          2.27335,
          2.27728,
          2.2812,
          2.28513,
          2.28906,
          2.29298,
          2.29691,
          2.30084,
          2.30476,
          2.30869,
          2.31261,
          2.31654,
          2.32047,
          2.32439,
          2.32832,
          2.33224,
          2.33617,
          2.34009,
          2.34402,
          2.34794,
          2.35187,
          2.35579,
          2.35972,
          2.36364,
          2.36757,
          2.37149,
          2.37542,
          2.37934,
          2.38327,
          2.38719,
          2.39112,
          2.39504,
          2.39897,
          2.40289,
          2.40682,
          2.41074,
          2.41466,
          2.41859,
          2.42251,
          2.42644,
          2.43036,
          2.43428,
          2.43821,
          2.44213,
          2.44605,
          2.44998,
          2.4539,
          2.45782,
          2.46175,
          2.46567,
          2.46959,
          2.47352,
          2.47744,
          2.48136,
          2.48528,
          2.48921,
          2.49313,
          2.49705
         ],
         "y": [
          75400.0,
          75408.0,
          75472.0,
          75365.0,
          75405.0,
          75516.0,
          75488.0,
          75395.0,
          75528.0,
          75473.0,
          75376.0,
          75457.0,
          75443.0,
          75405.0,
          75621.0,
          75413.0,
          75456.0,
          75426.0,
          75441.0,
          75492.0,
          75503.0,
          75559.0,
          75544.0,
          75570.0,
          75488.0,
          75418.0,
          75338.0,
          75476.0,
          75500.0,
          75504.0,
          75373.0,
          75390.0,
          75293.0,
          75409.0,
          75286.0,
          75261.0,
          75352.0,
          75341.0,
          75204.0,
          75287.0,
          75258.0,
          75253.0,
          75332.0,
          75314.0,
          75209.0,
          75323.0,
          75332.0,
          75392.0,
          75358.0,
          75287.0,
          75472.0,
          75411.0,
          75439.0,
          75452.0,
          75386.0,
          75361.0,
          75442.0,
          75434.0,
          75494.0,
          75488.0,
          75576.0,
          75698.0,
          75752.0,
          75873.0,
          75989.0,
          76240.0,
          76482.0,
          76682.0,
          76903.0,
          77675.0,
          77797.0,
          78249.0,
          78919.0,
          79401.0,
          80082.0,
          81031.0,
          81904.0,
          82918.0,
          83722.0,
          84931.0,
          85836.0,
          87240.0,
          88355.0,
          89781.0,
          91038.0,
          92645.0,
          94277.0,
          95561.0,
          96961.0,
          98720.0,
          99893.0,
          101139.0,
          102986.0,
          103550.0,
          104855.0,
          105793.0,
          106769.0,
          107814.0,
          108357.0,
          108871.0,
          109573.0,
          110227.0,
          110472.0,
          109875.0,
          109980.0,
          109830.0,
          108936.0,
          108387.0,
          107517.0,
          106704.0,
          105955.0,
          105181.0,
          103433.0,
          102709.0,
          100700.0,
          99624.0,
          98108.0,
          96759.0,
          95344.0,
          93432.0,
          91908.0,
          90550.0,
          89170.0,
          87550.0,
          86511.0,
          85052.0,
          83937.0,
          82833.0,
          81836.0,
          81008.0,
          80021.0,
          79333.0,
          78583.0,
          78275.0,
          77917.0,
          77278.0,
          77109.0,
          76913.0,
          76788.0,
          76673.0,
          76743.0,
          76845.0,
          76982.0,
          76959.0,
          77084.0,
          77245.0,
          77544.0,
          77649.0,
          77854.0,
          78107.0,
          78177.0,
          78304.0,
          78421.0,
          78496.0,
          78628.0,
          78824.0,
          78727.0,
          78849.0,
          78636.0,
          78457.0,
          78778.0,
          78815.0,
          78536.0,
          78248.0,
          78252.0,
          78261.0,
          78237.0,
          78128.0,
          77927.0,
          77849.0,
          77782.0,
          77644.0,
          77654.0,
          77611.0,
          77594.0,
          77307.0,
          77300.0,
          77286.0,
          77064.0,
          77350.0,
          77293.0,
          77149.0,
          77111.0,
          77061.0,
          77191.0,
          77263.0,
          77214.0,
          77274.0,
          77141.0,
          77158.0,
          77260.0,
          77354.0,
          77356.0,
          77481.0,
          77534.0,
          77528.0,
          77547.0,
          77695.0,
          77596.0,
          77808.0,
          77653.0,
          77473.0
         ],
         "type": "scatter"
        },
        {
         "line": {
          "color": "red",
          "width": 1
         },
         "mode": "lines",
         "name": "regression",
         "x": [
          1.70332,
          1.70726,
          1.71119,
          1.71513,
          1.71906,
          1.723,
          1.72694,
          1.73087,
          1.73481,
          1.73874,
          1.74268,
          1.74661,
          1.75054,
          1.75448,
          1.75841,
          1.76235,
          1.76628,
          1.77022,
          1.77415,
          1.77809,
          1.78202,
          1.78596,
          1.78989,
          1.79382,
          1.79776,
          1.80169,
          1.80563,
          1.80956,
          1.81349,
          1.81743,
          1.82136,
          1.8253,
          1.82923,
          1.83316,
          1.8371,
          1.84103,
          1.84496,
          1.8489,
          1.85283,
          1.85676,
          1.8607,
          1.86463,
          1.86856,
          1.8725,
          1.87643,
          1.88036,
          1.8843,
          1.88823,
          1.89216,
          1.89609,
          1.90003,
          1.90396,
          1.90789,
          1.91182,
          1.91576,
          1.91969,
          1.92362,
          1.92755,
          1.93149,
          1.93542,
          1.94328,
          1.94721,
          1.95115,
          1.95508,
          1.95901,
          1.96294,
          1.96687,
          1.9708,
          1.97474,
          1.97867,
          1.9826,
          1.98653,
          1.99046,
          1.99439,
          1.99832,
          2.00226,
          2.00619,
          2.01012,
          2.01405,
          2.01798,
          2.02191,
          2.02584,
          2.02977,
          2.0337,
          2.03763,
          2.04156,
          2.04549,
          2.04942,
          2.05336,
          2.05729,
          2.06122,
          2.06515,
          2.06908,
          2.07301,
          2.07694,
          2.08087,
          2.0848,
          2.08873,
          2.09266,
          2.09658,
          2.10051,
          2.10444,
          2.10837,
          2.1123,
          2.11623,
          2.12016,
          2.12409,
          2.12802,
          2.13195,
          2.13588,
          2.13981,
          2.14374,
          2.14766,
          2.15159,
          2.15552,
          2.15945,
          2.16338,
          2.16731,
          2.17124,
          2.17516,
          2.17909,
          2.18302,
          2.18695,
          2.19088,
          2.1948,
          2.19873,
          2.20266,
          2.20659,
          2.21052,
          2.21444,
          2.21837,
          2.2223,
          2.22623,
          2.23015,
          2.23408,
          2.23801,
          2.24194,
          2.24586,
          2.24979,
          2.25372,
          2.25764,
          2.26157,
          2.2655,
          2.26942,
          2.27335,
          2.27728,
          2.2812,
          2.28513,
          2.28906,
          2.29298,
          2.29691,
          2.30084,
          2.30476,
          2.30869,
          2.31261,
          2.31654,
          2.32047,
          2.32439,
          2.32832,
          2.33224,
          2.33617,
          2.34009,
          2.34402,
          2.34794,
          2.35187,
          2.35579,
          2.35972,
          2.36364,
          2.36757,
          2.37149,
          2.37542,
          2.37934,
          2.38327,
          2.38719,
          2.39112,
          2.39504,
          2.39897,
          2.40289,
          2.40682,
          2.41074,
          2.41466,
          2.41859,
          2.42251,
          2.42644,
          2.43036,
          2.43428,
          2.43821,
          2.44213,
          2.44605,
          2.44998,
          2.4539,
          2.45782,
          2.46175,
          2.46567,
          2.46959,
          2.47352,
          2.47744,
          2.48136,
          2.48528,
          2.48921,
          2.49313,
          2.49705
         ],
         "y": [
          75404.3089684213,
          75412.0199059213,
          75456.3870934213,
          75392.1136559213,
          75407.4847496713,
          75468.0628746713,
          75499.0423668588,
          75484.54578482755,
          75452.07703482755,
          75431.2415856088,
          75431.96057974943,
          75446.56800162443,
          75461.62720572599,
          75468.16144644865,
          75465.3120506967,
          75458.46015250334,
          75454.73743521818,
          75458.95523917326,
          75471.70865714201,
          75489.79024970182,
          75507.74505698332,
          75520.3535488809,
          75524.02917372831,
          75517.84610640653,
          75503.18176447996,
          75483.11146962293,
          75461.02668463835,
          75440.0067652429,
          75421.79688870558,
          75406.79797476181,
          75394.34802862653,
          75382.93139189132,
          75371.01679743477,
          75357.36064275005,
          75341.42635509023,
          75323.65694958554,
          75305.15219252952,
          75287.53914747504,
          75272.77596790274,
          75262.52489599423,
          75258.03675967199,
          75259.9346856015,
          75268.06543340255,
          75281.64514763723,
          75299.22899607511,
          75319.13204160146,
          75339.59050496272,
          75358.81149360654,
          75375.48671633634,
          75388.72140530951,
          75398.18344008317,
          75404.03460337466,
          75407.0389041166,
          75408.38503376208,
          75409.62894247973,
          75412.58939103666,
          75419.27857176622,
          75431.83549004258,
          75452.56289423327,
          75483.69612441887,
          75587.30379507318,
          75665.2507406628,
          75764.98506825557,
          75889.46141625138,
          76042.71642441978,
          76228.9280325945,
          76452.61887136335,
          76718.60462141992,
          77032.77376222494,
          77398.66934233857,
          77822.1187209828,
          78308.02614397788,
          78860.94201413007,
          79484.8917795947,
          80183.20641901973,
          80960.43309722247,
          81814.10089572798,
          82746.42363460641,
          83756.50762878614,
          84842.1496055728,
          85999.78992713813,
          87224.4963023056,
          88509.97815826046,
          89848.63096795417,
          91231.60906782141,
          92648.924862382,
          94089.5717996899,
          95541.6681110462,
          96996.2974628671,
          98432.91305154026,
          99841.72561873263,
          101209.0871894859,
          102521.38618105475,
          103765.24373688153,
          104927.70701291913,
          105996.43642890989,
          106959.88411733846,
          107807.46103944362,
          108529.69048491272,
          109117.02367991279,
          109565.61400295363,
          109868.40235356521,
          110021.554276463,
          110022.84865488275,
          109871.71586163156,
          109569.25342410919,
          109118.21894285514,
          108523.00025521533,
          107789.56309078378,
          106925.37672476657,
          105939.31840048835,
          104841.55756371457,
          103646.58707360958,
          102360.61556150042,
          100999.73790755705,
          99577.78172676836,
          98109.04191856645,
          96608.08154982165,
          95089.5277793773,
          93571.72988913476,
          92061.05442080006,
          90574.9724343241,
          89126.3474899598,
          87727.13290000311,
          86391.53338900534,
          85122.38768998056,
          83931.53132655926,
          82825.89258000534,
          81810.91763910267,
          80892.75687789707,
          80069.13542173756,
          79343.4435711779,
          78715.17459890677,
          78183.7098789321,
          77743.25128626858,
          77391.07339303289,
          77122.00979948195,
          76930.48161302495,
          76808.90458196925,
          76750.75639579655,
          76748.54155517824,
          76794.64512953302,
          76881.47078166867,
          77001.07552552922,
          77146.65360702178,
          77310.76511572301,
          77486.11297972291,
          77667.16336350283,
          77847.4968420465,
          78021.21439060185,
          78184.31871437887,
          78332.09775590338,
          78460.690563677,
          78567.9610014467,
          78651.3943691689,
          78710.30153875751,
          78744.20628278342,
          78753.75785120472,
          78740.47184860264,
          78706.6058413249,
          78654.77441536682,
          78588.42500505946,
          78510.60583850998,
          78425.05047568423,
          78334.40949085564,
          78241.7673782038,
          78148.69037906476,
          78057.02999991574,
          77967.06902802386,
          77879.49580737599,
          77793.76539358147,
          77710.12780710706,
          77628.13554381975,
          77548.57443689951,
          77471.94797300943,
          77400.12463509687,
          77334.69141947874,
          77278.15111624845,
          77232.25091540464,
          77198.68088042387,
          77177.77204978117,
          77168.6768501962,
          77169.20446097502,
          77175.93903433927,
          77184.88337027677,
          77192.5288475717,
          77197.03089224943,
          77199.36197745451,
          77204.00421988615,
          77218.41370474943,
          77250.64673697599,
          77305.5980309213,
          77380.48352896818,
          77461.2835777963,
          77527.01648795255,
          77561.1878746713,
          77570.6380699838,
          77596.2581871713,
          77681.5784996713,
          77774.7581871713,
          77656.0980309213,
          77472.1995934213
         ],
         "type": "scatter"
        },
        {
         "line": {
          "color": "green",
          "width": 1
         },
         "mode": "lines",
         "name": "Line between selected Potentials",
         "x": [
          1.94721,
          2.25372
         ],
         "y": [
          75665.2507406628,
          76750.75639579655
         ],
         "type": "scatter"
        }
       ],
       "layout": {
        "template": {
         "data": {
          "histogram2dcontour": [
           {
            "type": "histogram2dcontour",
            "colorbar": {
             "outlinewidth": 0,
             "ticks": ""
            },
            "colorscale": [
             [
              0.0,
              "#0d0887"
             ],
             [
              0.1111111111111111,
              "#46039f"
             ],
             [
              0.2222222222222222,
              "#7201a8"
             ],
             [
              0.3333333333333333,
              "#9c179e"
             ],
             [
              0.4444444444444444,
              "#bd3786"
             ],
             [
              0.5555555555555556,
              "#d8576b"
             ],
             [
              0.6666666666666666,
              "#ed7953"
             ],
             [
              0.7777777777777778,
              "#fb9f3a"
             ],
             [
              0.8888888888888888,
              "#fdca26"
             ],
             [
              1.0,
              "#f0f921"
             ]
            ]
           }
          ],
          "choropleth": [
           {
            "type": "choropleth",
            "colorbar": {
             "outlinewidth": 0,
             "ticks": ""
            }
           }
          ],
          "histogram2d": [
           {
            "type": "histogram2d",
            "colorbar": {
             "outlinewidth": 0,
             "ticks": ""
            },
            "colorscale": [
             [
              0.0,
              "#0d0887"
             ],
             [
              0.1111111111111111,
              "#46039f"
             ],
             [
              0.2222222222222222,
              "#7201a8"
             ],
             [
              0.3333333333333333,
              "#9c179e"
             ],
             [
              0.4444444444444444,
              "#bd3786"
             ],
             [
              0.5555555555555556,
              "#d8576b"
             ],
             [
              0.6666666666666666,
              "#ed7953"
             ],
             [
              0.7777777777777778,
              "#fb9f3a"
             ],
             [
              0.8888888888888888,
              "#fdca26"
             ],
             [
              1.0,
              "#f0f921"
             ]
            ]
           }
          ],
          "heatmap": [
           {
            "type": "heatmap",
            "colorbar": {
             "outlinewidth": 0,
             "ticks": ""
            },
            "colorscale": [
             [
              0.0,
              "#0d0887"
             ],
             [
              0.1111111111111111,
              "#46039f"
             ],
             [
              0.2222222222222222,
              "#7201a8"
             ],
             [
              0.3333333333333333,
              "#9c179e"
             ],
             [
              0.4444444444444444,
              "#bd3786"
             ],
             [
              0.5555555555555556,
              "#d8576b"
             ],
             [
              0.6666666666666666,
              "#ed7953"
             ],
             [
              0.7777777777777778,
              "#fb9f3a"
             ],
             [
              0.8888888888888888,
              "#fdca26"
             ],
             [
              1.0,
              "#f0f921"
             ]
            ]
           }
          ],
          "heatmapgl": [
           {
            "type": "heatmapgl",
            "colorbar": {
             "outlinewidth": 0,
             "ticks": ""
            },
            "colorscale": [
             [
              0.0,
              "#0d0887"
             ],
             [
              0.1111111111111111,
              "#46039f"
             ],
             [
              0.2222222222222222,
              "#7201a8"
             ],
             [
              0.3333333333333333,
              "#9c179e"
             ],
             [
              0.4444444444444444,
              "#bd3786"
             ],
             [
              0.5555555555555556,
              "#d8576b"
             ],
             [
              0.6666666666666666,
              "#ed7953"
             ],
             [
              0.7777777777777778,
              "#fb9f3a"
             ],
             [
              0.8888888888888888,
              "#fdca26"
             ],
             [
              1.0,
              "#f0f921"
             ]
            ]
           }
          ],
          "contourcarpet": [
           {
            "type": "contourcarpet",
            "colorbar": {
             "outlinewidth": 0,
             "ticks": ""
            }
           }
          ],
          "contour": [
           {
            "type": "contour",
            "colorbar": {
             "outlinewidth": 0,
             "ticks": ""
            },
            "colorscale": [
             [
              0.0,
              "#0d0887"
             ],
             [
              0.1111111111111111,
              "#46039f"
             ],
             [
              0.2222222222222222,
              "#7201a8"
             ],
             [
              0.3333333333333333,
              "#9c179e"
             ],
             [
              0.4444444444444444,
              "#bd3786"
             ],
             [
              0.5555555555555556,
              "#d8576b"
             ],
             [
              0.6666666666666666,
              "#ed7953"
             ],
             [
              0.7777777777777778,
              "#fb9f3a"
             ],
             [
              0.8888888888888888,
              "#fdca26"
             ],
             [
              1.0,
              "#f0f921"
             ]
            ]
           }
          ],
          "surface": [
           {
            "type": "surface",
            "colorbar": {
             "outlinewidth": 0,
             "ticks": ""
            },
            "colorscale": [
             [
              0.0,
              "#0d0887"
             ],
             [
              0.1111111111111111,
              "#46039f"
             ],
             [
              0.2222222222222222,
              "#7201a8"
             ],
             [
              0.3333333333333333,
              "#9c179e"
             ],
             [
              0.4444444444444444,
              "#bd3786"
             ],
             [
              0.5555555555555556,
              "#d8576b"
             ],
             [
              0.6666666666666666,
              "#ed7953"
             ],
             [
              0.7777777777777778,
              "#fb9f3a"
             ],
             [
              0.8888888888888888,
              "#fdca26"
             ],
             [
              1.0,
              "#f0f921"
             ]
            ]
           }
          ],
          "mesh3d": [
           {
            "type": "mesh3d",
            "colorbar": {
             "outlinewidth": 0,
             "ticks": ""
            }
           }
          ],
          "scatter": [
           {
            "marker": {
             "line": {
              "color": "#283442"
             }
            },
            "type": "scatter"
           }
          ],
          "parcoords": [
           {
            "type": "parcoords",
            "line": {
             "colorbar": {
              "outlinewidth": 0,
              "ticks": ""
             }
            }
           }
          ],
          "scatterpolargl": [
           {
            "type": "scatterpolargl",
            "marker": {
             "colorbar": {
              "outlinewidth": 0,
              "ticks": ""
             }
            }
           }
          ],
          "bar": [
           {
            "error_x": {
             "color": "#f2f5fa"
            },
            "error_y": {
             "color": "#f2f5fa"
            },
            "marker": {
             "line": {
              "color": "rgb(17,17,17)",
              "width": 0.5
             },
             "pattern": {
              "fillmode": "overlay",
              "size": 10,
              "solidity": 0.2
             }
            },
            "type": "bar"
           }
          ],
          "scattergeo": [
           {
            "type": "scattergeo",
            "marker": {
             "colorbar": {
              "outlinewidth": 0,
              "ticks": ""
             }
            }
           }
          ],
          "scatterpolar": [
           {
            "type": "scatterpolar",
            "marker": {
             "colorbar": {
              "outlinewidth": 0,
              "ticks": ""
             }
            }
           }
          ],
          "histogram": [
           {
            "marker": {
             "pattern": {
              "fillmode": "overlay",
              "size": 10,
              "solidity": 0.2
             }
            },
            "type": "histogram"
           }
          ],
          "scattergl": [
           {
            "marker": {
             "line": {
              "color": "#283442"
             }
            },
            "type": "scattergl"
           }
          ],
          "scatter3d": [
           {
            "type": "scatter3d",
            "line": {
             "colorbar": {
              "outlinewidth": 0,
              "ticks": ""
             }
            },
            "marker": {
             "colorbar": {
              "outlinewidth": 0,
              "ticks": ""
             }
            }
           }
          ],
          "scattermapbox": [
           {
            "type": "scattermapbox",
            "marker": {
             "colorbar": {
              "outlinewidth": 0,
              "ticks": ""
             }
            }
           }
          ],
          "scatterternary": [
           {
            "type": "scatterternary",
            "marker": {
             "colorbar": {
              "outlinewidth": 0,
              "ticks": ""
             }
            }
           }
          ],
          "scattercarpet": [
           {
            "type": "scattercarpet",
            "marker": {
             "colorbar": {
              "outlinewidth": 0,
              "ticks": ""
             }
            }
           }
          ],
          "carpet": [
           {
            "aaxis": {
             "endlinecolor": "#A2B1C6",
             "gridcolor": "#506784",
             "linecolor": "#506784",
             "minorgridcolor": "#506784",
             "startlinecolor": "#A2B1C6"
            },
            "baxis": {
             "endlinecolor": "#A2B1C6",
             "gridcolor": "#506784",
             "linecolor": "#506784",
             "minorgridcolor": "#506784",
             "startlinecolor": "#A2B1C6"
            },
            "type": "carpet"
           }
          ],
          "table": [
           {
            "cells": {
             "fill": {
              "color": "#506784"
             },
             "line": {
              "color": "rgb(17,17,17)"
             }
            },
            "header": {
             "fill": {
              "color": "#2a3f5f"
             },
             "line": {
              "color": "rgb(17,17,17)"
             }
            },
            "type": "table"
           }
          ],
          "barpolar": [
           {
            "marker": {
             "line": {
              "color": "rgb(17,17,17)",
              "width": 0.5
             },
             "pattern": {
              "fillmode": "overlay",
              "size": 10,
              "solidity": 0.2
             }
            },
            "type": "barpolar"
           }
          ],
          "pie": [
           {
            "automargin": true,
            "type": "pie"
           }
          ]
         },
         "layout": {
          "autotypenumbers": "strict",
          "colorway": [
           "#636efa",
           "#EF553B",
           "#00cc96",
           "#ab63fa",
           "#FFA15A",
           "#19d3f3",
           "#FF6692",
           "#B6E880",
           "#FF97FF",
           "#FECB52"
          ],
          "font": {
           "color": "#f2f5fa"
          },
          "hovermode": "closest",
          "hoverlabel": {
           "align": "left"
          },
          "paper_bgcolor": "rgb(17,17,17)",
          "plot_bgcolor": "rgb(17,17,17)",
          "polar": {
           "bgcolor": "rgb(17,17,17)",
           "angularaxis": {
            "gridcolor": "#506784",
            "linecolor": "#506784",
            "ticks": ""
           },
           "radialaxis": {
            "gridcolor": "#506784",
            "linecolor": "#506784",
            "ticks": ""
           }
          },
          "ternary": {
           "bgcolor": "rgb(17,17,17)",
           "aaxis": {
            "gridcolor": "#506784",
            "linecolor": "#506784",
            "ticks": ""
           },
           "baxis": {
            "gridcolor": "#506784",
            "linecolor": "#506784",
            "ticks": ""
           },
           "caxis": {
            "gridcolor": "#506784",
            "linecolor": "#506784",
            "ticks": ""
           }
          },
          "coloraxis": {
           "colorbar": {
            "outlinewidth": 0,
            "ticks": ""
           }
          },
          "colorscale": {
           "sequential": [
            [
             0.0,
             "#0d0887"
            ],
            [
             0.1111111111111111,
             "#46039f"
            ],
            [
             0.2222222222222222,
             "#7201a8"
            ],
            [
             0.3333333333333333,
             "#9c179e"
            ],
            [
             0.4444444444444444,
             "#bd3786"
            ],
            [
             0.5555555555555556,
             "#d8576b"
            ],
            [
             0.6666666666666666,
             "#ed7953"
            ],
            [
             0.7777777777777778,
             "#fb9f3a"
            ],
            [
             0.8888888888888888,
             "#fdca26"
            ],
            [
             1.0,
             "#f0f921"
            ]
           ],
           "sequentialminus": [
            [
             0.0,
             "#0d0887"
            ],
            [
             0.1111111111111111,
             "#46039f"
            ],
            [
             0.2222222222222222,
             "#7201a8"
            ],
            [
             0.3333333333333333,
             "#9c179e"
            ],
            [
             0.4444444444444444,
             "#bd3786"
            ],
            [
             0.5555555555555556,
             "#d8576b"
            ],
            [
             0.6666666666666666,
             "#ed7953"
            ],
            [
             0.7777777777777778,
             "#fb9f3a"
            ],
            [
             0.8888888888888888,
             "#fdca26"
            ],
            [
             1.0,
             "#f0f921"
            ]
           ],
           "diverging": [
            [
             0,
             "#8e0152"
            ],
            [
             0.1,
             "#c51b7d"
            ],
            [
             0.2,
             "#de77ae"
            ],
            [
             0.3,
             "#f1b6da"
            ],
            [
             0.4,
             "#fde0ef"
            ],
            [
             0.5,
             "#f7f7f7"
            ],
            [
             0.6,
             "#e6f5d0"
            ],
            [
             0.7,
             "#b8e186"
            ],
            [
             0.8,
             "#7fbc41"
            ],
            [
             0.9,
             "#4d9221"
            ],
            [
             1,
             "#276419"
            ]
           ]
          },
          "xaxis": {
           "gridcolor": "#283442",
           "linecolor": "#506784",
           "ticks": "",
           "title": {
            "standoff": 15
           },
           "zerolinecolor": "#283442",
           "automargin": true,
           "zerolinewidth": 2
          },
          "yaxis": {
           "gridcolor": "#283442",
           "linecolor": "#506784",
           "ticks": "",
           "title": {
            "standoff": 15
           },
           "zerolinecolor": "#283442",
           "automargin": true,
           "zerolinewidth": 2
          },
          "scene": {
           "xaxis": {
            "backgroundcolor": "rgb(17,17,17)",
            "gridcolor": "#506784",
            "linecolor": "#506784",
            "showbackground": true,
            "ticks": "",
            "zerolinecolor": "#C8D4E3",
            "gridwidth": 2
           },
           "yaxis": {
            "backgroundcolor": "rgb(17,17,17)",
            "gridcolor": "#506784",
            "linecolor": "#506784",
            "showbackground": true,
            "ticks": "",
            "zerolinecolor": "#C8D4E3",
            "gridwidth": 2
           },
           "zaxis": {
            "backgroundcolor": "rgb(17,17,17)",
            "gridcolor": "#506784",
            "linecolor": "#506784",
            "showbackground": true,
            "ticks": "",
            "zerolinecolor": "#C8D4E3",
            "gridwidth": 2
           }
          },
          "shapedefaults": {
           "line": {
            "color": "#f2f5fa"
           }
          },
          "annotationdefaults": {
           "arrowcolor": "#f2f5fa",
           "arrowhead": 0,
           "arrowwidth": 1
          },
          "geo": {
           "bgcolor": "rgb(17,17,17)",
           "landcolor": "rgb(17,17,17)",
           "subunitcolor": "#506784",
           "showland": true,
           "showlakes": true,
           "lakecolor": "rgb(17,17,17)"
          },
          "title": {
           "x": 0.05
          },
          "updatemenudefaults": {
           "bgcolor": "#506784",
           "borderwidth": 0
          },
          "sliderdefaults": {
           "bgcolor": "#C8D4E3",
           "borderwidth": 1,
           "bordercolor": "rgb(17,17,17)",
           "tickwidth": 0
          },
          "mapbox": {
           "style": "dark"
          }
         }
        },
        "title": {
         "text": "Polynomial Regression of degree 45 (R2=0.999879)"
        },
        "xaxis": {
         "title": {
          "text": "L"
         }
        },
        "yaxis": {
         "title": {
          "text": "Intensity2"
         }
        },
        "legend": {
         "yanchor": "top",
         "y": 0.99,
         "xanchor": "left",
         "x": 0.0
        }
       },
       "config": {
        "plotlyServerURL": "https://plot.ly"
       }
      },
      "text/html": "<div>                            <div id=\"e8df71ce-c1a5-4658-bd8f-c4231e7a260c\" class=\"plotly-graph-div\" style=\"height:525px; width:100%;\"></div>            <script type=\"text/javascript\">                require([\"plotly\"], function(Plotly) {                    window.PLOTLYENV=window.PLOTLYENV || {};                                    if (document.getElementById(\"e8df71ce-c1a5-4658-bd8f-c4231e7a260c\")) {                    Plotly.newPlot(                        \"e8df71ce-c1a5-4658-bd8f-c4231e7a260c\",                        [{\"line\":{\"color\":\"blue\",\"width\":1},\"mode\":\"lines\",\"name\":\"data\",\"x\":[1.70332,1.70726,1.71119,1.71513,1.71906,1.723,1.72694,1.73087,1.73481,1.73874,1.74268,1.74661,1.75054,1.75448,1.75841,1.76235,1.76628,1.77022,1.77415,1.77809,1.78202,1.78596,1.78989,1.79382,1.79776,1.80169,1.80563,1.80956,1.81349,1.81743,1.82136,1.8253,1.82923,1.83316,1.8371,1.84103,1.84496,1.8489,1.85283,1.85676,1.8607,1.86463,1.86856,1.8725,1.87643,1.88036,1.8843,1.88823,1.89216,1.89609,1.90003,1.90396,1.90789,1.91182,1.91576,1.91969,1.92362,1.92755,1.93149,1.93542,1.94328,1.94721,1.95115,1.95508,1.95901,1.96294,1.96687,1.9708,1.97474,1.97867,1.9826,1.98653,1.99046,1.99439,1.99832,2.00226,2.00619,2.01012,2.01405,2.01798,2.02191,2.02584,2.02977,2.0337,2.03763,2.04156,2.04549,2.04942,2.05336,2.05729,2.06122,2.06515,2.06908,2.07301,2.07694,2.08087,2.0848,2.08873,2.09266,2.09658,2.10051,2.10444,2.10837,2.1123,2.11623,2.12016,2.12409,2.12802,2.13195,2.13588,2.13981,2.14374,2.14766,2.15159,2.15552,2.15945,2.16338,2.16731,2.17124,2.17516,2.17909,2.18302,2.18695,2.19088,2.1948,2.19873,2.20266,2.20659,2.21052,2.21444,2.21837,2.2223,2.22623,2.23015,2.23408,2.23801,2.24194,2.24586,2.24979,2.25372,2.25764,2.26157,2.2655,2.26942,2.27335,2.27728,2.2812,2.28513,2.28906,2.29298,2.29691,2.30084,2.30476,2.30869,2.31261,2.31654,2.32047,2.32439,2.32832,2.33224,2.33617,2.34009,2.34402,2.34794,2.35187,2.35579,2.35972,2.36364,2.36757,2.37149,2.37542,2.37934,2.38327,2.38719,2.39112,2.39504,2.39897,2.40289,2.40682,2.41074,2.41466,2.41859,2.42251,2.42644,2.43036,2.43428,2.43821,2.44213,2.44605,2.44998,2.4539,2.45782,2.46175,2.46567,2.46959,2.47352,2.47744,2.48136,2.48528,2.48921,2.49313,2.49705],\"y\":[75400.0,75408.0,75472.0,75365.0,75405.0,75516.0,75488.0,75395.0,75528.0,75473.0,75376.0,75457.0,75443.0,75405.0,75621.0,75413.0,75456.0,75426.0,75441.0,75492.0,75503.0,75559.0,75544.0,75570.0,75488.0,75418.0,75338.0,75476.0,75500.0,75504.0,75373.0,75390.0,75293.0,75409.0,75286.0,75261.0,75352.0,75341.0,75204.0,75287.0,75258.0,75253.0,75332.0,75314.0,75209.0,75323.0,75332.0,75392.0,75358.0,75287.0,75472.0,75411.0,75439.0,75452.0,75386.0,75361.0,75442.0,75434.0,75494.0,75488.0,75576.0,75698.0,75752.0,75873.0,75989.0,76240.0,76482.0,76682.0,76903.0,77675.0,77797.0,78249.0,78919.0,79401.0,80082.0,81031.0,81904.0,82918.0,83722.0,84931.0,85836.0,87240.0,88355.0,89781.0,91038.0,92645.0,94277.0,95561.0,96961.0,98720.0,99893.0,101139.0,102986.0,103550.0,104855.0,105793.0,106769.0,107814.0,108357.0,108871.0,109573.0,110227.0,110472.0,109875.0,109980.0,109830.0,108936.0,108387.0,107517.0,106704.0,105955.0,105181.0,103433.0,102709.0,100700.0,99624.0,98108.0,96759.0,95344.0,93432.0,91908.0,90550.0,89170.0,87550.0,86511.0,85052.0,83937.0,82833.0,81836.0,81008.0,80021.0,79333.0,78583.0,78275.0,77917.0,77278.0,77109.0,76913.0,76788.0,76673.0,76743.0,76845.0,76982.0,76959.0,77084.0,77245.0,77544.0,77649.0,77854.0,78107.0,78177.0,78304.0,78421.0,78496.0,78628.0,78824.0,78727.0,78849.0,78636.0,78457.0,78778.0,78815.0,78536.0,78248.0,78252.0,78261.0,78237.0,78128.0,77927.0,77849.0,77782.0,77644.0,77654.0,77611.0,77594.0,77307.0,77300.0,77286.0,77064.0,77350.0,77293.0,77149.0,77111.0,77061.0,77191.0,77263.0,77214.0,77274.0,77141.0,77158.0,77260.0,77354.0,77356.0,77481.0,77534.0,77528.0,77547.0,77695.0,77596.0,77808.0,77653.0,77473.0],\"type\":\"scatter\"},{\"line\":{\"color\":\"red\",\"width\":1},\"mode\":\"lines\",\"name\":\"regression\",\"x\":[1.70332,1.70726,1.71119,1.71513,1.71906,1.723,1.72694,1.73087,1.73481,1.73874,1.74268,1.74661,1.75054,1.75448,1.75841,1.76235,1.76628,1.77022,1.77415,1.77809,1.78202,1.78596,1.78989,1.79382,1.79776,1.80169,1.80563,1.80956,1.81349,1.81743,1.82136,1.8253,1.82923,1.83316,1.8371,1.84103,1.84496,1.8489,1.85283,1.85676,1.8607,1.86463,1.86856,1.8725,1.87643,1.88036,1.8843,1.88823,1.89216,1.89609,1.90003,1.90396,1.90789,1.91182,1.91576,1.91969,1.92362,1.92755,1.93149,1.93542,1.94328,1.94721,1.95115,1.95508,1.95901,1.96294,1.96687,1.9708,1.97474,1.97867,1.9826,1.98653,1.99046,1.99439,1.99832,2.00226,2.00619,2.01012,2.01405,2.01798,2.02191,2.02584,2.02977,2.0337,2.03763,2.04156,2.04549,2.04942,2.05336,2.05729,2.06122,2.06515,2.06908,2.07301,2.07694,2.08087,2.0848,2.08873,2.09266,2.09658,2.10051,2.10444,2.10837,2.1123,2.11623,2.12016,2.12409,2.12802,2.13195,2.13588,2.13981,2.14374,2.14766,2.15159,2.15552,2.15945,2.16338,2.16731,2.17124,2.17516,2.17909,2.18302,2.18695,2.19088,2.1948,2.19873,2.20266,2.20659,2.21052,2.21444,2.21837,2.2223,2.22623,2.23015,2.23408,2.23801,2.24194,2.24586,2.24979,2.25372,2.25764,2.26157,2.2655,2.26942,2.27335,2.27728,2.2812,2.28513,2.28906,2.29298,2.29691,2.30084,2.30476,2.30869,2.31261,2.31654,2.32047,2.32439,2.32832,2.33224,2.33617,2.34009,2.34402,2.34794,2.35187,2.35579,2.35972,2.36364,2.36757,2.37149,2.37542,2.37934,2.38327,2.38719,2.39112,2.39504,2.39897,2.40289,2.40682,2.41074,2.41466,2.41859,2.42251,2.42644,2.43036,2.43428,2.43821,2.44213,2.44605,2.44998,2.4539,2.45782,2.46175,2.46567,2.46959,2.47352,2.47744,2.48136,2.48528,2.48921,2.49313,2.49705],\"y\":[75404.3089684213,75412.0199059213,75456.3870934213,75392.1136559213,75407.4847496713,75468.0628746713,75499.0423668588,75484.54578482755,75452.07703482755,75431.2415856088,75431.96057974943,75446.56800162443,75461.62720572599,75468.16144644865,75465.3120506967,75458.46015250334,75454.73743521818,75458.95523917326,75471.70865714201,75489.79024970182,75507.74505698332,75520.3535488809,75524.02917372831,75517.84610640653,75503.18176447996,75483.11146962293,75461.02668463835,75440.0067652429,75421.79688870558,75406.79797476181,75394.34802862653,75382.93139189132,75371.01679743477,75357.36064275005,75341.42635509023,75323.65694958554,75305.15219252952,75287.53914747504,75272.77596790274,75262.52489599423,75258.03675967199,75259.9346856015,75268.06543340255,75281.64514763723,75299.22899607511,75319.13204160146,75339.59050496272,75358.81149360654,75375.48671633634,75388.72140530951,75398.18344008317,75404.03460337466,75407.0389041166,75408.38503376208,75409.62894247973,75412.58939103666,75419.27857176622,75431.83549004258,75452.56289423327,75483.69612441887,75587.30379507318,75665.2507406628,75764.98506825557,75889.46141625138,76042.71642441978,76228.9280325945,76452.61887136335,76718.60462141992,77032.77376222494,77398.66934233857,77822.1187209828,78308.02614397788,78860.94201413007,79484.8917795947,80183.20641901973,80960.43309722247,81814.10089572798,82746.42363460641,83756.50762878614,84842.1496055728,85999.78992713813,87224.4963023056,88509.97815826046,89848.63096795417,91231.60906782141,92648.924862382,94089.5717996899,95541.6681110462,96996.2974628671,98432.91305154026,99841.72561873263,101209.0871894859,102521.38618105475,103765.24373688153,104927.70701291913,105996.43642890989,106959.88411733846,107807.46103944362,108529.69048491272,109117.02367991279,109565.61400295363,109868.40235356521,110021.554276463,110022.84865488275,109871.71586163156,109569.25342410919,109118.21894285514,108523.00025521533,107789.56309078378,106925.37672476657,105939.31840048835,104841.55756371457,103646.58707360958,102360.61556150042,100999.73790755705,99577.78172676836,98109.04191856645,96608.08154982165,95089.5277793773,93571.72988913476,92061.05442080006,90574.9724343241,89126.3474899598,87727.13290000311,86391.53338900534,85122.38768998056,83931.53132655926,82825.89258000534,81810.91763910267,80892.75687789707,80069.13542173756,79343.4435711779,78715.17459890677,78183.7098789321,77743.25128626858,77391.07339303289,77122.00979948195,76930.48161302495,76808.90458196925,76750.75639579655,76748.54155517824,76794.64512953302,76881.47078166867,77001.07552552922,77146.65360702178,77310.76511572301,77486.11297972291,77667.16336350283,77847.4968420465,78021.21439060185,78184.31871437887,78332.09775590338,78460.690563677,78567.9610014467,78651.3943691689,78710.30153875751,78744.20628278342,78753.75785120472,78740.47184860264,78706.6058413249,78654.77441536682,78588.42500505946,78510.60583850998,78425.05047568423,78334.40949085564,78241.7673782038,78148.69037906476,78057.02999991574,77967.06902802386,77879.49580737599,77793.76539358147,77710.12780710706,77628.13554381975,77548.57443689951,77471.94797300943,77400.12463509687,77334.69141947874,77278.15111624845,77232.25091540464,77198.68088042387,77177.77204978117,77168.6768501962,77169.20446097502,77175.93903433927,77184.88337027677,77192.5288475717,77197.03089224943,77199.36197745451,77204.00421988615,77218.41370474943,77250.64673697599,77305.5980309213,77380.48352896818,77461.2835777963,77527.01648795255,77561.1878746713,77570.6380699838,77596.2581871713,77681.5784996713,77774.7581871713,77656.0980309213,77472.1995934213],\"type\":\"scatter\"},{\"line\":{\"color\":\"green\",\"width\":1},\"mode\":\"lines\",\"name\":\"Line between selected Potentials\",\"x\":[1.94721,2.25372],\"y\":[75665.2507406628,76750.75639579655],\"type\":\"scatter\"}],                        {\"template\":{\"data\":{\"histogram2dcontour\":[{\"type\":\"histogram2dcontour\",\"colorbar\":{\"outlinewidth\":0,\"ticks\":\"\"},\"colorscale\":[[0.0,\"#0d0887\"],[0.1111111111111111,\"#46039f\"],[0.2222222222222222,\"#7201a8\"],[0.3333333333333333,\"#9c179e\"],[0.4444444444444444,\"#bd3786\"],[0.5555555555555556,\"#d8576b\"],[0.6666666666666666,\"#ed7953\"],[0.7777777777777778,\"#fb9f3a\"],[0.8888888888888888,\"#fdca26\"],[1.0,\"#f0f921\"]]}],\"choropleth\":[{\"type\":\"choropleth\",\"colorbar\":{\"outlinewidth\":0,\"ticks\":\"\"}}],\"histogram2d\":[{\"type\":\"histogram2d\",\"colorbar\":{\"outlinewidth\":0,\"ticks\":\"\"},\"colorscale\":[[0.0,\"#0d0887\"],[0.1111111111111111,\"#46039f\"],[0.2222222222222222,\"#7201a8\"],[0.3333333333333333,\"#9c179e\"],[0.4444444444444444,\"#bd3786\"],[0.5555555555555556,\"#d8576b\"],[0.6666666666666666,\"#ed7953\"],[0.7777777777777778,\"#fb9f3a\"],[0.8888888888888888,\"#fdca26\"],[1.0,\"#f0f921\"]]}],\"heatmap\":[{\"type\":\"heatmap\",\"colorbar\":{\"outlinewidth\":0,\"ticks\":\"\"},\"colorscale\":[[0.0,\"#0d0887\"],[0.1111111111111111,\"#46039f\"],[0.2222222222222222,\"#7201a8\"],[0.3333333333333333,\"#9c179e\"],[0.4444444444444444,\"#bd3786\"],[0.5555555555555556,\"#d8576b\"],[0.6666666666666666,\"#ed7953\"],[0.7777777777777778,\"#fb9f3a\"],[0.8888888888888888,\"#fdca26\"],[1.0,\"#f0f921\"]]}],\"heatmapgl\":[{\"type\":\"heatmapgl\",\"colorbar\":{\"outlinewidth\":0,\"ticks\":\"\"},\"colorscale\":[[0.0,\"#0d0887\"],[0.1111111111111111,\"#46039f\"],[0.2222222222222222,\"#7201a8\"],[0.3333333333333333,\"#9c179e\"],[0.4444444444444444,\"#bd3786\"],[0.5555555555555556,\"#d8576b\"],[0.6666666666666666,\"#ed7953\"],[0.7777777777777778,\"#fb9f3a\"],[0.8888888888888888,\"#fdca26\"],[1.0,\"#f0f921\"]]}],\"contourcarpet\":[{\"type\":\"contourcarpet\",\"colorbar\":{\"outlinewidth\":0,\"ticks\":\"\"}}],\"contour\":[{\"type\":\"contour\",\"colorbar\":{\"outlinewidth\":0,\"ticks\":\"\"},\"colorscale\":[[0.0,\"#0d0887\"],[0.1111111111111111,\"#46039f\"],[0.2222222222222222,\"#7201a8\"],[0.3333333333333333,\"#9c179e\"],[0.4444444444444444,\"#bd3786\"],[0.5555555555555556,\"#d8576b\"],[0.6666666666666666,\"#ed7953\"],[0.7777777777777778,\"#fb9f3a\"],[0.8888888888888888,\"#fdca26\"],[1.0,\"#f0f921\"]]}],\"surface\":[{\"type\":\"surface\",\"colorbar\":{\"outlinewidth\":0,\"ticks\":\"\"},\"colorscale\":[[0.0,\"#0d0887\"],[0.1111111111111111,\"#46039f\"],[0.2222222222222222,\"#7201a8\"],[0.3333333333333333,\"#9c179e\"],[0.4444444444444444,\"#bd3786\"],[0.5555555555555556,\"#d8576b\"],[0.6666666666666666,\"#ed7953\"],[0.7777777777777778,\"#fb9f3a\"],[0.8888888888888888,\"#fdca26\"],[1.0,\"#f0f921\"]]}],\"mesh3d\":[{\"type\":\"mesh3d\",\"colorbar\":{\"outlinewidth\":0,\"ticks\":\"\"}}],\"scatter\":[{\"marker\":{\"line\":{\"color\":\"#283442\"}},\"type\":\"scatter\"}],\"parcoords\":[{\"type\":\"parcoords\",\"line\":{\"colorbar\":{\"outlinewidth\":0,\"ticks\":\"\"}}}],\"scatterpolargl\":[{\"type\":\"scatterpolargl\",\"marker\":{\"colorbar\":{\"outlinewidth\":0,\"ticks\":\"\"}}}],\"bar\":[{\"error_x\":{\"color\":\"#f2f5fa\"},\"error_y\":{\"color\":\"#f2f5fa\"},\"marker\":{\"line\":{\"color\":\"rgb(17,17,17)\",\"width\":0.5},\"pattern\":{\"fillmode\":\"overlay\",\"size\":10,\"solidity\":0.2}},\"type\":\"bar\"}],\"scattergeo\":[{\"type\":\"scattergeo\",\"marker\":{\"colorbar\":{\"outlinewidth\":0,\"ticks\":\"\"}}}],\"scatterpolar\":[{\"type\":\"scatterpolar\",\"marker\":{\"colorbar\":{\"outlinewidth\":0,\"ticks\":\"\"}}}],\"histogram\":[{\"marker\":{\"pattern\":{\"fillmode\":\"overlay\",\"size\":10,\"solidity\":0.2}},\"type\":\"histogram\"}],\"scattergl\":[{\"marker\":{\"line\":{\"color\":\"#283442\"}},\"type\":\"scattergl\"}],\"scatter3d\":[{\"type\":\"scatter3d\",\"line\":{\"colorbar\":{\"outlinewidth\":0,\"ticks\":\"\"}},\"marker\":{\"colorbar\":{\"outlinewidth\":0,\"ticks\":\"\"}}}],\"scattermapbox\":[{\"type\":\"scattermapbox\",\"marker\":{\"colorbar\":{\"outlinewidth\":0,\"ticks\":\"\"}}}],\"scatterternary\":[{\"type\":\"scatterternary\",\"marker\":{\"colorbar\":{\"outlinewidth\":0,\"ticks\":\"\"}}}],\"scattercarpet\":[{\"type\":\"scattercarpet\",\"marker\":{\"colorbar\":{\"outlinewidth\":0,\"ticks\":\"\"}}}],\"carpet\":[{\"aaxis\":{\"endlinecolor\":\"#A2B1C6\",\"gridcolor\":\"#506784\",\"linecolor\":\"#506784\",\"minorgridcolor\":\"#506784\",\"startlinecolor\":\"#A2B1C6\"},\"baxis\":{\"endlinecolor\":\"#A2B1C6\",\"gridcolor\":\"#506784\",\"linecolor\":\"#506784\",\"minorgridcolor\":\"#506784\",\"startlinecolor\":\"#A2B1C6\"},\"type\":\"carpet\"}],\"table\":[{\"cells\":{\"fill\":{\"color\":\"#506784\"},\"line\":{\"color\":\"rgb(17,17,17)\"}},\"header\":{\"fill\":{\"color\":\"#2a3f5f\"},\"line\":{\"color\":\"rgb(17,17,17)\"}},\"type\":\"table\"}],\"barpolar\":[{\"marker\":{\"line\":{\"color\":\"rgb(17,17,17)\",\"width\":0.5},\"pattern\":{\"fillmode\":\"overlay\",\"size\":10,\"solidity\":0.2}},\"type\":\"barpolar\"}],\"pie\":[{\"automargin\":true,\"type\":\"pie\"}]},\"layout\":{\"autotypenumbers\":\"strict\",\"colorway\":[\"#636efa\",\"#EF553B\",\"#00cc96\",\"#ab63fa\",\"#FFA15A\",\"#19d3f3\",\"#FF6692\",\"#B6E880\",\"#FF97FF\",\"#FECB52\"],\"font\":{\"color\":\"#f2f5fa\"},\"hovermode\":\"closest\",\"hoverlabel\":{\"align\":\"left\"},\"paper_bgcolor\":\"rgb(17,17,17)\",\"plot_bgcolor\":\"rgb(17,17,17)\",\"polar\":{\"bgcolor\":\"rgb(17,17,17)\",\"angularaxis\":{\"gridcolor\":\"#506784\",\"linecolor\":\"#506784\",\"ticks\":\"\"},\"radialaxis\":{\"gridcolor\":\"#506784\",\"linecolor\":\"#506784\",\"ticks\":\"\"}},\"ternary\":{\"bgcolor\":\"rgb(17,17,17)\",\"aaxis\":{\"gridcolor\":\"#506784\",\"linecolor\":\"#506784\",\"ticks\":\"\"},\"baxis\":{\"gridcolor\":\"#506784\",\"linecolor\":\"#506784\",\"ticks\":\"\"},\"caxis\":{\"gridcolor\":\"#506784\",\"linecolor\":\"#506784\",\"ticks\":\"\"}},\"coloraxis\":{\"colorbar\":{\"outlinewidth\":0,\"ticks\":\"\"}},\"colorscale\":{\"sequential\":[[0.0,\"#0d0887\"],[0.1111111111111111,\"#46039f\"],[0.2222222222222222,\"#7201a8\"],[0.3333333333333333,\"#9c179e\"],[0.4444444444444444,\"#bd3786\"],[0.5555555555555556,\"#d8576b\"],[0.6666666666666666,\"#ed7953\"],[0.7777777777777778,\"#fb9f3a\"],[0.8888888888888888,\"#fdca26\"],[1.0,\"#f0f921\"]],\"sequentialminus\":[[0.0,\"#0d0887\"],[0.1111111111111111,\"#46039f\"],[0.2222222222222222,\"#7201a8\"],[0.3333333333333333,\"#9c179e\"],[0.4444444444444444,\"#bd3786\"],[0.5555555555555556,\"#d8576b\"],[0.6666666666666666,\"#ed7953\"],[0.7777777777777778,\"#fb9f3a\"],[0.8888888888888888,\"#fdca26\"],[1.0,\"#f0f921\"]],\"diverging\":[[0,\"#8e0152\"],[0.1,\"#c51b7d\"],[0.2,\"#de77ae\"],[0.3,\"#f1b6da\"],[0.4,\"#fde0ef\"],[0.5,\"#f7f7f7\"],[0.6,\"#e6f5d0\"],[0.7,\"#b8e186\"],[0.8,\"#7fbc41\"],[0.9,\"#4d9221\"],[1,\"#276419\"]]},\"xaxis\":{\"gridcolor\":\"#283442\",\"linecolor\":\"#506784\",\"ticks\":\"\",\"title\":{\"standoff\":15},\"zerolinecolor\":\"#283442\",\"automargin\":true,\"zerolinewidth\":2},\"yaxis\":{\"gridcolor\":\"#283442\",\"linecolor\":\"#506784\",\"ticks\":\"\",\"title\":{\"standoff\":15},\"zerolinecolor\":\"#283442\",\"automargin\":true,\"zerolinewidth\":2},\"scene\":{\"xaxis\":{\"backgroundcolor\":\"rgb(17,17,17)\",\"gridcolor\":\"#506784\",\"linecolor\":\"#506784\",\"showbackground\":true,\"ticks\":\"\",\"zerolinecolor\":\"#C8D4E3\",\"gridwidth\":2},\"yaxis\":{\"backgroundcolor\":\"rgb(17,17,17)\",\"gridcolor\":\"#506784\",\"linecolor\":\"#506784\",\"showbackground\":true,\"ticks\":\"\",\"zerolinecolor\":\"#C8D4E3\",\"gridwidth\":2},\"zaxis\":{\"backgroundcolor\":\"rgb(17,17,17)\",\"gridcolor\":\"#506784\",\"linecolor\":\"#506784\",\"showbackground\":true,\"ticks\":\"\",\"zerolinecolor\":\"#C8D4E3\",\"gridwidth\":2}},\"shapedefaults\":{\"line\":{\"color\":\"#f2f5fa\"}},\"annotationdefaults\":{\"arrowcolor\":\"#f2f5fa\",\"arrowhead\":0,\"arrowwidth\":1},\"geo\":{\"bgcolor\":\"rgb(17,17,17)\",\"landcolor\":\"rgb(17,17,17)\",\"subunitcolor\":\"#506784\",\"showland\":true,\"showlakes\":true,\"lakecolor\":\"rgb(17,17,17)\"},\"title\":{\"x\":0.05},\"updatemenudefaults\":{\"bgcolor\":\"#506784\",\"borderwidth\":0},\"sliderdefaults\":{\"bgcolor\":\"#C8D4E3\",\"borderwidth\":1,\"bordercolor\":\"rgb(17,17,17)\",\"tickwidth\":0},\"mapbox\":{\"style\":\"dark\"}}},\"title\":{\"text\":\"Polynomial Regression of degree 45 (R2=0.999879)\"},\"xaxis\":{\"title\":{\"text\":\"L\"}},\"yaxis\":{\"title\":{\"text\":\"Intensity2\"}},\"legend\":{\"yanchor\":\"top\",\"y\":0.99,\"xanchor\":\"left\",\"x\":0.0}},                        {\"responsive\": true}                    ).then(function(){\n                            \nvar gd = document.getElementById('e8df71ce-c1a5-4658-bd8f-c4231e7a260c');\nvar x = new MutationObserver(function (mutations, observer) {{\n        var display = window.getComputedStyle(gd).display;\n        if (!display || display === 'none') {{\n            console.log([gd, 'removed!']);\n            Plotly.purge(gd);\n            observer.disconnect();\n        }}\n}});\n\n// Listen for the removal of the full notebook cells\nvar notebookContainer = gd.closest('#notebook-container');\nif (notebookContainer) {{\n    x.observe(notebookContainer, {childList: true});\n}}\n\n// Listen for the clearing of the current output cell\nvar outputEl = gd.closest('.output');\nif (outputEl) {{\n    x.observe(outputEl, {childList: true});\n}}\n\n                        })                };                });            </script>        </div>"
     },
     "metadata": {},
     "output_type": "display_data"
    }
   ],
   "source": [
    "reg = LinearRegression().fit(X, param_1)\n",
    "fig.add_trace(go.Scatter(x=param2, y=reg.predict(X), mode='lines', name='regression', line=dict(color='red', width=1)))\n",
    "fig.update_layout(title='Polynomial Regression of degree {} (R2={:.6f})'.format(best_degree, max_r2),\n",
    "                  xaxis_title=x_label, yaxis_title=y_label)\n",
    "fig.update_layout(legend=dict(yanchor=\"top\", y=0.99, xanchor=\"left\", x=0.0))\n",
    "fig.show()\n",
    "\n",
    "#########################################################################################\n",
    "\n",
    "value = float(input('Enter an x-coordinate: '))  # user enters x coordinates\n",
    "value_2 = float(input('Enter an x-coordinate: '))\n",
    "\n",
    "idx = data.loc[data['L'] == value].index[0]  # determines the index of the x coordinate in the data\n",
    "idx_2 = data.loc[data['L'] == value_2].index[0]\n",
    "\n",
    "x_0 = param2.iloc[idx]  # extracts the exact x coordinate from the data\n",
    "y_0 = param1.iloc[idx]\n",
    "\n",
    "x_1 = param2.iloc[idx_2]\n",
    "y_1 = param1.iloc[idx_2]\n",
    "\n",
    "y_1 = reg.predict(poly.fit_transform(scaler.transform(np.array(value).reshape(-1,\n",
    "                                                                              1))))  # predicting the y value for the user-provided x coordinate using the previously trained model\n",
    "# firstly reshaped to 2D array (same shape as training data), and then standardised, then transformed into a polynomial feature matrix, then y value predicted.\n",
    "y_2 = reg.predict(poly.fit_transform(scaler.transform(np.array(value_2).reshape(-1, 1))))\n",
    "\n",
    "# calculations for a straight line between the two points\n",
    "x = [x_0, x_1]\n",
    "\n",
    "m = (y_2 - y_1) / (x_1 - x_0)\n",
    "b = y_1 - m * x_1\n",
    "m = np.isscalar(m)\n",
    "b = np.isscalar(b)\n",
    "\n",
    "y = [y_1[0], y_2[0]]\n",
    "'''\n",
    "y = [m * xi + b for xi in x]\n",
    "'''\n",
    "\n",
    "fig.add_trace(\n",
    "    go.Scatter(x=x, y=y, mode='lines', name='Line between selected Potentials', line=dict(color='green', width=1)))\n",
    "fig.update_layout(title='Polynomial Regression of degree {} (R2={:.6f})'.format(best_degree, max_r2),\n",
    "                  xaxis_title=x_label, yaxis_title=y_label)\n",
    "fig.update_layout(legend=dict(yanchor=\"top\", y=0.99, xanchor=\"left\", x=0.0))\n",
    "\n",
    "\n",
    "fig.show()"
   ]
  },
  {
   "cell_type": "code",
   "execution_count": 17,
   "id": "f1a8a49c",
   "metadata": {
    "ExecuteTime": {
     "end_time": "2023-05-26T08:53:32.450107600Z",
     "start_time": "2023-05-26T08:53:32.400057500Z"
    }
   },
   "outputs": [],
   "source": [
    "y_pred = reg.predict(X)\n",
    "\n",
    "x = np.linspace(x_0, x_1,\n",
    "                len(y_pred))  # creates an array, x, containing a sequence of evenly spaced numbers between x_0 and x_1 with the same length as y_pred\n",
    "\n",
    "\n",
    "def line(x, m, b):\n",
    "    return [m * i + b for i in\n",
    "            x]  # defines a function line that takes x, m and b as arguments and returns an array where each element is a value of the equation\n",
    "    # for each element i in the array x\n",
    "\n",
    "\n",
    "y_line = line(x, m,\n",
    "              b)  # calls the line function and assigns the result to y_line. produces an array that represents the line of best fit\n",
    "\n",
    "\n",
    "# Define the line function\n",
    "def line_2(x, m, b):\n",
    "    return m * x + b\n",
    "\n",
    "\n",
    "# Compute the coefficients of the line of best fit\n",
    "m = (y_1 - y_2) / (x_1 - x_0)\n",
    "b = y_1 - m * x_1\n",
    "\n",
    "# Compute the integral of the line of best fit between x_0 and x_1\n",
    "area_2 = fixed_quad(lambda x: line_2(x, m, b), x_0, x_1, n=1000)[0]\n",
    "\n",
    "# convesrion into arrays\n",
    "volts = np.array(volts)\n",
    "y_pred = np.array(y_pred)\n",
    "y_line = np.array(y_line)\n",
    "\n",
    "# converts into 1D arrays\n",
    "volts_flat = volts.flatten()\n",
    "y_pred_flat = y_pred.flatten()\n",
    "y_line_flat = y_line.flatten()\n",
    "\n",
    "# calculate the area\n",
    "# area = fixed_quad(lambda x: abs(np.interp(x, volts, y_pred) - np.interp(x, volts, y_line)), x_0, x_1, n=1000)\n",
    "area = fixed_quad(lambda x: abs(np.interp(x.flatten(), param2, y_pred_flat)), x_0, x_1, n=1000)\n",
    "\n",
    "area_calc = area[0] - area_2\n"
   ]
  },
  {
   "cell_type": "code",
   "execution_count": 18,
   "id": "9dcf7fa0",
   "metadata": {
    "ExecuteTime": {
     "end_time": "2023-05-26T08:53:32.510870300Z",
     "start_time": "2023-05-26T08:53:32.450107600Z"
    }
   },
   "outputs": [
    {
     "name": "stdout",
     "output_type": "stream",
     "text": [
      "The area of the specified region is 4629.91519055565\n"
     ]
    },
    {
     "data": {
      "text/plain": "          Area  Current (A)   Charge (C)  Number of Electrons\n0  4629.915191   145.827775  4629.915191         1.444854e+22",
      "text/html": "<div>\n<style scoped>\n    .dataframe tbody tr th:only-of-type {\n        vertical-align: middle;\n    }\n\n    .dataframe tbody tr th {\n        vertical-align: top;\n    }\n\n    .dataframe thead th {\n        text-align: right;\n    }\n</style>\n<table border=\"1\" class=\"dataframe\">\n  <thead>\n    <tr style=\"text-align: right;\">\n      <th></th>\n      <th>Area</th>\n      <th>Current (A)</th>\n      <th>Charge (C)</th>\n      <th>Number of Electrons</th>\n    </tr>\n  </thead>\n  <tbody>\n    <tr>\n      <th>0</th>\n      <td>4629.915191</td>\n      <td>145.827775</td>\n      <td>4629.915191</td>\n      <td>1.444854e+22</td>\n    </tr>\n  </tbody>\n</table>\n</div>"
     },
     "metadata": {},
     "output_type": "display_data"
    }
   ],
   "source": [
    "print(f'The area of the specified region is {area_calc}')\n",
    "\n",
    "charge_C = area_calc\n",
    "first = param2.iloc[0]\n",
    "last = param2.iloc[-1]\n",
    "E_range = last-first\n",
    "scan_rate = 0.050\n",
    "t = (2*E_range)/ scan_rate\n",
    "I = charge_C/t\n",
    "F = 96485\n",
    "moles_elec = 2\n",
    "num_elec_mol = charge_C/(F*2)\n",
    "Avogadro = 6.022E23\n",
    "num_elec = num_elec_mol*Avogadro\n",
    "\n",
    "calcs = {'Area': [area_calc],\n",
    "         'Current (A)': [I],\n",
    "        'Charge (C)': [charge_C],\n",
    "        'Number of Electrons': [num_elec]}\n",
    "\n",
    "calculations = pd.DataFrame(calcs)\n",
    "display(calculations)\n"
   ]
  },
  {
   "cell_type": "markdown",
   "id": "855bdce1",
   "metadata": {},
   "source": [
    "# Results and corresponding parameters in the following file:"
   ]
  },
  {
   "cell_type": "code",
   "execution_count": 19,
   "id": "e6be723b",
   "metadata": {
    "ExecuteTime": {
     "end_time": "2023-05-26T08:53:32.549019100Z",
     "start_time": "2023-05-26T08:53:32.489641100Z"
    }
   },
   "outputs": [],
   "source": [
    "results_filename = 'Electrochemical_stripping_data.csv'\n",
    "if os.path.isfile(results_filename):\n",
    "    with open(results_filename, 'a', newline='') as file:\n",
    "        writer = csv.writer(file)\n",
    "        writer.writerow([filename, value, value_2, area_calc, charge_C, num_elec])\n",
    "else:\n",
    "    with open(results_filename, 'w', newline='') as file_2:\n",
    "        writer = csv.writer(file_2)\n",
    "        writer.writerow(['Filename', 'x_coordinate_1', 'x_coordinate_2', 'Area', 'Charge (C)', 'Number of electrons'])\n",
    "        writer.writerow([filename, value, value_2, area_calc, charge_C, num_elec])"
   ]
  },
  {
   "cell_type": "code",
   "execution_count": 21,
   "id": "c236cabe",
   "metadata": {
    "ExecuteTime": {
     "end_time": "2023-05-26T08:54:21.256176200Z",
     "start_time": "2023-05-26T08:54:21.222846700Z"
    }
   },
   "outputs": [
    {
     "data": {
      "text/plain": "                          Filename  x_coordinate_1  x_coordinate_2  \\\n34  data/integration_test_data.csv        -1.00000         1.00000   \n35        data/Cd_strip_8_eald.csv        -0.80030        -0.60030   \n36               ../data/30cyc.csv         1.94721         2.24586   \n37               ../data/30cyc.csv         1.94721         2.25372   \n38               ../data/30cyc.csv         1.94721         2.25372   \n\n           Area   Charge (C)  Number of electrons  \n34    -1.329999    -1.329999        -4.150518e+18  \n35     0.181330     0.009066         5.659477e+16  \n36  4598.231279   229.911564         1.435153e+21  \n37  4629.915191   231.495760         1.445042e+21  \n38  4629.915191  4629.915191         1.444854e+22  ",
      "text/html": "<div>\n<style scoped>\n    .dataframe tbody tr th:only-of-type {\n        vertical-align: middle;\n    }\n\n    .dataframe tbody tr th {\n        vertical-align: top;\n    }\n\n    .dataframe thead th {\n        text-align: right;\n    }\n</style>\n<table border=\"1\" class=\"dataframe\">\n  <thead>\n    <tr style=\"text-align: right;\">\n      <th></th>\n      <th>Filename</th>\n      <th>x_coordinate_1</th>\n      <th>x_coordinate_2</th>\n      <th>Area</th>\n      <th>Charge (C)</th>\n      <th>Number of electrons</th>\n    </tr>\n  </thead>\n  <tbody>\n    <tr>\n      <th>34</th>\n      <td>data/integration_test_data.csv</td>\n      <td>-1.00000</td>\n      <td>1.00000</td>\n      <td>-1.329999</td>\n      <td>-1.329999</td>\n      <td>-4.150518e+18</td>\n    </tr>\n    <tr>\n      <th>35</th>\n      <td>data/Cd_strip_8_eald.csv</td>\n      <td>-0.80030</td>\n      <td>-0.60030</td>\n      <td>0.181330</td>\n      <td>0.009066</td>\n      <td>5.659477e+16</td>\n    </tr>\n    <tr>\n      <th>36</th>\n      <td>../data/30cyc.csv</td>\n      <td>1.94721</td>\n      <td>2.24586</td>\n      <td>4598.231279</td>\n      <td>229.911564</td>\n      <td>1.435153e+21</td>\n    </tr>\n    <tr>\n      <th>37</th>\n      <td>../data/30cyc.csv</td>\n      <td>1.94721</td>\n      <td>2.25372</td>\n      <td>4629.915191</td>\n      <td>231.495760</td>\n      <td>1.445042e+21</td>\n    </tr>\n    <tr>\n      <th>38</th>\n      <td>../data/30cyc.csv</td>\n      <td>1.94721</td>\n      <td>2.25372</td>\n      <td>4629.915191</td>\n      <td>4629.915191</td>\n      <td>1.444854e+22</td>\n    </tr>\n  </tbody>\n</table>\n</div>"
     },
     "execution_count": 21,
     "metadata": {},
     "output_type": "execute_result"
    }
   ],
   "source": [
    "df = pd.read_csv('Electrochemical_stripping_data.csv')\n",
    "df.tail()"
   ]
  },
  {
   "cell_type": "code",
   "execution_count": 20,
   "id": "dcf884b9",
   "metadata": {
    "ExecuteTime": {
     "end_time": "2023-05-26T08:53:32.617197Z",
     "start_time": "2023-05-26T08:53:32.533396100Z"
    }
   },
   "outputs": [],
   "source": []
  }
 ],
 "metadata": {
  "kernelspec": {
   "display_name": "Python 3 (ipykernel)",
   "language": "python",
   "name": "python3"
  },
  "language_info": {
   "codemirror_mode": {
    "name": "ipython",
    "version": 3
   },
   "file_extension": ".py",
   "mimetype": "text/x-python",
   "name": "python",
   "nbconvert_exporter": "python",
   "pygments_lexer": "ipython3",
   "version": "3.9.12"
  }
 },
 "nbformat": 4,
 "nbformat_minor": 5
}
